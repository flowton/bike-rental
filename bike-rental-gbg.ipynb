{
 "cells": [
  {
   "cell_type": "markdown",
   "metadata": {
    "pycharm": {
     "name": "#%% md\n"
    }
   },
   "source": [
    "# Bike Rental Gothenburg\n",
    "\n",
    "* Exploration of Bike Rental in Gothenburg"
   ]
  },
  {
   "cell_type": "code",
   "execution_count": 1,
   "metadata": {
    "pycharm": {
     "name": "#%%\n"
    }
   },
   "outputs": [],
   "source": [
    "#Imports\n",
    "import pandas as pd\n",
    "import numpy as np\n",
    "import seaborn as sns\n",
    "import matplotlib.pyplot as plt\n",
    "from matplotlib_venn import venn2, venn2_circles\n",
    "from sklearn.cluster import KMeans"
   ]
  },
  {
   "cell_type": "markdown",
   "metadata": {},
   "source": [
    "## Explore data columns"
   ]
  },
  {
   "cell_type": "code",
   "execution_count": 2,
   "metadata": {
    "pycharm": {
     "name": "#%%\n"
    }
   },
   "outputs": [],
   "source": [
    "#Data import\n",
    "df = pd.read_excel('bike-rental-gbg-travel-2020.xlsx')\n",
    "df = df.rename(columns = {\"Start time\": \"start_time\", \"End time\": \"end_time\", \"Duration\" : \"duration\",\n",
    "                              \"Start station number\" : \"start_station_num\", \"Rental place\" : \"start_station_name\",\n",
    "                              \"End station number\" : \"end_station_num\", \"Return place\" : \"end_station_name\",\n",
    "                              \"Bike number\" : \"bike_number\"})"
   ]
  },
  {
   "cell_type": "code",
   "execution_count": 3,
   "metadata": {
    "pycharm": {
     "name": "#%%\n"
    }
   },
   "outputs": [
    {
     "name": "stdout",
     "output_type": "stream",
     "text": [
      "shape: (190288, 8)\n",
      "start_time            datetime64[ns]\n",
      "end_time              datetime64[ns]\n",
      "duration                       int64\n",
      "start_station_num            float64\n",
      "start_station_name            object\n",
      "end_station_num              float64\n",
      "end_station_name              object\n",
      "bike_number                    int64\n",
      "dtype: object\n"
     ]
    },
    {
     "data": {
      "text/html": [
       "<div>\n",
       "<style scoped>\n",
       "    .dataframe tbody tr th:only-of-type {\n",
       "        vertical-align: middle;\n",
       "    }\n",
       "\n",
       "    .dataframe tbody tr th {\n",
       "        vertical-align: top;\n",
       "    }\n",
       "\n",
       "    .dataframe thead th {\n",
       "        text-align: right;\n",
       "    }\n",
       "</style>\n",
       "<table border=\"1\" class=\"dataframe\">\n",
       "  <thead>\n",
       "    <tr style=\"text-align: right;\">\n",
       "      <th></th>\n",
       "      <th>start_time</th>\n",
       "      <th>end_time</th>\n",
       "      <th>duration</th>\n",
       "      <th>start_station_num</th>\n",
       "      <th>start_station_name</th>\n",
       "      <th>end_station_num</th>\n",
       "      <th>end_station_name</th>\n",
       "      <th>bike_number</th>\n",
       "    </tr>\n",
       "  </thead>\n",
       "  <tbody>\n",
       "    <tr>\n",
       "      <th>0</th>\n",
       "      <td>2020-06-10 06:17:03</td>\n",
       "      <td>2020-06-10 06:30:06</td>\n",
       "      <td>14</td>\n",
       "      <td>41189.0</td>\n",
       "      <td>Domkyrkan</td>\n",
       "      <td>41189.0</td>\n",
       "      <td>Domkyrkan</td>\n",
       "      <td>710161</td>\n",
       "    </tr>\n",
       "    <tr>\n",
       "      <th>1</th>\n",
       "      <td>2020-06-10 06:30:36</td>\n",
       "      <td>2020-06-10 06:31:49</td>\n",
       "      <td>2</td>\n",
       "      <td>41189.0</td>\n",
       "      <td>Domkyrkan</td>\n",
       "      <td>41189.0</td>\n",
       "      <td>Domkyrkan</td>\n",
       "      <td>710939</td>\n",
       "    </tr>\n",
       "    <tr>\n",
       "      <th>2</th>\n",
       "      <td>2020-06-10 06:34:57</td>\n",
       "      <td>2020-06-10 06:36:43</td>\n",
       "      <td>2</td>\n",
       "      <td>41189.0</td>\n",
       "      <td>Domkyrkan</td>\n",
       "      <td>41189.0</td>\n",
       "      <td>Domkyrkan</td>\n",
       "      <td>710067</td>\n",
       "    </tr>\n",
       "    <tr>\n",
       "      <th>3</th>\n",
       "      <td>2020-06-10 06:37:54</td>\n",
       "      <td>2020-06-10 06:39:01</td>\n",
       "      <td>2</td>\n",
       "      <td>41189.0</td>\n",
       "      <td>Domkyrkan</td>\n",
       "      <td>41189.0</td>\n",
       "      <td>Domkyrkan</td>\n",
       "      <td>710817</td>\n",
       "    </tr>\n",
       "    <tr>\n",
       "      <th>4</th>\n",
       "      <td>2020-06-10 06:46:44</td>\n",
       "      <td>2020-06-10 07:00:44</td>\n",
       "      <td>14</td>\n",
       "      <td>41184.0</td>\n",
       "      <td>Östra Hamngatan/Kronhusgatan</td>\n",
       "      <td>41174.0</td>\n",
       "      <td>Masthuggstorget</td>\n",
       "      <td>710914</td>\n",
       "    </tr>\n",
       "  </tbody>\n",
       "</table>\n",
       "</div>"
      ],
      "text/plain": [
       "           start_time            end_time  duration  start_station_num  \\\n",
       "0 2020-06-10 06:17:03 2020-06-10 06:30:06        14            41189.0   \n",
       "1 2020-06-10 06:30:36 2020-06-10 06:31:49         2            41189.0   \n",
       "2 2020-06-10 06:34:57 2020-06-10 06:36:43         2            41189.0   \n",
       "3 2020-06-10 06:37:54 2020-06-10 06:39:01         2            41189.0   \n",
       "4 2020-06-10 06:46:44 2020-06-10 07:00:44        14            41184.0   \n",
       "\n",
       "             start_station_name  end_station_num end_station_name  bike_number  \n",
       "0                     Domkyrkan          41189.0        Domkyrkan       710161  \n",
       "1                     Domkyrkan          41189.0        Domkyrkan       710939  \n",
       "2                     Domkyrkan          41189.0        Domkyrkan       710067  \n",
       "3                     Domkyrkan          41189.0        Domkyrkan       710817  \n",
       "4  Östra Hamngatan/Kronhusgatan          41174.0  Masthuggstorget       710914  "
      ]
     },
     "execution_count": 3,
     "metadata": {},
     "output_type": "execute_result"
    }
   ],
   "source": [
    "#Quick check of data\n",
    "print('shape: '+  str(df.shape))\n",
    "print(df.dtypes)\n",
    "df.head()"
   ]
  },
  {
   "cell_type": "code",
   "execution_count": 4,
   "metadata": {
    "pycharm": {
     "name": "#%% Quick explore of columns\n"
    }
   },
   "outputs": [
    {
     "data": {
      "text/html": [
       "<div>\n",
       "<style scoped>\n",
       "    .dataframe tbody tr th:only-of-type {\n",
       "        vertical-align: middle;\n",
       "    }\n",
       "\n",
       "    .dataframe tbody tr th {\n",
       "        vertical-align: top;\n",
       "    }\n",
       "\n",
       "    .dataframe thead th {\n",
       "        text-align: right;\n",
       "    }\n",
       "</style>\n",
       "<table border=\"1\" class=\"dataframe\">\n",
       "  <thead>\n",
       "    <tr style=\"text-align: right;\">\n",
       "      <th></th>\n",
       "      <th>duration</th>\n",
       "      <th>start_station_num</th>\n",
       "      <th>end_station_num</th>\n",
       "      <th>bike_number</th>\n",
       "    </tr>\n",
       "  </thead>\n",
       "  <tbody>\n",
       "    <tr>\n",
       "      <th>count</th>\n",
       "      <td>190288.000000</td>\n",
       "      <td>185180.000000</td>\n",
       "      <td>183586.000000</td>\n",
       "      <td>190288.000000</td>\n",
       "    </tr>\n",
       "    <tr>\n",
       "      <th>mean</th>\n",
       "      <td>38.466698</td>\n",
       "      <td>41168.081434</td>\n",
       "      <td>41166.660366</td>\n",
       "      <td>710995.062090</td>\n",
       "    </tr>\n",
       "    <tr>\n",
       "      <th>std</th>\n",
       "      <td>288.429364</td>\n",
       "      <td>32.306960</td>\n",
       "      <td>31.195141</td>\n",
       "      <td>573.894224</td>\n",
       "    </tr>\n",
       "    <tr>\n",
       "      <th>min</th>\n",
       "      <td>1.000000</td>\n",
       "      <td>40998.000000</td>\n",
       "      <td>40995.000000</td>\n",
       "      <td>710000.000000</td>\n",
       "    </tr>\n",
       "    <tr>\n",
       "      <th>25%</th>\n",
       "      <td>7.000000</td>\n",
       "      <td>41144.000000</td>\n",
       "      <td>41142.000000</td>\n",
       "      <td>710496.000000</td>\n",
       "    </tr>\n",
       "    <tr>\n",
       "      <th>50%</th>\n",
       "      <td>11.000000</td>\n",
       "      <td>41169.000000</td>\n",
       "      <td>41166.000000</td>\n",
       "      <td>710994.000000</td>\n",
       "    </tr>\n",
       "    <tr>\n",
       "      <th>75%</th>\n",
       "      <td>18.000000</td>\n",
       "      <td>41190.000000</td>\n",
       "      <td>41189.000000</td>\n",
       "      <td>711488.000000</td>\n",
       "    </tr>\n",
       "    <tr>\n",
       "      <th>max</th>\n",
       "      <td>43236.000000</td>\n",
       "      <td>41300.000000</td>\n",
       "      <td>41250.000000</td>\n",
       "      <td>711999.000000</td>\n",
       "    </tr>\n",
       "  </tbody>\n",
       "</table>\n",
       "</div>"
      ],
      "text/plain": [
       "            duration  start_station_num  end_station_num    bike_number\n",
       "count  190288.000000      185180.000000    183586.000000  190288.000000\n",
       "mean       38.466698       41168.081434     41166.660366  710995.062090\n",
       "std       288.429364          32.306960        31.195141     573.894224\n",
       "min         1.000000       40998.000000     40995.000000  710000.000000\n",
       "25%         7.000000       41144.000000     41142.000000  710496.000000\n",
       "50%        11.000000       41169.000000     41166.000000  710994.000000\n",
       "75%        18.000000       41190.000000     41189.000000  711488.000000\n",
       "max     43236.000000       41300.000000     41250.000000  711999.000000"
      ]
     },
     "execution_count": 4,
     "metadata": {},
     "output_type": "execute_result"
    }
   ],
   "source": [
    "# Desceribe columns\n",
    "# 192088 total amount of rows\n",
    "# 185180 start station\n",
    "# 183586 end station\n",
    "\n",
    "df.describe()\n"
   ]
  },
  {
   "cell_type": "code",
   "execution_count": 5,
   "metadata": {
    "pycharm": {
     "name": "#%% Bike Numbers\n"
    }
   },
   "outputs": [
    {
     "name": "stdout",
     "output_type": "stream",
     "text": [
      "Lowest bike number: 710000\n",
      "Highest bike numbers: 711999\n",
      "Number of bikes:1995\n"
     ]
    }
   ],
   "source": [
    "#Explore bike numbers\n",
    "bike_numbers = df['bike_number'].unique()\n",
    "print('Lowest bike number: ' + str(bike_numbers.min()))\n",
    "print('Highest bike numbers: ' + str(bike_numbers.max()))\n",
    "print('Number of bikes:' + str(len(bike_numbers)))"
   ]
  },
  {
   "cell_type": "code",
   "execution_count": 6,
   "metadata": {
    "pycharm": {
     "name": "#%% Bike Numbers - Understanding the latest bike and when they arise.\n"
    }
   },
   "outputs": [
    {
     "data": {
      "text/html": [
       "<div>\n",
       "<style scoped>\n",
       "    .dataframe tbody tr th:only-of-type {\n",
       "        vertical-align: middle;\n",
       "    }\n",
       "\n",
       "    .dataframe tbody tr th {\n",
       "        vertical-align: top;\n",
       "    }\n",
       "\n",
       "    .dataframe thead th {\n",
       "        text-align: right;\n",
       "    }\n",
       "</style>\n",
       "<table border=\"1\" class=\"dataframe\">\n",
       "  <thead>\n",
       "    <tr style=\"text-align: right;\">\n",
       "      <th></th>\n",
       "      <th>start_time</th>\n",
       "      <th>end_time</th>\n",
       "      <th>duration</th>\n",
       "      <th>start_station_num</th>\n",
       "      <th>start_station_name</th>\n",
       "      <th>end_station_num</th>\n",
       "      <th>end_station_name</th>\n",
       "      <th>bike_number</th>\n",
       "    </tr>\n",
       "  </thead>\n",
       "  <tbody>\n",
       "    <tr>\n",
       "      <th>169879</th>\n",
       "      <td>2020-11-23 18:42:43</td>\n",
       "      <td>2020-11-23 18:43:46</td>\n",
       "      <td>2</td>\n",
       "      <td>41215.0</td>\n",
       "      <td>Lindholmspiren</td>\n",
       "      <td>41215.0</td>\n",
       "      <td>Lindholmspiren</td>\n",
       "      <td>710927</td>\n",
       "    </tr>\n",
       "  </tbody>\n",
       "</table>\n",
       "</div>"
      ],
      "text/plain": [
       "                start_time            end_time  duration  start_station_num  \\\n",
       "169879 2020-11-23 18:42:43 2020-11-23 18:43:46         2            41215.0   \n",
       "\n",
       "       start_station_name  end_station_num end_station_name  bike_number  \n",
       "169879     Lindholmspiren          41215.0   Lindholmspiren       710927  "
      ]
     },
     "execution_count": 6,
     "metadata": {},
     "output_type": "execute_result"
    }
   ],
   "source": [
    "curr_highest = df['start_time'][0]\n",
    "curr_latest_bike = 71000\n",
    "for num in bike_numbers:\n",
    "    candidate_time = df['start_time'][df['bike_number'] == num].head(1).iloc[0]\n",
    "    if candidate_time > curr_highest:\n",
    "        curr_highest = candidate_time\n",
    "        curr_latest_bike = num\n",
    "\n",
    "df[df['bike_number'] == curr_latest_bike]"
   ]
  },
  {
   "cell_type": "code",
   "execution_count": 7,
   "metadata": {
    "pycharm": {
     "name": "#%% Duration\n"
    }
   },
   "outputs": [
    {
     "data": {
      "text/plain": [
       "161205    43236\n",
       "9348      21599\n",
       "9644      21018\n",
       "8051      17090\n",
       "75834     16580\n",
       "1495      15849\n",
       "8839      15745\n",
       "75753     15431\n",
       "7924      14565\n",
       "75768     14226\n",
       "1593      14133\n",
       "1076      12704\n",
       "10237     12690\n",
       "75792     12682\n",
       "75794     12585\n",
       "10294     12532\n",
       "10295     12530\n",
       "75798     12524\n",
       "75799     12443\n",
       "75800     12420\n",
       "Name: duration, dtype: int64"
      ]
     },
     "execution_count": 7,
     "metadata": {},
     "output_type": "execute_result"
    }
   ],
   "source": [
    "# Duration column\n",
    "# Possibly to remove some data points here that can impact mean.\n",
    "# What are the reasons for such a long period?\n",
    "df['duration'].sort_values(axis = 0, ascending = False).head(20)"
   ]
  },
  {
   "cell_type": "code",
   "execution_count": 8,
   "metadata": {
    "pycharm": {
     "name": "#%% Station name and numbers\n"
    }
   },
   "outputs": [
    {
     "name": "stdout",
     "output_type": "stream",
     "text": [
      "__Minimum stations__ \n",
      "Start station : 40998.0\n",
      "End station: 40995.0\n",
      "\n",
      "__Maximum stations__ \n",
      "Start station : 41300.0\n",
      "End station: 41250.0\n",
      "Intresting stations exist --> workshop outgoing bikes (40998) - workshop needs repair(40999) etc\n"
     ]
    },
    {
     "data": {
      "text/html": [
       "<div>\n",
       "<style scoped>\n",
       "    .dataframe tbody tr th:only-of-type {\n",
       "        vertical-align: middle;\n",
       "    }\n",
       "\n",
       "    .dataframe tbody tr th {\n",
       "        vertical-align: top;\n",
       "    }\n",
       "\n",
       "    .dataframe thead th {\n",
       "        text-align: right;\n",
       "    }\n",
       "</style>\n",
       "<table border=\"1\" class=\"dataframe\">\n",
       "  <thead>\n",
       "    <tr style=\"text-align: right;\">\n",
       "      <th></th>\n",
       "      <th>start_time</th>\n",
       "      <th>end_time</th>\n",
       "      <th>duration</th>\n",
       "      <th>start_station_num</th>\n",
       "      <th>start_station_name</th>\n",
       "      <th>end_station_num</th>\n",
       "      <th>end_station_name</th>\n",
       "      <th>bike_number</th>\n",
       "    </tr>\n",
       "  </thead>\n",
       "  <tbody>\n",
       "    <tr>\n",
       "      <th>203</th>\n",
       "      <td>2020-06-10 17:14:19</td>\n",
       "      <td>2020-06-10 17:42:46</td>\n",
       "      <td>29</td>\n",
       "      <td>40998.0</td>\n",
       "      <td>workshop - outgoing bikes</td>\n",
       "      <td>41178.0</td>\n",
       "      <td>Östra Hamngatan</td>\n",
       "      <td>710584</td>\n",
       "    </tr>\n",
       "    <tr>\n",
       "      <th>690</th>\n",
       "      <td>2020-06-11 21:08:44</td>\n",
       "      <td>2020-06-11 21:12:31</td>\n",
       "      <td>4</td>\n",
       "      <td>40998.0</td>\n",
       "      <td>workshop - outgoing bikes</td>\n",
       "      <td>41107.0</td>\n",
       "      <td>Mölndals bro</td>\n",
       "      <td>710331</td>\n",
       "    </tr>\n",
       "    <tr>\n",
       "      <th>2350</th>\n",
       "      <td>2020-06-15 08:04:56</td>\n",
       "      <td>2020-06-15 08:05:48</td>\n",
       "      <td>1</td>\n",
       "      <td>40999.0</td>\n",
       "      <td>workshop - needs repair</td>\n",
       "      <td>NaN</td>\n",
       "      <td>NaN</td>\n",
       "      <td>710038</td>\n",
       "    </tr>\n",
       "    <tr>\n",
       "      <th>3970</th>\n",
       "      <td>2020-06-18 07:45:35</td>\n",
       "      <td>2020-06-18 07:46:08</td>\n",
       "      <td>1</td>\n",
       "      <td>40998.0</td>\n",
       "      <td>workshop - outgoing bikes</td>\n",
       "      <td>NaN</td>\n",
       "      <td>NaN</td>\n",
       "      <td>710709</td>\n",
       "    </tr>\n",
       "    <tr>\n",
       "      <th>4143</th>\n",
       "      <td>2020-06-18 14:20:15</td>\n",
       "      <td>2020-06-18 14:40:57</td>\n",
       "      <td>21</td>\n",
       "      <td>40998.0</td>\n",
       "      <td>workshop - outgoing bikes</td>\n",
       "      <td>41178.0</td>\n",
       "      <td>Östra Hamngatan</td>\n",
       "      <td>710454</td>\n",
       "    </tr>\n",
       "    <tr>\n",
       "      <th>...</th>\n",
       "      <td>...</td>\n",
       "      <td>...</td>\n",
       "      <td>...</td>\n",
       "      <td>...</td>\n",
       "      <td>...</td>\n",
       "      <td>...</td>\n",
       "      <td>...</td>\n",
       "      <td>...</td>\n",
       "    </tr>\n",
       "    <tr>\n",
       "      <th>184878</th>\n",
       "      <td>2020-12-16 14:57:16</td>\n",
       "      <td>2020-12-16 14:58:05</td>\n",
       "      <td>1</td>\n",
       "      <td>40999.0</td>\n",
       "      <td>workshop - needs repair</td>\n",
       "      <td>41204.0</td>\n",
       "      <td>Vasagatan/Schillerska</td>\n",
       "      <td>710603</td>\n",
       "    </tr>\n",
       "    <tr>\n",
       "      <th>185456</th>\n",
       "      <td>2020-12-17 12:52:28</td>\n",
       "      <td>2020-12-17 12:53:56</td>\n",
       "      <td>2</td>\n",
       "      <td>40999.0</td>\n",
       "      <td>workshop - needs repair</td>\n",
       "      <td>NaN</td>\n",
       "      <td>NaN</td>\n",
       "      <td>710339</td>\n",
       "    </tr>\n",
       "    <tr>\n",
       "      <th>185483</th>\n",
       "      <td>2020-12-17 14:59:09</td>\n",
       "      <td>2020-12-17 15:34:38</td>\n",
       "      <td>36</td>\n",
       "      <td>40999.0</td>\n",
       "      <td>workshop - needs repair</td>\n",
       "      <td>41131.0</td>\n",
       "      <td>Valand</td>\n",
       "      <td>711236</td>\n",
       "    </tr>\n",
       "    <tr>\n",
       "      <th>185499</th>\n",
       "      <td>2020-12-17 15:40:48</td>\n",
       "      <td>2020-12-23 09:55:04</td>\n",
       "      <td>8295</td>\n",
       "      <td>40998.0</td>\n",
       "      <td>workshop - outgoing bikes</td>\n",
       "      <td>40998.0</td>\n",
       "      <td>workshop - outgoing bikes</td>\n",
       "      <td>710386</td>\n",
       "    </tr>\n",
       "    <tr>\n",
       "      <th>185832</th>\n",
       "      <td>2020-12-18 08:22:13</td>\n",
       "      <td>2020-12-18 08:36:48</td>\n",
       "      <td>15</td>\n",
       "      <td>40998.0</td>\n",
       "      <td>workshop - outgoing bikes</td>\n",
       "      <td>NaN</td>\n",
       "      <td>NaN</td>\n",
       "      <td>710396</td>\n",
       "    </tr>\n",
       "  </tbody>\n",
       "</table>\n",
       "<p>197 rows × 8 columns</p>\n",
       "</div>"
      ],
      "text/plain": [
       "                start_time            end_time  duration  start_station_num  \\\n",
       "203    2020-06-10 17:14:19 2020-06-10 17:42:46        29            40998.0   \n",
       "690    2020-06-11 21:08:44 2020-06-11 21:12:31         4            40998.0   \n",
       "2350   2020-06-15 08:04:56 2020-06-15 08:05:48         1            40999.0   \n",
       "3970   2020-06-18 07:45:35 2020-06-18 07:46:08         1            40998.0   \n",
       "4143   2020-06-18 14:20:15 2020-06-18 14:40:57        21            40998.0   \n",
       "...                    ...                 ...       ...                ...   \n",
       "184878 2020-12-16 14:57:16 2020-12-16 14:58:05         1            40999.0   \n",
       "185456 2020-12-17 12:52:28 2020-12-17 12:53:56         2            40999.0   \n",
       "185483 2020-12-17 14:59:09 2020-12-17 15:34:38        36            40999.0   \n",
       "185499 2020-12-17 15:40:48 2020-12-23 09:55:04      8295            40998.0   \n",
       "185832 2020-12-18 08:22:13 2020-12-18 08:36:48        15            40998.0   \n",
       "\n",
       "               start_station_name  end_station_num           end_station_name  \\\n",
       "203     workshop - outgoing bikes          41178.0            Östra Hamngatan   \n",
       "690     workshop - outgoing bikes          41107.0               Mölndals bro   \n",
       "2350      workshop - needs repair              NaN                        NaN   \n",
       "3970    workshop - outgoing bikes              NaN                        NaN   \n",
       "4143    workshop - outgoing bikes          41178.0            Östra Hamngatan   \n",
       "...                           ...              ...                        ...   \n",
       "184878    workshop - needs repair          41204.0      Vasagatan/Schillerska   \n",
       "185456    workshop - needs repair              NaN                        NaN   \n",
       "185483    workshop - needs repair          41131.0                     Valand   \n",
       "185499  workshop - outgoing bikes          40998.0  workshop - outgoing bikes   \n",
       "185832  workshop - outgoing bikes              NaN                        NaN   \n",
       "\n",
       "        bike_number  \n",
       "203          710584  \n",
       "690          710331  \n",
       "2350         710038  \n",
       "3970         710709  \n",
       "4143         710454  \n",
       "...             ...  \n",
       "184878       710603  \n",
       "185456       710339  \n",
       "185483       711236  \n",
       "185499       710386  \n",
       "185832       710396  \n",
       "\n",
       "[197 rows x 8 columns]"
      ]
     },
     "execution_count": 8,
     "metadata": {},
     "output_type": "execute_result"
    }
   ],
   "source": [
    "# Station column\n",
    "# How many stations have been started from or ended to only?\n",
    "# How can this be?\n",
    "\n",
    "print('__Minimum stations__ \\n' + 'Start station : ' +  str(df['start_station_num'].min()) +\n",
    "      '\\nEnd station: ' + str(df['end_station_num'].min()))\n",
    "\n",
    "print('\\n__Maximum stations__ \\n' + 'Start station : ' +  str(df['start_station_num'].max()) +\n",
    "      '\\nEnd station: ' + str(df['end_station_num'].max()))\n",
    "\n",
    "print('Intresting stations exist --> workshop outgoing bikes (40998) - workshop needs repair(40999) etc')\n",
    "df[df['start_station_num'] < 41000]\n"
   ]
  },
  {
   "cell_type": "code",
   "execution_count": 9,
   "metadata": {
    "pycharm": {
     "name": "#%%\n"
    }
   },
   "outputs": [
    {
     "data": {
      "text/html": [
       "<div>\n",
       "<style scoped>\n",
       "    .dataframe tbody tr th:only-of-type {\n",
       "        vertical-align: middle;\n",
       "    }\n",
       "\n",
       "    .dataframe tbody tr th {\n",
       "        vertical-align: top;\n",
       "    }\n",
       "\n",
       "    .dataframe thead th {\n",
       "        text-align: right;\n",
       "    }\n",
       "</style>\n",
       "<table border=\"1\" class=\"dataframe\">\n",
       "  <thead>\n",
       "    <tr style=\"text-align: right;\">\n",
       "      <th></th>\n",
       "      <th>start_time</th>\n",
       "      <th>end_time</th>\n",
       "      <th>duration</th>\n",
       "      <th>start_station_num</th>\n",
       "      <th>start_station_name</th>\n",
       "      <th>end_station_num</th>\n",
       "      <th>end_station_name</th>\n",
       "      <th>bike_number</th>\n",
       "    </tr>\n",
       "  </thead>\n",
       "  <tbody>\n",
       "    <tr>\n",
       "      <th>75718</th>\n",
       "      <td>2020-06-18 06:45:02</td>\n",
       "      <td>2020-06-18 07:02:25</td>\n",
       "      <td>18</td>\n",
       "      <td>NaN</td>\n",
       "      <td>NaN</td>\n",
       "      <td>40995.0</td>\n",
       "      <td>workshop - Scrapped bikes</td>\n",
       "      <td>710612</td>\n",
       "    </tr>\n",
       "    <tr>\n",
       "      <th>75808</th>\n",
       "      <td>2020-06-30 16:38:00</td>\n",
       "      <td>2020-07-04 12:51:35</td>\n",
       "      <td>5534</td>\n",
       "      <td>41213.0</td>\n",
       "      <td>Wieselgrensplatsen</td>\n",
       "      <td>40996.0</td>\n",
       "      <td>workshop - needs heavy repair</td>\n",
       "      <td>710706</td>\n",
       "    </tr>\n",
       "    <tr>\n",
       "      <th>75816</th>\n",
       "      <td>2020-06-30 21:39:17</td>\n",
       "      <td>2020-07-08 12:46:15</td>\n",
       "      <td>10987</td>\n",
       "      <td>41213.0</td>\n",
       "      <td>Wieselgrensplatsen</td>\n",
       "      <td>40996.0</td>\n",
       "      <td>workshop - needs heavy repair</td>\n",
       "      <td>710614</td>\n",
       "    </tr>\n",
       "    <tr>\n",
       "      <th>75843</th>\n",
       "      <td>2020-07-02 14:54:57</td>\n",
       "      <td>2020-07-02 15:11:19</td>\n",
       "      <td>17</td>\n",
       "      <td>41134.0</td>\n",
       "      <td>Gustaf Adolfs torg</td>\n",
       "      <td>40996.0</td>\n",
       "      <td>workshop - needs heavy repair</td>\n",
       "      <td>710157</td>\n",
       "    </tr>\n",
       "    <tr>\n",
       "      <th>75854</th>\n",
       "      <td>2020-07-02 19:57:01</td>\n",
       "      <td>2020-07-02 20:36:48</td>\n",
       "      <td>40</td>\n",
       "      <td>41112.0</td>\n",
       "      <td>Åby Arenastad</td>\n",
       "      <td>40996.0</td>\n",
       "      <td>workshop - needs heavy repair</td>\n",
       "      <td>710725</td>\n",
       "    </tr>\n",
       "    <tr>\n",
       "      <th>75855</th>\n",
       "      <td>2020-07-02 19:57:01</td>\n",
       "      <td>2020-07-02 20:36:48</td>\n",
       "      <td>40</td>\n",
       "      <td>41112.0</td>\n",
       "      <td>Åby Arenastad</td>\n",
       "      <td>40996.0</td>\n",
       "      <td>workshop - needs heavy repair</td>\n",
       "      <td>710725</td>\n",
       "    </tr>\n",
       "    <tr>\n",
       "      <th>75930</th>\n",
       "      <td>2020-07-16 12:18:39</td>\n",
       "      <td>2020-07-16 13:26:32</td>\n",
       "      <td>68</td>\n",
       "      <td>41135.0</td>\n",
       "      <td>Rosenlundsplatsen</td>\n",
       "      <td>40996.0</td>\n",
       "      <td>workshop - needs heavy repair</td>\n",
       "      <td>710860</td>\n",
       "    </tr>\n",
       "    <tr>\n",
       "      <th>75937</th>\n",
       "      <td>2020-07-16 19:35:41</td>\n",
       "      <td>2020-07-17 09:04:23</td>\n",
       "      <td>809</td>\n",
       "      <td>41202.0</td>\n",
       "      <td>Gamlestads torg</td>\n",
       "      <td>40996.0</td>\n",
       "      <td>workshop - needs heavy repair</td>\n",
       "      <td>710173</td>\n",
       "    </tr>\n",
       "    <tr>\n",
       "      <th>75949</th>\n",
       "      <td>2020-07-17 20:57:01</td>\n",
       "      <td>2020-07-18 10:09:54</td>\n",
       "      <td>793</td>\n",
       "      <td>41209.0</td>\n",
       "      <td>Hjalmar Brantingsplatsen</td>\n",
       "      <td>40995.0</td>\n",
       "      <td>workshop - Scrapped bikes</td>\n",
       "      <td>710377</td>\n",
       "    </tr>\n",
       "    <tr>\n",
       "      <th>76022</th>\n",
       "      <td>2020-07-24 19:11:52</td>\n",
       "      <td>2020-07-28 08:18:06</td>\n",
       "      <td>5107</td>\n",
       "      <td>41186.0</td>\n",
       "      <td>Lindholmsplatsen</td>\n",
       "      <td>40996.0</td>\n",
       "      <td>workshop - needs heavy repair</td>\n",
       "      <td>710762</td>\n",
       "    </tr>\n",
       "    <tr>\n",
       "      <th>76032</th>\n",
       "      <td>2020-07-25 17:54:23</td>\n",
       "      <td>2020-07-25 18:38:48</td>\n",
       "      <td>45</td>\n",
       "      <td>NaN</td>\n",
       "      <td>NaN</td>\n",
       "      <td>40996.0</td>\n",
       "      <td>workshop - needs heavy repair</td>\n",
       "      <td>711487</td>\n",
       "    </tr>\n",
       "    <tr>\n",
       "      <th>76044</th>\n",
       "      <td>2020-07-27 14:32:08</td>\n",
       "      <td>2020-07-27 17:13:35</td>\n",
       "      <td>162</td>\n",
       "      <td>41133.0</td>\n",
       "      <td>Grönsakstorget</td>\n",
       "      <td>40996.0</td>\n",
       "      <td>workshop - needs heavy repair</td>\n",
       "      <td>711082</td>\n",
       "    </tr>\n",
       "    <tr>\n",
       "      <th>76071</th>\n",
       "      <td>2020-08-01 16:13:02</td>\n",
       "      <td>2020-08-01 20:25:40</td>\n",
       "      <td>253</td>\n",
       "      <td>NaN</td>\n",
       "      <td>NaN</td>\n",
       "      <td>40996.0</td>\n",
       "      <td>workshop - needs heavy repair</td>\n",
       "      <td>710660</td>\n",
       "    </tr>\n",
       "    <tr>\n",
       "      <th>76100</th>\n",
       "      <td>2020-08-04 21:15:23</td>\n",
       "      <td>2020-08-06 09:51:23</td>\n",
       "      <td>2196</td>\n",
       "      <td>41190.0</td>\n",
       "      <td>Olof Palmes plats</td>\n",
       "      <td>40996.0</td>\n",
       "      <td>workshop - needs heavy repair</td>\n",
       "      <td>710799</td>\n",
       "    </tr>\n",
       "    <tr>\n",
       "      <th>76103</th>\n",
       "      <td>2020-08-05 15:19:42</td>\n",
       "      <td>2020-08-05 15:36:51</td>\n",
       "      <td>18</td>\n",
       "      <td>41196.0</td>\n",
       "      <td>Bergakungen</td>\n",
       "      <td>40996.0</td>\n",
       "      <td>workshop - needs heavy repair</td>\n",
       "      <td>710893</td>\n",
       "    </tr>\n",
       "    <tr>\n",
       "      <th>76113</th>\n",
       "      <td>2020-08-06 22:15:24</td>\n",
       "      <td>2020-08-06 22:33:23</td>\n",
       "      <td>18</td>\n",
       "      <td>NaN</td>\n",
       "      <td>NaN</td>\n",
       "      <td>40996.0</td>\n",
       "      <td>workshop - needs heavy repair</td>\n",
       "      <td>710042</td>\n",
       "    </tr>\n",
       "    <tr>\n",
       "      <th>76129</th>\n",
       "      <td>2020-08-11 08:56:27</td>\n",
       "      <td>2020-08-11 09:15:49</td>\n",
       "      <td>20</td>\n",
       "      <td>41105.0</td>\n",
       "      <td>Mölndals sjukhus</td>\n",
       "      <td>40996.0</td>\n",
       "      <td>workshop - needs heavy repair</td>\n",
       "      <td>711129</td>\n",
       "    </tr>\n",
       "    <tr>\n",
       "      <th>76146</th>\n",
       "      <td>2020-08-13 20:57:50</td>\n",
       "      <td>2020-08-17 07:25:56</td>\n",
       "      <td>4949</td>\n",
       "      <td>41210.0</td>\n",
       "      <td>Vågmästareplatsen</td>\n",
       "      <td>40996.0</td>\n",
       "      <td>workshop - needs heavy repair</td>\n",
       "      <td>711143</td>\n",
       "    </tr>\n",
       "    <tr>\n",
       "      <th>76154</th>\n",
       "      <td>2020-08-17 13:38:47</td>\n",
       "      <td>2020-08-17 13:42:22</td>\n",
       "      <td>4</td>\n",
       "      <td>41209.0</td>\n",
       "      <td>Hjalmar Brantingsplatsen</td>\n",
       "      <td>40996.0</td>\n",
       "      <td>workshop - needs heavy repair</td>\n",
       "      <td>710887</td>\n",
       "    </tr>\n",
       "    <tr>\n",
       "      <th>76170</th>\n",
       "      <td>2020-08-21 20:06:46</td>\n",
       "      <td>2020-08-24 07:20:24</td>\n",
       "      <td>3554</td>\n",
       "      <td>41209.0</td>\n",
       "      <td>Hjalmar Brantingsplatsen</td>\n",
       "      <td>40996.0</td>\n",
       "      <td>workshop - needs heavy repair</td>\n",
       "      <td>711818</td>\n",
       "    </tr>\n",
       "    <tr>\n",
       "      <th>76218</th>\n",
       "      <td>2020-08-26 19:06:52</td>\n",
       "      <td>2020-08-31 07:50:27</td>\n",
       "      <td>6524</td>\n",
       "      <td>41213.0</td>\n",
       "      <td>Wieselgrensplatsen</td>\n",
       "      <td>40996.0</td>\n",
       "      <td>workshop - needs heavy repair</td>\n",
       "      <td>711625</td>\n",
       "    </tr>\n",
       "    <tr>\n",
       "      <th>76249</th>\n",
       "      <td>2020-08-31 14:31:45</td>\n",
       "      <td>2020-09-01 07:20:46</td>\n",
       "      <td>1010</td>\n",
       "      <td>41210.0</td>\n",
       "      <td>Vågmästareplatsen</td>\n",
       "      <td>40996.0</td>\n",
       "      <td>workshop - needs heavy repair</td>\n",
       "      <td>710702</td>\n",
       "    </tr>\n",
       "    <tr>\n",
       "      <th>79940</th>\n",
       "      <td>2020-09-05 09:09:03</td>\n",
       "      <td>2020-09-05 09:18:13</td>\n",
       "      <td>10</td>\n",
       "      <td>NaN</td>\n",
       "      <td>NaN</td>\n",
       "      <td>40996.0</td>\n",
       "      <td>workshop - needs heavy repair</td>\n",
       "      <td>710114</td>\n",
       "    </tr>\n",
       "    <tr>\n",
       "      <th>151908</th>\n",
       "      <td>2020-10-31 15:53:12</td>\n",
       "      <td>2020-10-31 16:14:25</td>\n",
       "      <td>22</td>\n",
       "      <td>41159.0</td>\n",
       "      <td>Drottningtorget</td>\n",
       "      <td>40996.0</td>\n",
       "      <td>workshop - needs heavy repair</td>\n",
       "      <td>711794</td>\n",
       "    </tr>\n",
       "  </tbody>\n",
       "</table>\n",
       "</div>"
      ],
      "text/plain": [
       "                start_time            end_time  duration  start_station_num  \\\n",
       "75718  2020-06-18 06:45:02 2020-06-18 07:02:25        18                NaN   \n",
       "75808  2020-06-30 16:38:00 2020-07-04 12:51:35      5534            41213.0   \n",
       "75816  2020-06-30 21:39:17 2020-07-08 12:46:15     10987            41213.0   \n",
       "75843  2020-07-02 14:54:57 2020-07-02 15:11:19        17            41134.0   \n",
       "75854  2020-07-02 19:57:01 2020-07-02 20:36:48        40            41112.0   \n",
       "75855  2020-07-02 19:57:01 2020-07-02 20:36:48        40            41112.0   \n",
       "75930  2020-07-16 12:18:39 2020-07-16 13:26:32        68            41135.0   \n",
       "75937  2020-07-16 19:35:41 2020-07-17 09:04:23       809            41202.0   \n",
       "75949  2020-07-17 20:57:01 2020-07-18 10:09:54       793            41209.0   \n",
       "76022  2020-07-24 19:11:52 2020-07-28 08:18:06      5107            41186.0   \n",
       "76032  2020-07-25 17:54:23 2020-07-25 18:38:48        45                NaN   \n",
       "76044  2020-07-27 14:32:08 2020-07-27 17:13:35       162            41133.0   \n",
       "76071  2020-08-01 16:13:02 2020-08-01 20:25:40       253                NaN   \n",
       "76100  2020-08-04 21:15:23 2020-08-06 09:51:23      2196            41190.0   \n",
       "76103  2020-08-05 15:19:42 2020-08-05 15:36:51        18            41196.0   \n",
       "76113  2020-08-06 22:15:24 2020-08-06 22:33:23        18                NaN   \n",
       "76129  2020-08-11 08:56:27 2020-08-11 09:15:49        20            41105.0   \n",
       "76146  2020-08-13 20:57:50 2020-08-17 07:25:56      4949            41210.0   \n",
       "76154  2020-08-17 13:38:47 2020-08-17 13:42:22         4            41209.0   \n",
       "76170  2020-08-21 20:06:46 2020-08-24 07:20:24      3554            41209.0   \n",
       "76218  2020-08-26 19:06:52 2020-08-31 07:50:27      6524            41213.0   \n",
       "76249  2020-08-31 14:31:45 2020-09-01 07:20:46      1010            41210.0   \n",
       "79940  2020-09-05 09:09:03 2020-09-05 09:18:13        10                NaN   \n",
       "151908 2020-10-31 15:53:12 2020-10-31 16:14:25        22            41159.0   \n",
       "\n",
       "              start_station_name  end_station_num  \\\n",
       "75718                        NaN          40995.0   \n",
       "75808         Wieselgrensplatsen          40996.0   \n",
       "75816         Wieselgrensplatsen          40996.0   \n",
       "75843         Gustaf Adolfs torg          40996.0   \n",
       "75854              Åby Arenastad          40996.0   \n",
       "75855              Åby Arenastad          40996.0   \n",
       "75930          Rosenlundsplatsen          40996.0   \n",
       "75937            Gamlestads torg          40996.0   \n",
       "75949   Hjalmar Brantingsplatsen          40995.0   \n",
       "76022           Lindholmsplatsen          40996.0   \n",
       "76032                        NaN          40996.0   \n",
       "76044             Grönsakstorget          40996.0   \n",
       "76071                        NaN          40996.0   \n",
       "76100          Olof Palmes plats          40996.0   \n",
       "76103                Bergakungen          40996.0   \n",
       "76113                        NaN          40996.0   \n",
       "76129           Mölndals sjukhus          40996.0   \n",
       "76146          Vågmästareplatsen          40996.0   \n",
       "76154   Hjalmar Brantingsplatsen          40996.0   \n",
       "76170   Hjalmar Brantingsplatsen          40996.0   \n",
       "76218         Wieselgrensplatsen          40996.0   \n",
       "76249          Vågmästareplatsen          40996.0   \n",
       "79940                        NaN          40996.0   \n",
       "151908           Drottningtorget          40996.0   \n",
       "\n",
       "                     end_station_name  bike_number  \n",
       "75718       workshop - Scrapped bikes       710612  \n",
       "75808   workshop - needs heavy repair       710706  \n",
       "75816   workshop - needs heavy repair       710614  \n",
       "75843   workshop - needs heavy repair       710157  \n",
       "75854   workshop - needs heavy repair       710725  \n",
       "75855   workshop - needs heavy repair       710725  \n",
       "75930   workshop - needs heavy repair       710860  \n",
       "75937   workshop - needs heavy repair       710173  \n",
       "75949       workshop - Scrapped bikes       710377  \n",
       "76022   workshop - needs heavy repair       710762  \n",
       "76032   workshop - needs heavy repair       711487  \n",
       "76044   workshop - needs heavy repair       711082  \n",
       "76071   workshop - needs heavy repair       710660  \n",
       "76100   workshop - needs heavy repair       710799  \n",
       "76103   workshop - needs heavy repair       710893  \n",
       "76113   workshop - needs heavy repair       710042  \n",
       "76129   workshop - needs heavy repair       711129  \n",
       "76146   workshop - needs heavy repair       711143  \n",
       "76154   workshop - needs heavy repair       710887  \n",
       "76170   workshop - needs heavy repair       711818  \n",
       "76218   workshop - needs heavy repair       711625  \n",
       "76249   workshop - needs heavy repair       710702  \n",
       "79940   workshop - needs heavy repair       710114  \n",
       "151908  workshop - needs heavy repair       711794  "
      ]
     },
     "execution_count": 9,
     "metadata": {},
     "output_type": "execute_result"
    }
   ],
   "source": [
    "df[df['end_station_num'] < 40998]"
   ]
  },
  {
   "cell_type": "code",
   "execution_count": 10,
   "metadata": {
    "pycharm": {
     "name": "#%%\n"
    }
   },
   "outputs": [
    {
     "data": {
      "text/html": [
       "<div>\n",
       "<style scoped>\n",
       "    .dataframe tbody tr th:only-of-type {\n",
       "        vertical-align: middle;\n",
       "    }\n",
       "\n",
       "    .dataframe tbody tr th {\n",
       "        vertical-align: top;\n",
       "    }\n",
       "\n",
       "    .dataframe thead th {\n",
       "        text-align: right;\n",
       "    }\n",
       "</style>\n",
       "<table border=\"1\" class=\"dataframe\">\n",
       "  <thead>\n",
       "    <tr style=\"text-align: right;\">\n",
       "      <th></th>\n",
       "      <th>start_time</th>\n",
       "      <th>end_time</th>\n",
       "      <th>duration</th>\n",
       "      <th>start_station_num</th>\n",
       "      <th>start_station_name</th>\n",
       "      <th>end_station_num</th>\n",
       "      <th>end_station_name</th>\n",
       "      <th>bike_number</th>\n",
       "    </tr>\n",
       "  </thead>\n",
       "  <tbody>\n",
       "    <tr>\n",
       "      <th>98</th>\n",
       "      <td>2020-06-10 14:07:59</td>\n",
       "      <td>2020-06-10 14:08:48</td>\n",
       "      <td>1</td>\n",
       "      <td>41300.0</td>\n",
       "      <td>Test Station Workshop</td>\n",
       "      <td>NaN</td>\n",
       "      <td>NaN</td>\n",
       "      <td>710003</td>\n",
       "    </tr>\n",
       "  </tbody>\n",
       "</table>\n",
       "</div>"
      ],
      "text/plain": [
       "            start_time            end_time  duration  start_station_num  \\\n",
       "98 2020-06-10 14:07:59 2020-06-10 14:08:48         1            41300.0   \n",
       "\n",
       "       start_station_name  end_station_num end_station_name  bike_number  \n",
       "98  Test Station Workshop              NaN              NaN       710003  "
      ]
     },
     "execution_count": 10,
     "metadata": {},
     "output_type": "execute_result"
    }
   ],
   "source": [
    "df[df['start_station_num'] > 41250]"
   ]
  },
  {
   "cell_type": "code",
   "execution_count": 11,
   "metadata": {
    "pycharm": {
     "name": "#%%\n"
    }
   },
   "outputs": [
    {
     "data": {
      "text/html": [
       "<div>\n",
       "<style scoped>\n",
       "    .dataframe tbody tr th:only-of-type {\n",
       "        vertical-align: middle;\n",
       "    }\n",
       "\n",
       "    .dataframe tbody tr th {\n",
       "        vertical-align: top;\n",
       "    }\n",
       "\n",
       "    .dataframe thead th {\n",
       "        text-align: right;\n",
       "    }\n",
       "</style>\n",
       "<table border=\"1\" class=\"dataframe\">\n",
       "  <thead>\n",
       "    <tr style=\"text-align: right;\">\n",
       "      <th></th>\n",
       "      <th>start_time</th>\n",
       "      <th>end_time</th>\n",
       "      <th>duration</th>\n",
       "      <th>start_station_num</th>\n",
       "      <th>start_station_name</th>\n",
       "      <th>end_station_num</th>\n",
       "      <th>end_station_name</th>\n",
       "      <th>bike_number</th>\n",
       "    </tr>\n",
       "  </thead>\n",
       "  <tbody>\n",
       "    <tr>\n",
       "      <th>75808</th>\n",
       "      <td>2020-06-30 16:38:00</td>\n",
       "      <td>2020-07-04 12:51:35</td>\n",
       "      <td>5534</td>\n",
       "      <td>41213.0</td>\n",
       "      <td>Wieselgrensplatsen</td>\n",
       "      <td>40996.0</td>\n",
       "      <td>workshop - needs heavy repair</td>\n",
       "      <td>710706</td>\n",
       "    </tr>\n",
       "    <tr>\n",
       "      <th>75816</th>\n",
       "      <td>2020-06-30 21:39:17</td>\n",
       "      <td>2020-07-08 12:46:15</td>\n",
       "      <td>10987</td>\n",
       "      <td>41213.0</td>\n",
       "      <td>Wieselgrensplatsen</td>\n",
       "      <td>40996.0</td>\n",
       "      <td>workshop - needs heavy repair</td>\n",
       "      <td>710614</td>\n",
       "    </tr>\n",
       "    <tr>\n",
       "      <th>75843</th>\n",
       "      <td>2020-07-02 14:54:57</td>\n",
       "      <td>2020-07-02 15:11:19</td>\n",
       "      <td>17</td>\n",
       "      <td>41134.0</td>\n",
       "      <td>Gustaf Adolfs torg</td>\n",
       "      <td>40996.0</td>\n",
       "      <td>workshop - needs heavy repair</td>\n",
       "      <td>710157</td>\n",
       "    </tr>\n",
       "    <tr>\n",
       "      <th>75854</th>\n",
       "      <td>2020-07-02 19:57:01</td>\n",
       "      <td>2020-07-02 20:36:48</td>\n",
       "      <td>40</td>\n",
       "      <td>41112.0</td>\n",
       "      <td>Åby Arenastad</td>\n",
       "      <td>40996.0</td>\n",
       "      <td>workshop - needs heavy repair</td>\n",
       "      <td>710725</td>\n",
       "    </tr>\n",
       "    <tr>\n",
       "      <th>75855</th>\n",
       "      <td>2020-07-02 19:57:01</td>\n",
       "      <td>2020-07-02 20:36:48</td>\n",
       "      <td>40</td>\n",
       "      <td>41112.0</td>\n",
       "      <td>Åby Arenastad</td>\n",
       "      <td>40996.0</td>\n",
       "      <td>workshop - needs heavy repair</td>\n",
       "      <td>710725</td>\n",
       "    </tr>\n",
       "    <tr>\n",
       "      <th>75930</th>\n",
       "      <td>2020-07-16 12:18:39</td>\n",
       "      <td>2020-07-16 13:26:32</td>\n",
       "      <td>68</td>\n",
       "      <td>41135.0</td>\n",
       "      <td>Rosenlundsplatsen</td>\n",
       "      <td>40996.0</td>\n",
       "      <td>workshop - needs heavy repair</td>\n",
       "      <td>710860</td>\n",
       "    </tr>\n",
       "    <tr>\n",
       "      <th>75937</th>\n",
       "      <td>2020-07-16 19:35:41</td>\n",
       "      <td>2020-07-17 09:04:23</td>\n",
       "      <td>809</td>\n",
       "      <td>41202.0</td>\n",
       "      <td>Gamlestads torg</td>\n",
       "      <td>40996.0</td>\n",
       "      <td>workshop - needs heavy repair</td>\n",
       "      <td>710173</td>\n",
       "    </tr>\n",
       "    <tr>\n",
       "      <th>76022</th>\n",
       "      <td>2020-07-24 19:11:52</td>\n",
       "      <td>2020-07-28 08:18:06</td>\n",
       "      <td>5107</td>\n",
       "      <td>41186.0</td>\n",
       "      <td>Lindholmsplatsen</td>\n",
       "      <td>40996.0</td>\n",
       "      <td>workshop - needs heavy repair</td>\n",
       "      <td>710762</td>\n",
       "    </tr>\n",
       "    <tr>\n",
       "      <th>76032</th>\n",
       "      <td>2020-07-25 17:54:23</td>\n",
       "      <td>2020-07-25 18:38:48</td>\n",
       "      <td>45</td>\n",
       "      <td>NaN</td>\n",
       "      <td>NaN</td>\n",
       "      <td>40996.0</td>\n",
       "      <td>workshop - needs heavy repair</td>\n",
       "      <td>711487</td>\n",
       "    </tr>\n",
       "    <tr>\n",
       "      <th>76044</th>\n",
       "      <td>2020-07-27 14:32:08</td>\n",
       "      <td>2020-07-27 17:13:35</td>\n",
       "      <td>162</td>\n",
       "      <td>41133.0</td>\n",
       "      <td>Grönsakstorget</td>\n",
       "      <td>40996.0</td>\n",
       "      <td>workshop - needs heavy repair</td>\n",
       "      <td>711082</td>\n",
       "    </tr>\n",
       "    <tr>\n",
       "      <th>76071</th>\n",
       "      <td>2020-08-01 16:13:02</td>\n",
       "      <td>2020-08-01 20:25:40</td>\n",
       "      <td>253</td>\n",
       "      <td>NaN</td>\n",
       "      <td>NaN</td>\n",
       "      <td>40996.0</td>\n",
       "      <td>workshop - needs heavy repair</td>\n",
       "      <td>710660</td>\n",
       "    </tr>\n",
       "    <tr>\n",
       "      <th>76100</th>\n",
       "      <td>2020-08-04 21:15:23</td>\n",
       "      <td>2020-08-06 09:51:23</td>\n",
       "      <td>2196</td>\n",
       "      <td>41190.0</td>\n",
       "      <td>Olof Palmes plats</td>\n",
       "      <td>40996.0</td>\n",
       "      <td>workshop - needs heavy repair</td>\n",
       "      <td>710799</td>\n",
       "    </tr>\n",
       "    <tr>\n",
       "      <th>76103</th>\n",
       "      <td>2020-08-05 15:19:42</td>\n",
       "      <td>2020-08-05 15:36:51</td>\n",
       "      <td>18</td>\n",
       "      <td>41196.0</td>\n",
       "      <td>Bergakungen</td>\n",
       "      <td>40996.0</td>\n",
       "      <td>workshop - needs heavy repair</td>\n",
       "      <td>710893</td>\n",
       "    </tr>\n",
       "    <tr>\n",
       "      <th>76113</th>\n",
       "      <td>2020-08-06 22:15:24</td>\n",
       "      <td>2020-08-06 22:33:23</td>\n",
       "      <td>18</td>\n",
       "      <td>NaN</td>\n",
       "      <td>NaN</td>\n",
       "      <td>40996.0</td>\n",
       "      <td>workshop - needs heavy repair</td>\n",
       "      <td>710042</td>\n",
       "    </tr>\n",
       "    <tr>\n",
       "      <th>76129</th>\n",
       "      <td>2020-08-11 08:56:27</td>\n",
       "      <td>2020-08-11 09:15:49</td>\n",
       "      <td>20</td>\n",
       "      <td>41105.0</td>\n",
       "      <td>Mölndals sjukhus</td>\n",
       "      <td>40996.0</td>\n",
       "      <td>workshop - needs heavy repair</td>\n",
       "      <td>711129</td>\n",
       "    </tr>\n",
       "    <tr>\n",
       "      <th>76146</th>\n",
       "      <td>2020-08-13 20:57:50</td>\n",
       "      <td>2020-08-17 07:25:56</td>\n",
       "      <td>4949</td>\n",
       "      <td>41210.0</td>\n",
       "      <td>Vågmästareplatsen</td>\n",
       "      <td>40996.0</td>\n",
       "      <td>workshop - needs heavy repair</td>\n",
       "      <td>711143</td>\n",
       "    </tr>\n",
       "    <tr>\n",
       "      <th>76154</th>\n",
       "      <td>2020-08-17 13:38:47</td>\n",
       "      <td>2020-08-17 13:42:22</td>\n",
       "      <td>4</td>\n",
       "      <td>41209.0</td>\n",
       "      <td>Hjalmar Brantingsplatsen</td>\n",
       "      <td>40996.0</td>\n",
       "      <td>workshop - needs heavy repair</td>\n",
       "      <td>710887</td>\n",
       "    </tr>\n",
       "    <tr>\n",
       "      <th>76170</th>\n",
       "      <td>2020-08-21 20:06:46</td>\n",
       "      <td>2020-08-24 07:20:24</td>\n",
       "      <td>3554</td>\n",
       "      <td>41209.0</td>\n",
       "      <td>Hjalmar Brantingsplatsen</td>\n",
       "      <td>40996.0</td>\n",
       "      <td>workshop - needs heavy repair</td>\n",
       "      <td>711818</td>\n",
       "    </tr>\n",
       "    <tr>\n",
       "      <th>76218</th>\n",
       "      <td>2020-08-26 19:06:52</td>\n",
       "      <td>2020-08-31 07:50:27</td>\n",
       "      <td>6524</td>\n",
       "      <td>41213.0</td>\n",
       "      <td>Wieselgrensplatsen</td>\n",
       "      <td>40996.0</td>\n",
       "      <td>workshop - needs heavy repair</td>\n",
       "      <td>711625</td>\n",
       "    </tr>\n",
       "    <tr>\n",
       "      <th>76249</th>\n",
       "      <td>2020-08-31 14:31:45</td>\n",
       "      <td>2020-09-01 07:20:46</td>\n",
       "      <td>1010</td>\n",
       "      <td>41210.0</td>\n",
       "      <td>Vågmästareplatsen</td>\n",
       "      <td>40996.0</td>\n",
       "      <td>workshop - needs heavy repair</td>\n",
       "      <td>710702</td>\n",
       "    </tr>\n",
       "    <tr>\n",
       "      <th>79940</th>\n",
       "      <td>2020-09-05 09:09:03</td>\n",
       "      <td>2020-09-05 09:18:13</td>\n",
       "      <td>10</td>\n",
       "      <td>NaN</td>\n",
       "      <td>NaN</td>\n",
       "      <td>40996.0</td>\n",
       "      <td>workshop - needs heavy repair</td>\n",
       "      <td>710114</td>\n",
       "    </tr>\n",
       "    <tr>\n",
       "      <th>151908</th>\n",
       "      <td>2020-10-31 15:53:12</td>\n",
       "      <td>2020-10-31 16:14:25</td>\n",
       "      <td>22</td>\n",
       "      <td>41159.0</td>\n",
       "      <td>Drottningtorget</td>\n",
       "      <td>40996.0</td>\n",
       "      <td>workshop - needs heavy repair</td>\n",
       "      <td>711794</td>\n",
       "    </tr>\n",
       "  </tbody>\n",
       "</table>\n",
       "</div>"
      ],
      "text/plain": [
       "                start_time            end_time  duration  start_station_num  \\\n",
       "75808  2020-06-30 16:38:00 2020-07-04 12:51:35      5534            41213.0   \n",
       "75816  2020-06-30 21:39:17 2020-07-08 12:46:15     10987            41213.0   \n",
       "75843  2020-07-02 14:54:57 2020-07-02 15:11:19        17            41134.0   \n",
       "75854  2020-07-02 19:57:01 2020-07-02 20:36:48        40            41112.0   \n",
       "75855  2020-07-02 19:57:01 2020-07-02 20:36:48        40            41112.0   \n",
       "75930  2020-07-16 12:18:39 2020-07-16 13:26:32        68            41135.0   \n",
       "75937  2020-07-16 19:35:41 2020-07-17 09:04:23       809            41202.0   \n",
       "76022  2020-07-24 19:11:52 2020-07-28 08:18:06      5107            41186.0   \n",
       "76032  2020-07-25 17:54:23 2020-07-25 18:38:48        45                NaN   \n",
       "76044  2020-07-27 14:32:08 2020-07-27 17:13:35       162            41133.0   \n",
       "76071  2020-08-01 16:13:02 2020-08-01 20:25:40       253                NaN   \n",
       "76100  2020-08-04 21:15:23 2020-08-06 09:51:23      2196            41190.0   \n",
       "76103  2020-08-05 15:19:42 2020-08-05 15:36:51        18            41196.0   \n",
       "76113  2020-08-06 22:15:24 2020-08-06 22:33:23        18                NaN   \n",
       "76129  2020-08-11 08:56:27 2020-08-11 09:15:49        20            41105.0   \n",
       "76146  2020-08-13 20:57:50 2020-08-17 07:25:56      4949            41210.0   \n",
       "76154  2020-08-17 13:38:47 2020-08-17 13:42:22         4            41209.0   \n",
       "76170  2020-08-21 20:06:46 2020-08-24 07:20:24      3554            41209.0   \n",
       "76218  2020-08-26 19:06:52 2020-08-31 07:50:27      6524            41213.0   \n",
       "76249  2020-08-31 14:31:45 2020-09-01 07:20:46      1010            41210.0   \n",
       "79940  2020-09-05 09:09:03 2020-09-05 09:18:13        10                NaN   \n",
       "151908 2020-10-31 15:53:12 2020-10-31 16:14:25        22            41159.0   \n",
       "\n",
       "              start_station_name  end_station_num  \\\n",
       "75808         Wieselgrensplatsen          40996.0   \n",
       "75816         Wieselgrensplatsen          40996.0   \n",
       "75843         Gustaf Adolfs torg          40996.0   \n",
       "75854              Åby Arenastad          40996.0   \n",
       "75855              Åby Arenastad          40996.0   \n",
       "75930          Rosenlundsplatsen          40996.0   \n",
       "75937            Gamlestads torg          40996.0   \n",
       "76022           Lindholmsplatsen          40996.0   \n",
       "76032                        NaN          40996.0   \n",
       "76044             Grönsakstorget          40996.0   \n",
       "76071                        NaN          40996.0   \n",
       "76100          Olof Palmes plats          40996.0   \n",
       "76103                Bergakungen          40996.0   \n",
       "76113                        NaN          40996.0   \n",
       "76129           Mölndals sjukhus          40996.0   \n",
       "76146          Vågmästareplatsen          40996.0   \n",
       "76154   Hjalmar Brantingsplatsen          40996.0   \n",
       "76170   Hjalmar Brantingsplatsen          40996.0   \n",
       "76218         Wieselgrensplatsen          40996.0   \n",
       "76249          Vågmästareplatsen          40996.0   \n",
       "79940                        NaN          40996.0   \n",
       "151908           Drottningtorget          40996.0   \n",
       "\n",
       "                     end_station_name  bike_number  \n",
       "75808   workshop - needs heavy repair       710706  \n",
       "75816   workshop - needs heavy repair       710614  \n",
       "75843   workshop - needs heavy repair       710157  \n",
       "75854   workshop - needs heavy repair       710725  \n",
       "75855   workshop - needs heavy repair       710725  \n",
       "75930   workshop - needs heavy repair       710860  \n",
       "75937   workshop - needs heavy repair       710173  \n",
       "76022   workshop - needs heavy repair       710762  \n",
       "76032   workshop - needs heavy repair       711487  \n",
       "76044   workshop - needs heavy repair       711082  \n",
       "76071   workshop - needs heavy repair       710660  \n",
       "76100   workshop - needs heavy repair       710799  \n",
       "76103   workshop - needs heavy repair       710893  \n",
       "76113   workshop - needs heavy repair       710042  \n",
       "76129   workshop - needs heavy repair       711129  \n",
       "76146   workshop - needs heavy repair       711143  \n",
       "76154   workshop - needs heavy repair       710887  \n",
       "76170   workshop - needs heavy repair       711818  \n",
       "76218   workshop - needs heavy repair       711625  \n",
       "76249   workshop - needs heavy repair       710702  \n",
       "79940   workshop - needs heavy repair       710114  \n",
       "151908  workshop - needs heavy repair       711794  "
      ]
     },
     "execution_count": 11,
     "metadata": {},
     "output_type": "execute_result"
    }
   ],
   "source": [
    "df[df['end_station_name'] == 'workshop - needs heavy repair']"
   ]
  },
  {
   "cell_type": "code",
   "execution_count": 12,
   "metadata": {
    "pycharm": {
     "name": "#%% Nan Values - Venn diagram\n"
    }
   },
   "outputs": [
    {
     "data": {
      "image/png": "[encoded data removed]",
      "text/plain": [
       "<Figure size 432x288 with 1 Axes>"
      ]
     },
     "metadata": {},
     "output_type": "display_data"
    }
   ],
   "source": [
    "# Null Analysis\n",
    "nan_start = df[(df['start_station_num'].isnull())].index\n",
    "nan_end = df[(df['end_station_num'].isnull())].index\n",
    "\n",
    "ven = venn2([set(nan_start), set(nan_end)],set_labels = ('no start station', 'no end station'),\n",
    "      set_colors= ('orange', 'darkorange', 'orange'))\n",
    "for text in ven.subset_labels:\n",
    "    text.set_fontsize(16)\n",
    "for text in ven.set_labels:\n",
    "    text.set_fontsize(16)\n",
    "plt.title('Number of rides with missing data', fontsize = 20, fontweight = 'bold')\n",
    "plt.show()"
   ]
  },
  {
   "cell_type": "code",
   "execution_count": 13,
   "metadata": {
    "pycharm": {
     "name": "#%% Nan Values - Other analysis\n"
    }
   },
   "outputs": [],
   "source": [
    "# Important to understand domain specific details\n",
    "# Should we simply delete Nan? Fill it with values. NO!\n",
    "# Interesting analysis of these bikes.\n",
    "nan_start_either = df[(df['start_station_num'].isnull()) | (df['end_station_num'].isnull())]\n",
    "nan_both = df[(df['start_station_num'].isnull()) & (df['end_station_num'].isnull())]\n",
    "nan_start_not_end = df[(df['start_station_num'].isnull()) & (~df['end_station_num'].isnull())]\n",
    "nan_end_not_start = df[(~df['start_station_num'].isnull()) & (df['end_station_num'].isnull())]"
   ]
  },
  {
   "cell_type": "markdown",
   "metadata": {
    "heading_collapsed": true
   },
   "source": [
    "## Travel statistics (duration, hour, week, day, ...)"
   ]
  },
  {
   "cell_type": "code",
   "execution_count": 14,
   "metadata": {
    "hidden": true,
    "pycharm": {
     "name": "#%%\n"
    }
   },
   "outputs": [
    {
     "data": {
      "text/html": [
       "<div>\n",
       "<style scoped>\n",
       "    .dataframe tbody tr th:only-of-type {\n",
       "        vertical-align: middle;\n",
       "    }\n",
       "\n",
       "    .dataframe tbody tr th {\n",
       "        vertical-align: top;\n",
       "    }\n",
       "\n",
       "    .dataframe thead th {\n",
       "        text-align: right;\n",
       "    }\n",
       "</style>\n",
       "<table border=\"1\" class=\"dataframe\">\n",
       "  <thead>\n",
       "    <tr style=\"text-align: right;\">\n",
       "      <th></th>\n",
       "      <th>start_time</th>\n",
       "      <th>end_time</th>\n",
       "      <th>duration</th>\n",
       "      <th>start_station_num</th>\n",
       "      <th>start_station_name</th>\n",
       "      <th>end_station_num</th>\n",
       "      <th>end_station_name</th>\n",
       "      <th>bike_number</th>\n",
       "    </tr>\n",
       "    <tr>\n",
       "      <th>start_time</th>\n",
       "      <th></th>\n",
       "      <th></th>\n",
       "      <th></th>\n",
       "      <th></th>\n",
       "      <th></th>\n",
       "      <th></th>\n",
       "      <th></th>\n",
       "      <th></th>\n",
       "    </tr>\n",
       "  </thead>\n",
       "  <tbody>\n",
       "    <tr>\n",
       "      <th>June</th>\n",
       "      <td>11176</td>\n",
       "      <td>11176</td>\n",
       "      <td>11176</td>\n",
       "      <td>10360</td>\n",
       "      <td>10360</td>\n",
       "      <td>10035</td>\n",
       "      <td>10035</td>\n",
       "      <td>11176</td>\n",
       "    </tr>\n",
       "    <tr>\n",
       "      <th>July</th>\n",
       "      <td>21929</td>\n",
       "      <td>21929</td>\n",
       "      <td>21929</td>\n",
       "      <td>20773</td>\n",
       "      <td>20773</td>\n",
       "      <td>20291</td>\n",
       "      <td>20291</td>\n",
       "      <td>21929</td>\n",
       "    </tr>\n",
       "    <tr>\n",
       "      <th>August</th>\n",
       "      <td>39140</td>\n",
       "      <td>39140</td>\n",
       "      <td>39140</td>\n",
       "      <td>37871</td>\n",
       "      <td>37871</td>\n",
       "      <td>37563</td>\n",
       "      <td>37563</td>\n",
       "      <td>39140</td>\n",
       "    </tr>\n",
       "    <tr>\n",
       "      <th>September</th>\n",
       "      <td>44033</td>\n",
       "      <td>44033</td>\n",
       "      <td>44033</td>\n",
       "      <td>43123</td>\n",
       "      <td>43123</td>\n",
       "      <td>42862</td>\n",
       "      <td>42862</td>\n",
       "      <td>44033</td>\n",
       "    </tr>\n",
       "    <tr>\n",
       "      <th>October</th>\n",
       "      <td>35860</td>\n",
       "      <td>35860</td>\n",
       "      <td>35860</td>\n",
       "      <td>35296</td>\n",
       "      <td>35296</td>\n",
       "      <td>35155</td>\n",
       "      <td>35155</td>\n",
       "      <td>35860</td>\n",
       "    </tr>\n",
       "    <tr>\n",
       "      <th>November</th>\n",
       "      <td>22370</td>\n",
       "      <td>22370</td>\n",
       "      <td>22370</td>\n",
       "      <td>22117</td>\n",
       "      <td>22117</td>\n",
       "      <td>22075</td>\n",
       "      <td>22075</td>\n",
       "      <td>22370</td>\n",
       "    </tr>\n",
       "    <tr>\n",
       "      <th>December</th>\n",
       "      <td>15780</td>\n",
       "      <td>15780</td>\n",
       "      <td>15780</td>\n",
       "      <td>15640</td>\n",
       "      <td>15640</td>\n",
       "      <td>15605</td>\n",
       "      <td>15605</td>\n",
       "      <td>15780</td>\n",
       "    </tr>\n",
       "  </tbody>\n",
       "</table>\n",
       "</div>"
      ],
      "text/plain": [
       "            start_time  end_time  duration  start_station_num  \\\n",
       "start_time                                                      \n",
       "June             11176     11176     11176              10360   \n",
       "July             21929     21929     21929              20773   \n",
       "August           39140     39140     39140              37871   \n",
       "September        44033     44033     44033              43123   \n",
       "October          35860     35860     35860              35296   \n",
       "November         22370     22370     22370              22117   \n",
       "December         15780     15780     15780              15640   \n",
       "\n",
       "            start_station_name  end_station_num  end_station_name  bike_number  \n",
       "start_time                                                                      \n",
       "June                     10360            10035             10035        11176  \n",
       "July                     20773            20291             20291        21929  \n",
       "August                   37871            37563             37563        39140  \n",
       "September                43123            42862             42862        44033  \n",
       "October                  35296            35155             35155        35860  \n",
       "November                 22117            22075             22075        22370  \n",
       "December                 15640            15605             15605        15780  "
      ]
     },
     "execution_count": 14,
     "metadata": {},
     "output_type": "execute_result"
    }
   ],
   "source": [
    "days_order = ['Monday','Tuesday','Wednesday','Thursday','Friday','Saturday', 'Sunday']\n",
    "df.groupby(df['start_time'].dt.day_name()).count().reindex(days_order)\n",
    "\n",
    "months_order = ['June', 'July', 'August', 'September', 'October', 'November', 'December']\n",
    "df.groupby(df['start_time'].dt.month_name()).count().reindex(months_order)"
   ]
  },
  {
   "cell_type": "code",
   "execution_count": 15,
   "metadata": {
    "hidden": true,
    "pycharm": {
     "name": "#%% #Heatmap\n"
    }
   },
   "outputs": [],
   "source": [
    "df_plot = df.copy()\n",
    "df_plot['day'] = df['start_time'].dt.day_name().astype(pd.api.types.CategoricalDtype(categories = ['Monday','Tuesday','Wednesday','Thursday','Friday','Saturday', 'Sunday']))\n",
    "df_plot['month'] = df['start_time'].dt.month_name().astype(pd.api.types.CategoricalDtype(categories = ['June', 'July', 'August', 'September', 'October', 'November', 'December']))\n",
    "df_plot['start_hour'] = df['start_time'].dt.hour\n",
    "df_plot['end_hour'] = df['end_time'].dt.hour\n",
    "# Simply get the count\n",
    "month_day = pd.crosstab(df_plot['month'], df_plot['day'])\n",
    "day_hour = pd.crosstab(df_plot['start_hour'], df_plot['day'])\n",
    "month_hour = pd.crosstab(df_plot['start_hour'], df_plot['month'])\n",
    "#tab = pd.crosstab(df_plot['month'], df_plot['day']).reindex(days_order, axis = 1, months_order, )\n",
    "# Get the duration. Be careful that some might have very high value!\n",
    "heatmap_data = pd.pivot_table(df_plot[['month', 'day', 'duration']], values = 'duration', index = ['month'], columns = 'day')\n"
   ]
  },
  {
   "cell_type": "code",
   "execution_count": 16,
   "metadata": {
    "hidden": true,
    "pycharm": {
     "name": "#%%\n"
    }
   },
   "outputs": [
    {
     "data": {
      "text/plain": [
       "<AxesSubplot:xlabel='day', ylabel='month'>"
      ]
     },
     "execution_count": 16,
     "metadata": {},
     "output_type": "execute_result"
    },
    {
     "data": {
      "image/png": "[encoded data removed]",
      "text/plain": [
       "<Figure size 432x288 with 2 Axes>"
      ]
     },
     "metadata": {
      "needs_background": "light"
     },
     "output_type": "display_data"
    }
   ],
   "source": [
    "sns.heatmap(month_day, cmap = 'YlOrBr')"
   ]
  },
  {
   "cell_type": "code",
   "execution_count": 17,
   "metadata": {
    "hidden": true,
    "pycharm": {
     "name": "#%%\n"
    }
   },
   "outputs": [
    {
     "data": {
      "text/plain": [
       "<AxesSubplot:xlabel='day', ylabel='start_hour'>"
      ]
     },
     "execution_count": 17,
     "metadata": {},
     "output_type": "execute_result"
    },
    {
     "data": {
      "image/png": "[encoded data removed]",
      "text/plain": [
       "<Figure size 432x288 with 2 Axes>"
      ]
     },
     "metadata": {
      "needs_background": "light"
     },
     "output_type": "display_data"
    }
   ],
   "source": [
    "sns.heatmap(day_hour, cmap = 'YlOrBr')"
   ]
  },
  {
   "cell_type": "code",
   "execution_count": 18,
   "metadata": {
    "hidden": true,
    "pycharm": {
     "name": "#%%\n"
    }
   },
   "outputs": [
    {
     "data": {
      "text/plain": [
       "<AxesSubplot:xlabel='month', ylabel='start_hour'>"
      ]
     },
     "execution_count": 18,
     "metadata": {},
     "output_type": "execute_result"
    },
    {
     "data": {
      "image/png": "[encoded data removed]",
      "text/plain": [
       "<Figure size 432x288 with 2 Axes>"
      ]
     },
     "metadata": {
      "needs_background": "light"
     },
     "output_type": "display_data"
    }
   ],
   "source": [
    "sns.heatmap(month_hour, cmap = 'YlOrBr')\n"
   ]
  },
  {
   "cell_type": "code",
   "execution_count": 19,
   "metadata": {
    "hidden": true,
    "pycharm": {
     "name": "#%%\n"
    }
   },
   "outputs": [
    {
     "data": {
      "text/plain": [
       "<AxesSubplot:xlabel='day', ylabel='duration'>"
      ]
     },
     "execution_count": 19,
     "metadata": {},
     "output_type": "execute_result"
    },
    {
     "data": {
      "image/png": "[encoded data removed]",
      "text/plain": [
       "<Figure size 432x288 with 1 Axes>"
      ]
     },
     "metadata": {
      "needs_background": "light"
     },
     "output_type": "display_data"
    }
   ],
   "source": [
    "# Duration of travels\n",
    "colors_list = ['#A5A1A1', '#A5A1A1',  '#A5A1A1',  '#A5A1A1',  '#A5A1A1', '#6890F0', '#6890F0']\n",
    "sns.violinplot(x = 'day', y = 'duration', data = df_plot[df_plot['duration'] < 30], palette=colors_list)"
   ]
  },
  {
   "cell_type": "code",
   "execution_count": 20,
   "metadata": {
    "hidden": true,
    "pycharm": {
     "name": "#%%\n"
    }
   },
   "outputs": [
    {
     "data": {
      "text/plain": [
       "<AxesSubplot:xlabel='month', ylabel='duration'>"
      ]
     },
     "execution_count": 20,
     "metadata": {},
     "output_type": "execute_result"
    },
    {
     "data": {
      "image/png": "[encoded data removed]",
      "text/plain": [
       "<Figure size 432x288 with 1 Axes>"
      ]
     },
     "metadata": {
      "needs_background": "light"
     },
     "output_type": "display_data"
    }
   ],
   "source": [
    "colors_list = ['#A5A1A1', '#A5A1A1',  '#A5A1A1',  '#A5A1A1',  '#A5A1A1', '#A5A1A1', '#A5A1A1']\n",
    "sns.violinplot(x = 'month', y = 'duration', data = df_plot[df_plot['duration'] < 30], palette=colors_list)"
   ]
  },
  {
   "cell_type": "code",
   "execution_count": 21,
   "metadata": {
    "hidden": true,
    "pycharm": {
     "name": "#%%\n"
    }
   },
   "outputs": [
    {
     "data": {
      "text/plain": [
       "<matplotlib.collections.PathCollection at 0x23743048610>"
      ]
     },
     "execution_count": 21,
     "metadata": {},
     "output_type": "execute_result"
    },
    {
     "data": {
      "image/png": "[encoded data removed]",
      "text/plain": [
       "<Figure size 432x288 with 1 Axes>"
      ]
     },
     "metadata": {
      "needs_background": "light"
     },
     "output_type": "display_data"
    }
   ],
   "source": [
    "df_plot_dur_reduce = df_plot[df_plot['duration'] < 60]\n",
    "\n",
    "kmeans = KMeans(n_clusters= 3).fit(df_plot_dur_reduce[['duration', 'start_hour']])\n",
    "kmeans.cluster_centers_\n",
    "\n",
    "plt.scatter(x = df_plot_dur_reduce['start_hour'], y = df_plot_dur_reduce['duration'])\n",
    "plt.scatter(x = kmeans.cluster_centers_[0][0], y = kmeans.cluster_centers_[0][1])\n",
    "plt.scatter(x = kmeans.cluster_centers_[1][0], y = kmeans.cluster_centers_[1][1])\n",
    "plt.scatter(x = kmeans.cluster_centers_[2][0], y = kmeans.cluster_centers_[2][1])\n",
    "#plt.scatter(x = kmeans.cluster_centers_[3][0], y = kmeans.cluster_centers_[3][1])"
   ]
  },
  {
   "cell_type": "code",
   "execution_count": 22,
   "metadata": {
    "hidden": true,
    "pycharm": {
     "name": "#%%\n"
    }
   },
   "outputs": [
    {
     "name": "stderr",
     "output_type": "stream",
     "text": [
      "<ipython-input-22-f40a219968fe>:2: SettingWithCopyWarning: \n",
      "A value is trying to be set on a copy of a slice from a DataFrame.\n",
      "Try using .loc[row_indexer,col_indexer] = value instead\n",
      "\n",
      "See the caveats in the documentation: https://pandas.pydata.org/pandas-docs/stable/user_guide/indexing.html#returning-a-view-versus-a-copy\n",
      "  df_plot_july_december['month'] = df_plot_july_december['month'].cat.remove_categories(['June', 'August', 'September', 'October', 'November'])\n"
     ]
    },
    {
     "data": {
      "text/plain": [
       "<seaborn.axisgrid.FacetGrid at 0x23743054c10>"
      ]
     },
     "execution_count": 22,
     "metadata": {},
     "output_type": "execute_result"
    },
    {
     "data": {
      "image/png": "[encoded data removed]",
      "text/plain": [
       "<Figure size 447.625x360 with 1 Axes>"
      ]
     },
     "metadata": {
      "needs_background": "light"
     },
     "output_type": "display_data"
    }
   ],
   "source": [
    "df_plot_july_december = df_plot_dur_reduce[df_plot_dur_reduce['month'].isin(['July', 'December'])]\n",
    "df_plot_july_december['month'] = df_plot_july_december['month'].cat.remove_categories(['June', 'August', 'September', 'October', 'November'])\n",
    "sns.displot(df_plot_july_december, x = 'duration', binwidth = 1, hue = 'month', element = 'step')"
   ]
  },
  {
   "cell_type": "code",
   "execution_count": 23,
   "metadata": {
    "hidden": true,
    "pycharm": {
     "name": "#%%\n"
    }
   },
   "outputs": [
    {
     "data": {
      "text/plain": [
       "<seaborn.axisgrid.FacetGrid at 0x2373eb006d0>"
      ]
     },
     "execution_count": 23,
     "metadata": {},
     "output_type": "execute_result"
    },
    {
     "data": {
      "image/png": "[encoded data removed]",
      "text/plain": [
       "<Figure size 447.625x360 with 1 Axes>"
      ]
     },
     "metadata": {
      "needs_background": "light"
     },
     "output_type": "display_data"
    }
   ],
   "source": [
    "sns.displot(df_plot_july_december, x = 'duration', hue = 'month', kind = 'kde', fill = 'true', cut = 0)"
   ]
  },
  {
   "cell_type": "code",
   "execution_count": 24,
   "metadata": {
    "hidden": true,
    "pycharm": {
     "name": "#%%\n"
    }
   },
   "outputs": [
    {
     "data": {
      "text/plain": [
       "<seaborn.axisgrid.FacetGrid at 0x2373e6c8cd0>"
      ]
     },
     "execution_count": 24,
     "metadata": {},
     "output_type": "execute_result"
    },
    {
     "data": {
      "image/png": "[encoded data removed]",
      "text/plain": [
       "<Figure size 450.75x360 with 1 Axes>"
      ]
     },
     "metadata": {
      "needs_background": "light"
     },
     "output_type": "display_data"
    }
   ],
   "source": [
    "sns.displot(df_plot, x = 'start_hour', hue = 'month', kind = 'kde', fill = 'true', cut = 0)"
   ]
  },
  {
   "cell_type": "code",
   "execution_count": 25,
   "metadata": {
    "hidden": true,
    "pycharm": {
     "name": "#%%\n"
    }
   },
   "outputs": [
    {
     "data": {
      "text/plain": [
       "<seaborn.axisgrid.FacetGrid at 0x237406016d0>"
      ]
     },
     "execution_count": 25,
     "metadata": {},
     "output_type": "execute_result"
    },
    {
     "data": {
      "image/png": "[encoded data removed]",
      "text/plain": [
       "<Figure size 360x360 with 1 Axes>"
      ]
     },
     "metadata": {
      "needs_background": "light"
     },
     "output_type": "display_data"
    }
   ],
   "source": [
    "sns.displot(df_plot_dur_reduce, x = 'duration', binwidth = 2)\n"
   ]
  },
  {
   "cell_type": "code",
   "execution_count": 26,
   "metadata": {
    "hidden": true,
    "pycharm": {
     "name": "#%%\n"
    }
   },
   "outputs": [
    {
     "data": {
      "text/html": [
       "<div>\n",
       "<style scoped>\n",
       "    .dataframe tbody tr th:only-of-type {\n",
       "        vertical-align: middle;\n",
       "    }\n",
       "\n",
       "    .dataframe tbody tr th {\n",
       "        vertical-align: top;\n",
       "    }\n",
       "\n",
       "    .dataframe thead th {\n",
       "        text-align: right;\n",
       "    }\n",
       "</style>\n",
       "<table border=\"1\" class=\"dataframe\">\n",
       "  <thead>\n",
       "    <tr style=\"text-align: right;\">\n",
       "      <th></th>\n",
       "      <th>duration</th>\n",
       "      <th>start_station_num</th>\n",
       "      <th>end_station_num</th>\n",
       "      <th>bike_number</th>\n",
       "      <th>start_hour</th>\n",
       "      <th>end_hour</th>\n",
       "    </tr>\n",
       "    <tr>\n",
       "      <th>month</th>\n",
       "      <th></th>\n",
       "      <th></th>\n",
       "      <th></th>\n",
       "      <th></th>\n",
       "      <th></th>\n",
       "      <th></th>\n",
       "    </tr>\n",
       "  </thead>\n",
       "  <tbody>\n",
       "    <tr>\n",
       "      <th>July</th>\n",
       "      <td>323370</td>\n",
       "      <td>780723675.0</td>\n",
       "      <td>768646870.0</td>\n",
       "      <td>14186458510</td>\n",
       "      <td>290110</td>\n",
       "      <td>293466</td>\n",
       "    </tr>\n",
       "    <tr>\n",
       "      <th>December</th>\n",
       "      <td>187553</td>\n",
       "      <td>627294733.0</td>\n",
       "      <td>625863133.0</td>\n",
       "      <td>10926263544</td>\n",
       "      <td>196970</td>\n",
       "      <td>199578</td>\n",
       "    </tr>\n",
       "  </tbody>\n",
       "</table>\n",
       "</div>"
      ],
      "text/plain": [
       "          duration  start_station_num  end_station_num  bike_number  \\\n",
       "month                                                                 \n",
       "July        323370        780723675.0      768646870.0  14186458510   \n",
       "December    187553        627294733.0      625863133.0  10926263544   \n",
       "\n",
       "          start_hour  end_hour  \n",
       "month                           \n",
       "July          290110    293466  \n",
       "December      196970    199578  "
      ]
     },
     "execution_count": 26,
     "metadata": {},
     "output_type": "execute_result"
    }
   ],
   "source": [
    "df_plot_july_december.groupby('month').sum()"
   ]
  },
  {
   "cell_type": "code",
   "execution_count": 27,
   "metadata": {
    "hidden": true,
    "pycharm": {
     "name": "#%%\n"
    }
   },
   "outputs": [
    {
     "data": {
      "text/plain": [
       "<AxesSubplot:xlabel='start_hour', ylabel='duration'>"
      ]
     },
     "execution_count": 27,
     "metadata": {},
     "output_type": "execute_result"
    },
    {
     "data": {
      "image/png": "[encoded data removed]",
      "text/plain": [
       "<Figure size 432x288 with 2 Axes>"
      ]
     },
     "metadata": {
      "needs_background": "light"
     },
     "output_type": "display_data"
    }
   ],
   "source": [
    "sns.heatmap(pd.crosstab(df_plot_dur_reduce['duration'], df_plot_dur_reduce['start_hour']), cmap = 'YlOrBr')"
   ]
  },
  {
   "cell_type": "markdown",
   "metadata": {},
   "source": [
    "## Station Analysis"
   ]
  },
  {
   "cell_type": "markdown",
   "metadata": {
    "heading_collapsed": true
   },
   "source": [
    "### Start filter data"
   ]
  },
  {
   "cell_type": "code",
   "execution_count": 28,
   "metadata": {
    "hidden": true,
    "pycharm": {
     "name": "#%%\n"
    }
   },
   "outputs": [],
   "source": [
    "# Station\n",
    "start_station_count = df_plot.groupby('start_station_name')['start_station_name'].count()"
   ]
  },
  {
   "cell_type": "code",
   "execution_count": 29,
   "metadata": {
    "hidden": true,
    "pycharm": {
     "name": "#%%\n"
    }
   },
   "outputs": [
    {
     "data": {
      "text/plain": [
       "end_station_name\n",
       "Almedal                         2421\n",
       "Aminogatan                       162\n",
       "Anders Carlssons gata            922\n",
       "AstraZeneca                      736\n",
       "Bastionsplatsen                    1\n",
       "                                ... \n",
       "Åbymässan                        288\n",
       "Åvägen                          1462\n",
       "Åvägen norra                    3347\n",
       "Östra Hamngatan                 4590\n",
       "Östra Hamngatan/Kronhusgatan    3191\n",
       "Name: end_station_name, Length: 123, dtype: int64"
      ]
     },
     "execution_count": 29,
     "metadata": {},
     "output_type": "execute_result"
    }
   ],
   "source": [
    "end_station_count = df_plot.groupby('end_station_name')['end_station_name'].count()\n",
    "end_station_count"
   ]
  },
  {
   "cell_type": "code",
   "execution_count": 30,
   "metadata": {
    "hidden": true,
    "pycharm": {
     "name": "#%%\n"
    }
   },
   "outputs": [],
   "source": [
    "start_end_count = pd.concat([start_station_count, end_station_count], axis = 1)\n",
    "start_end_count = start_end_count.rename(columns = {'start_station_name': 'total_starts', 'end_station_name' : 'total_ends'})"
   ]
  },
  {
   "cell_type": "code",
   "execution_count": 31,
   "metadata": {
    "hidden": true,
    "pycharm": {
     "name": "#%%\n"
    }
   },
   "outputs": [],
   "source": [
    "start_end_count['total_diff'] = start_end_count['total_starts'] - start_end_count['total_ends']\n",
    "start_end_count['diff_percentage'] = start_end_count['total_diff']/(start_end_count['total_starts'] + start_end_count['total_ends'])"
   ]
  },
  {
   "cell_type": "code",
   "execution_count": 32,
   "metadata": {
    "hidden": true,
    "pycharm": {
     "name": "#%%\n"
    }
   },
   "outputs": [
    {
     "data": {
      "text/html": [
       "<div>\n",
       "<style scoped>\n",
       "    .dataframe tbody tr th:only-of-type {\n",
       "        vertical-align: middle;\n",
       "    }\n",
       "\n",
       "    .dataframe tbody tr th {\n",
       "        vertical-align: top;\n",
       "    }\n",
       "\n",
       "    .dataframe thead th {\n",
       "        text-align: right;\n",
       "    }\n",
       "</style>\n",
       "<table border=\"1\" class=\"dataframe\">\n",
       "  <thead>\n",
       "    <tr style=\"text-align: right;\">\n",
       "      <th></th>\n",
       "      <th>total_starts</th>\n",
       "      <th>total_ends</th>\n",
       "      <th>total_diff</th>\n",
       "      <th>diff_percentage</th>\n",
       "    </tr>\n",
       "  </thead>\n",
       "  <tbody>\n",
       "    <tr>\n",
       "      <th>Grönsakstorget</th>\n",
       "      <td>2209.0</td>\n",
       "      <td>3306.0</td>\n",
       "      <td>-1097.0</td>\n",
       "      <td>-0.198912</td>\n",
       "    </tr>\n",
       "    <tr>\n",
       "      <th>Östra Hamngatan</th>\n",
       "      <td>3243.0</td>\n",
       "      <td>4590.0</td>\n",
       "      <td>-1347.0</td>\n",
       "      <td>-0.171965</td>\n",
       "    </tr>\n",
       "    <tr>\n",
       "      <th>Olof Palmes plats</th>\n",
       "      <td>3513.0</td>\n",
       "      <td>4885.0</td>\n",
       "      <td>-1372.0</td>\n",
       "      <td>-0.163372</td>\n",
       "    </tr>\n",
       "    <tr>\n",
       "      <th>Anders Carlssons gata</th>\n",
       "      <td>664.0</td>\n",
       "      <td>922.0</td>\n",
       "      <td>-258.0</td>\n",
       "      <td>-0.162673</td>\n",
       "    </tr>\n",
       "    <tr>\n",
       "      <th>Olskrokstorget</th>\n",
       "      <td>1709.0</td>\n",
       "      <td>2342.0</td>\n",
       "      <td>-633.0</td>\n",
       "      <td>-0.156258</td>\n",
       "    </tr>\n",
       "    <tr>\n",
       "      <th>Domkyrkan</th>\n",
       "      <td>2892.0</td>\n",
       "      <td>3923.0</td>\n",
       "      <td>-1031.0</td>\n",
       "      <td>-0.151284</td>\n",
       "    </tr>\n",
       "    <tr>\n",
       "      <th>Almedal</th>\n",
       "      <td>1820.0</td>\n",
       "      <td>2421.0</td>\n",
       "      <td>-601.0</td>\n",
       "      <td>-0.141712</td>\n",
       "    </tr>\n",
       "    <tr>\n",
       "      <th>Liseberg station</th>\n",
       "      <td>2251.0</td>\n",
       "      <td>2923.0</td>\n",
       "      <td>-672.0</td>\n",
       "      <td>-0.129880</td>\n",
       "    </tr>\n",
       "    <tr>\n",
       "      <th>Scandinavium</th>\n",
       "      <td>888.0</td>\n",
       "      <td>1151.0</td>\n",
       "      <td>-263.0</td>\n",
       "      <td>-0.128985</td>\n",
       "    </tr>\n",
       "    <tr>\n",
       "      <th>Centralen långtidsparkering</th>\n",
       "      <td>119.0</td>\n",
       "      <td>154.0</td>\n",
       "      <td>-35.0</td>\n",
       "      <td>-0.128205</td>\n",
       "    </tr>\n",
       "  </tbody>\n",
       "</table>\n",
       "</div>"
      ],
      "text/plain": [
       "                             total_starts  total_ends  total_diff  \\\n",
       "Grönsakstorget                     2209.0      3306.0     -1097.0   \n",
       "Östra Hamngatan                    3243.0      4590.0     -1347.0   \n",
       "Olof Palmes plats                  3513.0      4885.0     -1372.0   \n",
       "Anders Carlssons gata               664.0       922.0      -258.0   \n",
       "Olskrokstorget                     1709.0      2342.0      -633.0   \n",
       "Domkyrkan                          2892.0      3923.0     -1031.0   \n",
       "Almedal                            1820.0      2421.0      -601.0   \n",
       "Liseberg station                   2251.0      2923.0      -672.0   \n",
       "Scandinavium                        888.0      1151.0      -263.0   \n",
       "Centralen långtidsparkering         119.0       154.0       -35.0   \n",
       "\n",
       "                             diff_percentage  \n",
       "Grönsakstorget                     -0.198912  \n",
       "Östra Hamngatan                    -0.171965  \n",
       "Olof Palmes plats                  -0.163372  \n",
       "Anders Carlssons gata              -0.162673  \n",
       "Olskrokstorget                     -0.156258  \n",
       "Domkyrkan                          -0.151284  \n",
       "Almedal                            -0.141712  \n",
       "Liseberg station                   -0.129880  \n",
       "Scandinavium                       -0.128985  \n",
       "Centralen långtidsparkering        -0.128205  "
      ]
     },
     "execution_count": 32,
     "metadata": {},
     "output_type": "execute_result"
    }
   ],
   "source": [
    "start_end_count.sort_values(by='diff_percentage').head(10)"
   ]
  },
  {
   "cell_type": "code",
   "execution_count": 33,
   "metadata": {
    "hidden": true,
    "pycharm": {
     "name": "#%%\n"
    }
   },
   "outputs": [
    {
     "data": {
      "text/plain": [
       "<matplotlib.legend.Legend at 0x2373ea7ca30>"
      ]
     },
     "execution_count": 33,
     "metadata": {},
     "output_type": "execute_result"
    },
    {
     "data": {
      "image/png": "[encoded data removed]",
      "text/plain": [
       "<Figure size 432x288 with 1 Axes>"
      ]
     },
     "metadata": {
      "needs_background": "light"
     },
     "output_type": "display_data"
    }
   ],
   "source": [
    "d = start_end_count.sort_values(by='diff_percentage').head(10)\n",
    "for station in d.index:\n",
    "    plt.plot([d.loc[station][0], d.loc[station][1]], marker = 'o', label = station)\n",
    "plt.xticks([0, 0.2, 0.4, 0.6, 0.8, 1.0], ['Start trip here', '', '', '', '', 'End trip here'])\n",
    "plt.legend()"
   ]
  },
  {
   "cell_type": "markdown",
   "metadata": {
    "heading_collapsed": true
   },
   "source": [
    "### Filter data functions"
   ]
  },
  {
   "cell_type": "code",
   "execution_count": 34,
   "metadata": {
    "hidden": true,
    "pycharm": {
     "name": "#%%\n"
    }
   },
   "outputs": [
    {
     "data": {
      "image/png": "[encoded data removed]",
      "text/plain": [
       "<Figure size 432x288 with 1 Axes>"
      ]
     },
     "metadata": {
      "needs_background": "light"
     },
     "output_type": "display_data"
    }
   ],
   "source": [
    "def filter_data(h_start = 0, h_end = 23, sort_order = 'diff_percentage', min_trips = 0, num_results = 3,input_df = df_plot):\n",
    "    data = input_df[(input_df['start_hour'] >= h_start) & (input_df['end_hour'] <= h_end)]\n",
    "    start_station = data.groupby('start_station_name')['start_station_name'].count()\n",
    "    start_station = start_station.where(start_station > min_trips).dropna()\n",
    "    end_station = data.groupby('end_station_name')['end_station_name'].count()\n",
    "    end_station = end_station.where(end_station > min_trips).dropna()\n",
    "    start_end = pd.concat([start_station, end_station], axis = 1)\n",
    "    start_end = start_end.rename(columns = {'start_station_name': 'total_starts', 'end_station_name' : 'total_ends'})\n",
    "    start_end['total_diff'] = start_end['total_starts'] - start_end['total_ends']\n",
    "    start_end['diff_percentage'] = start_end['total_diff']/(start_end['total_starts'] + start_end['total_ends'])\n",
    "\n",
    "    # TODO Should NA be dropped? Or replace it with zero? Need domain expertise resarch\n",
    "    popular_start =  start_end.sort_values(by=sort_order).dropna().head(num_results)\n",
    "    popular_end = start_end.sort_values(by=sort_order).dropna().tail(num_results)\n",
    "    popular_stations = list(popular_start.index) + list(popular_end.index)\n",
    "\n",
    "    # TODO Quick and Dirty solution for color increase, but this could be done much better!\n",
    "    color_increase = ['aqua', 'deepskyblue', 'dodgerblue', 'cornflowerblue', 'powderblue']\n",
    "    color_decrease = ['peru', 'chocolate', 'orange', 'gold', 'khaki']\n",
    "\n",
    "    color_increase_index = 0\n",
    "    color_decrease_index = 0\n",
    "    for station in popular_stations:\n",
    "        if start_end.loc[station][0] > start_end.loc[station][1]:\n",
    "            plt.plot([(start_end.loc[station][0]), (start_end.loc[station][1])], marker = 'o', label = station, linestyle = '--', color = color_increase[color_increase_index])\n",
    "            color_increase_index += 1\n",
    "        else:\n",
    "            plt.plot([(start_end.loc[station][0]), (start_end.loc[station][1])], marker = 'o', label = station, color = color_decrease[color_decrease_index])\n",
    "            color_decrease_index += 1\n",
    "        plt.xticks([0, 0.2, 0.4, 0.6, 0.8, 1.0], ['Start trip here', '', '', '', '', 'End trip here'])\n",
    "        plt.legend()\n",
    "        plt.title(f'Start and End between {h_start} and {h_end}')\n",
    "\n",
    "\n",
    "\n",
    "filter_data(h_start = 18, h_end = 21, min_trips = 10, num_results= 5, sort_order= 'total_diff')\n",
    "\n"
   ]
  },
  {
   "cell_type": "code",
   "execution_count": 35,
   "metadata": {
    "hidden": true,
    "pycharm": {
     "name": "#%%\n"
    }
   },
   "outputs": [],
   "source": [
    "def filter_data_2(h_start = 0, h_end = 23, sort_order = 'diff_percentage', min_trips = 0, num_results = 3,input_df = df_plot):\n",
    "    data = input_df[(input_df['start_hour'] >= h_start) & (input_df['end_hour'] <= h_end)]\n",
    "    start_station = data.groupby('start_station_name')['start_station_name'].count()\n",
    "    start_station = start_station.where(start_station > min_trips).dropna()\n",
    "    end_station = data.groupby('end_station_name')['end_station_name'].count()\n",
    "    end_station = end_station.where(end_station > min_trips).dropna()\n",
    "    start_end = pd.concat([start_station, end_station], axis = 1)\n",
    "    start_end = start_end.rename(columns = {'start_station_name': 'total_starts', 'end_station_name' : 'total_ends'})\n",
    "    start_end['total_diff'] = start_end['total_starts'] - start_end['total_ends']\n",
    "    start_end['diff_percentage'] = start_end['total_diff']/(start_end['total_starts'] + start_end['total_ends'])\n",
    "\n",
    "    # TODO Should NA be dropped? Or replace it with zero? Need domain expertise resarch\n",
    "    popular_start =  start_end.sort_values(by=sort_order).dropna().head(num_results)\n",
    "    popular_end = start_end.sort_values(by=sort_order).dropna().tail(num_results)\n",
    "    popular_stations = list(popular_start.index) + list(popular_end.index)\n",
    "\n",
    "    return start_end, popular_stations\n",
    "\n",
    "def viz_start_end(data, stations, h_start = 'unspecified', h_end = 'unspecified'):\n",
    "    color_increase = ['aqua', 'deepskyblue', 'dodgerblue', 'cornflowerblue', 'powderblue']\n",
    "    color_decrease = ['peru', 'chocolate', 'orange', 'gold', 'khaki']\n",
    "\n",
    "    color_increase_index = 0\n",
    "    color_decrease_index = 0\n",
    "    for station in stations:\n",
    "        if data.loc[station][0] > data.loc[station][1]:\n",
    "            plt.plot([(data.loc[station][0]), (data.loc[station][1])], marker = 'o', label = station, linestyle = '--', color = color_increase[color_increase_index])\n",
    "            color_increase_index += 1\n",
    "        else:\n",
    "            plt.plot([(data.loc[station][0]), (data.loc[station][1])], marker = 'o', label = station, color = color_decrease[color_decrease_index])\n",
    "            color_decrease_index += 1\n",
    "        plt.xticks([0, 0.2, 0.4, 0.6, 0.8, 1.0], ['Start trip here', '', '', '', '', 'End trip here'])\n",
    "        plt.legend()\n",
    "        plt.title(f'Start and End between {h_start} and {h_end}')\n",
    "\n",
    "data, stations = filter_data_2(h_start = 6, h_end = 9, min_trips = 100, num_results= 10, sort_order= 'total_diff')\n",
    "#viz_start_end(data, stations)"
   ]
  },
  {
   "cell_type": "code",
   "execution_count": 36,
   "metadata": {
    "hidden": true,
    "pycharm": {
     "name": "#%%\n"
    }
   },
   "outputs": [],
   "source": [
    "hour_start = df_plot.groupby(['start_station_name', 'start_hour'])['start_station_num'].count().reset_index()"
   ]
  },
  {
   "cell_type": "code",
   "execution_count": 37,
   "metadata": {
    "hidden": true,
    "pycharm": {
     "name": "#%%\n"
    }
   },
   "outputs": [
    {
     "data": {
      "text/plain": [
       "RangeIndex(start=0, stop=2587, step=1)"
      ]
     },
     "execution_count": 37,
     "metadata": {},
     "output_type": "execute_result"
    }
   ],
   "source": [
    "hour_end = df_plot.groupby(['end_station_name', 'end_hour'])['start_station_num'].count().reset_index()\n",
    "hour_end.index\n",
    "hour_start.index"
   ]
  },
  {
   "cell_type": "code",
   "execution_count": 38,
   "metadata": {
    "hidden": true,
    "pycharm": {
     "name": "#%%\n"
    }
   },
   "outputs": [
    {
     "data": {
      "text/plain": [
       "<matplotlib.collections.PathCollection at 0x2373bb8f670>"
      ]
     },
     "execution_count": 38,
     "metadata": {},
     "output_type": "execute_result"
    },
    {
     "data": {
      "image/png": "[encoded data removed]",
      "text/plain": [
       "<Figure size 432x288 with 1 Axes>"
      ]
     },
     "metadata": {
      "needs_background": "light"
     },
     "output_type": "display_data"
    }
   ],
   "source": [
    "merge_hour = pd.merge(hour_start, hour_end, left_on =['start_station_name', 'start_hour'], right_on = ['end_station_name', 'end_hour'], suffixes= ['-start', '-end'], how = 'inner')\n",
    "top = merge_hour[merge_hour['start_station_name'] == 'Chalmersplatsen']\n",
    "plt.scatter(top['start_hour'], top['start_station_num-start'])\n",
    "plt.scatter(top['start_hour'], top['start_station_num-end'], color = 'red')"
   ]
  },
  {
   "cell_type": "code",
   "execution_count": 40,
   "metadata": {
    "hidden": true,
    "pycharm": {
     "name": "#%%\n"
    }
   },
   "outputs": [
    {
     "name": "stdout",
     "output_type": "stream",
     "text": [
      "<class 'pandas.core.frame.DataFrame'>\n"
     ]
    }
   ],
   "source": [
    "print(type(top))\n",
    "#sns.displot(df_plot_july_december, x = 'duration', hue = 'month', kind = 'kde', fill = 'true', cut = 0)\n",
    "#sns.displot(data = top, x = 'start_hour', y =['start_station_num-start', 'start_station_num-end'], hue = 'end_station_name', kind = 'kde')\n"
   ]
  },
  {
   "cell_type": "markdown",
   "metadata": {
    "heading_collapsed": true
   },
   "source": [
    "### Number of start and end trips for each hour"
   ]
  },
  {
   "cell_type": "code",
   "execution_count": 41,
   "metadata": {
    "hidden": true
   },
   "outputs": [],
   "source": [
    "df_plot2 = df_plot.copy()"
   ]
  },
  {
   "cell_type": "code",
   "execution_count": 42,
   "metadata": {
    "hidden": true,
    "pycharm": {
     "name": "#%%\n"
    }
   },
   "outputs": [
    {
     "data": {
      "text/plain": [
       "<AxesSubplot:xlabel='hour', ylabel='start_station_num-start'>"
      ]
     },
     "execution_count": 42,
     "metadata": {},
     "output_type": "execute_result"
    },
    {
     "data": {
      "image/png": "[encoded data removed]",
      "text/plain": [
       "<Figure size 432x288 with 1 Axes>"
      ]
     },
     "metadata": {},
     "output_type": "display_data"
    }
   ],
   "source": [
    "'''Look at numbers of start and end trips for each hour\n",
    "This is some extra steps'''\n",
    "start = top.iloc[:,:3]\n",
    "start['mode'] = 'start'\n",
    "start = start.rename(columns={'start_station_name' : 'station', 'start_hour' : 'hour'})\n",
    "end = top.iloc[:,3:]\n",
    "end['mode'] = 'end'\n",
    "end = end.rename(columns={'start_station_num-end': 'start_station_num-start', 'end_station_name' : 'station', 'end_hour': 'hour'})\n",
    "\n",
    "temp = end.append(start)\n",
    "\n",
    "#Changes the stile\n",
    "sns.set_style('darkgrid')\n",
    "sns.lineplot(data = temp, x = 'hour', y = 'start_station_num-start', hue = 'mode')\n",
    "#sns.displot(df_plot, x = 'start_hour', hue = 'month', kind = 'kde', fill = 'true', cut = 0)"
   ]
  },
  {
   "cell_type": "code",
   "execution_count": 43,
   "metadata": {
    "hidden": true,
    "pycharm": {
     "name": "#%%\n"
    }
   },
   "outputs": [],
   "source": [
    "def increasing(series, t):\n",
    "    return t\n",
    "\n",
    "def bucket(series):\n",
    "    count = 0\n",
    "    for i in series:\n",
    "        if i <= 5:\n",
    "            count = count + 1\n",
    "    return count\n",
    "\n",
    "'''Data for duration starting from this point'''\n",
    "temp2 = df_plot.groupby(['start_station_name', 'start_hour'])['duration'].agg([('0-5', lambda x:sum(x<=5)),\n",
    "                                                                        ('6-10', lambda x:sum((x>=6) & (x<=10))),\n",
    "                                                                        ('11-15', lambda x:sum((x>=11) & (x<=15))),\n",
    "                                                                        ('16-20', lambda x:sum((x>=16) & (x<=20))),\n",
    "                                                                        ('21+', lambda x:sum(x>=21))]).reset_index()"
   ]
  },
  {
   "cell_type": "code",
   "execution_count": 44,
   "metadata": {
    "hidden": true,
    "pycharm": {
     "name": "#%%\n"
    },
    "scrolled": true
   },
   "outputs": [
    {
     "data": {
      "text/plain": [
       "<matplotlib.collections.PathCollection at 0x2373e1d69a0>"
      ]
     },
     "execution_count": 44,
     "metadata": {},
     "output_type": "execute_result"
    },
    {
     "data": {
      "image/png": "[encoded data removed]",
      "text/plain": [
       "<Figure size 432x288 with 1 Axes>"
      ]
     },
     "metadata": {},
     "output_type": "display_data"
    }
   ],
   "source": [
    "plt.scatter(temp2[temp2['start_station_name'] == 'Östra Hamngatan/Kronhusgatan']['start_hour'],temp2[temp2['start_station_name'] == 'Östra Hamngatan/Kronhusgatan']['0-5'])\n",
    "plt.scatter(temp2[temp2['start_station_name'] == 'Östra Hamngatan/Kronhusgatan']['start_hour'],temp2[temp2['start_station_name'] == 'Östra Hamngatan/Kronhusgatan']['6-10'], color = 'black')\n",
    "plt.scatter(temp2[temp2['start_station_name'] == 'Östra Hamngatan/Kronhusgatan']['start_hour'],temp2[temp2['start_station_name'] == 'Östra Hamngatan/Kronhusgatan']['21+'], color = 'red')\n"
   ]
  },
  {
   "cell_type": "code",
   "execution_count": 45,
   "metadata": {
    "hidden": true,
    "pycharm": {
     "name": "#%%\n"
    }
   },
   "outputs": [],
   "source": [
    "hour_start = df_plot.groupby(['start_station_name', 'start_hour'])['start_station_num'].count().reset_index()"
   ]
  },
  {
   "cell_type": "code",
   "execution_count": 46,
   "metadata": {
    "hidden": true,
    "pycharm": {
     "name": "#%%\n"
    }
   },
   "outputs": [
    {
     "data": {
      "text/plain": [
       "RangeIndex(start=0, stop=2587, step=1)"
      ]
     },
     "execution_count": 46,
     "metadata": {},
     "output_type": "execute_result"
    }
   ],
   "source": [
    "hour_end = df_plot.groupby(['end_station_name', 'end_hour'])['start_station_num'].count().reset_index()\n",
    "hour_end.index\n",
    "hour_start.index\n"
   ]
  },
  {
   "cell_type": "code",
   "execution_count": 47,
   "metadata": {
    "hidden": true,
    "pycharm": {
     "name": "#%%\n"
    },
    "scrolled": true
   },
   "outputs": [
    {
     "data": {
      "text/html": [
       "<div>\n",
       "<style scoped>\n",
       "    .dataframe tbody tr th:only-of-type {\n",
       "        vertical-align: middle;\n",
       "    }\n",
       "\n",
       "    .dataframe tbody tr th {\n",
       "        vertical-align: top;\n",
       "    }\n",
       "\n",
       "    .dataframe thead th {\n",
       "        text-align: right;\n",
       "    }\n",
       "</style>\n",
       "<table border=\"1\" class=\"dataframe\">\n",
       "  <thead>\n",
       "    <tr style=\"text-align: right;\">\n",
       "      <th></th>\n",
       "      <th>start_station_name</th>\n",
       "      <th>start_hour</th>\n",
       "      <th>start_station_num-start</th>\n",
       "      <th>end_station_name</th>\n",
       "      <th>end_hour</th>\n",
       "      <th>start_station_num-end</th>\n",
       "    </tr>\n",
       "  </thead>\n",
       "  <tbody>\n",
       "    <tr>\n",
       "      <th>0</th>\n",
       "      <td>Almedal</td>\n",
       "      <td>0</td>\n",
       "      <td>7</td>\n",
       "      <td>Almedal</td>\n",
       "      <td>0</td>\n",
       "      <td>24</td>\n",
       "    </tr>\n",
       "    <tr>\n",
       "      <th>1</th>\n",
       "      <td>Almedal</td>\n",
       "      <td>1</td>\n",
       "      <td>6</td>\n",
       "      <td>Almedal</td>\n",
       "      <td>1</td>\n",
       "      <td>21</td>\n",
       "    </tr>\n",
       "    <tr>\n",
       "      <th>2</th>\n",
       "      <td>Almedal</td>\n",
       "      <td>2</td>\n",
       "      <td>10</td>\n",
       "      <td>Almedal</td>\n",
       "      <td>2</td>\n",
       "      <td>7</td>\n",
       "    </tr>\n",
       "    <tr>\n",
       "      <th>3</th>\n",
       "      <td>Almedal</td>\n",
       "      <td>3</td>\n",
       "      <td>3</td>\n",
       "      <td>Almedal</td>\n",
       "      <td>3</td>\n",
       "      <td>5</td>\n",
       "    </tr>\n",
       "    <tr>\n",
       "      <th>4</th>\n",
       "      <td>Almedal</td>\n",
       "      <td>4</td>\n",
       "      <td>3</td>\n",
       "      <td>Almedal</td>\n",
       "      <td>4</td>\n",
       "      <td>8</td>\n",
       "    </tr>\n",
       "    <tr>\n",
       "      <th>5</th>\n",
       "      <td>Almedal</td>\n",
       "      <td>5</td>\n",
       "      <td>3</td>\n",
       "      <td>Almedal</td>\n",
       "      <td>5</td>\n",
       "      <td>15</td>\n",
       "    </tr>\n",
       "    <tr>\n",
       "      <th>6</th>\n",
       "      <td>Almedal</td>\n",
       "      <td>6</td>\n",
       "      <td>55</td>\n",
       "      <td>Almedal</td>\n",
       "      <td>6</td>\n",
       "      <td>77</td>\n",
       "    </tr>\n",
       "    <tr>\n",
       "      <th>7</th>\n",
       "      <td>Almedal</td>\n",
       "      <td>7</td>\n",
       "      <td>187</td>\n",
       "      <td>Almedal</td>\n",
       "      <td>7</td>\n",
       "      <td>251</td>\n",
       "    </tr>\n",
       "    <tr>\n",
       "      <th>8</th>\n",
       "      <td>Almedal</td>\n",
       "      <td>8</td>\n",
       "      <td>159</td>\n",
       "      <td>Almedal</td>\n",
       "      <td>8</td>\n",
       "      <td>260</td>\n",
       "    </tr>\n",
       "    <tr>\n",
       "      <th>9</th>\n",
       "      <td>Almedal</td>\n",
       "      <td>9</td>\n",
       "      <td>67</td>\n",
       "      <td>Almedal</td>\n",
       "      <td>9</td>\n",
       "      <td>101</td>\n",
       "    </tr>\n",
       "    <tr>\n",
       "      <th>10</th>\n",
       "      <td>Almedal</td>\n",
       "      <td>10</td>\n",
       "      <td>55</td>\n",
       "      <td>Almedal</td>\n",
       "      <td>10</td>\n",
       "      <td>70</td>\n",
       "    </tr>\n",
       "    <tr>\n",
       "      <th>11</th>\n",
       "      <td>Almedal</td>\n",
       "      <td>11</td>\n",
       "      <td>96</td>\n",
       "      <td>Almedal</td>\n",
       "      <td>11</td>\n",
       "      <td>97</td>\n",
       "    </tr>\n",
       "    <tr>\n",
       "      <th>12</th>\n",
       "      <td>Almedal</td>\n",
       "      <td>12</td>\n",
       "      <td>99</td>\n",
       "      <td>Almedal</td>\n",
       "      <td>12</td>\n",
       "      <td>125</td>\n",
       "    </tr>\n",
       "    <tr>\n",
       "      <th>13</th>\n",
       "      <td>Almedal</td>\n",
       "      <td>13</td>\n",
       "      <td>91</td>\n",
       "      <td>Almedal</td>\n",
       "      <td>13</td>\n",
       "      <td>77</td>\n",
       "    </tr>\n",
       "    <tr>\n",
       "      <th>14</th>\n",
       "      <td>Almedal</td>\n",
       "      <td>14</td>\n",
       "      <td>111</td>\n",
       "      <td>Almedal</td>\n",
       "      <td>14</td>\n",
       "      <td>101</td>\n",
       "    </tr>\n",
       "    <tr>\n",
       "      <th>15</th>\n",
       "      <td>Almedal</td>\n",
       "      <td>15</td>\n",
       "      <td>155</td>\n",
       "      <td>Almedal</td>\n",
       "      <td>15</td>\n",
       "      <td>119</td>\n",
       "    </tr>\n",
       "    <tr>\n",
       "      <th>16</th>\n",
       "      <td>Almedal</td>\n",
       "      <td>16</td>\n",
       "      <td>276</td>\n",
       "      <td>Almedal</td>\n",
       "      <td>16</td>\n",
       "      <td>243</td>\n",
       "    </tr>\n",
       "    <tr>\n",
       "      <th>17</th>\n",
       "      <td>Almedal</td>\n",
       "      <td>17</td>\n",
       "      <td>187</td>\n",
       "      <td>Almedal</td>\n",
       "      <td>17</td>\n",
       "      <td>322</td>\n",
       "    </tr>\n",
       "    <tr>\n",
       "      <th>18</th>\n",
       "      <td>Almedal</td>\n",
       "      <td>18</td>\n",
       "      <td>103</td>\n",
       "      <td>Almedal</td>\n",
       "      <td>18</td>\n",
       "      <td>201</td>\n",
       "    </tr>\n",
       "    <tr>\n",
       "      <th>19</th>\n",
       "      <td>Almedal</td>\n",
       "      <td>19</td>\n",
       "      <td>61</td>\n",
       "      <td>Almedal</td>\n",
       "      <td>19</td>\n",
       "      <td>93</td>\n",
       "    </tr>\n",
       "    <tr>\n",
       "      <th>20</th>\n",
       "      <td>Almedal</td>\n",
       "      <td>20</td>\n",
       "      <td>38</td>\n",
       "      <td>Almedal</td>\n",
       "      <td>20</td>\n",
       "      <td>64</td>\n",
       "    </tr>\n",
       "    <tr>\n",
       "      <th>21</th>\n",
       "      <td>Almedal</td>\n",
       "      <td>21</td>\n",
       "      <td>16</td>\n",
       "      <td>Almedal</td>\n",
       "      <td>21</td>\n",
       "      <td>40</td>\n",
       "    </tr>\n",
       "    <tr>\n",
       "      <th>22</th>\n",
       "      <td>Almedal</td>\n",
       "      <td>22</td>\n",
       "      <td>15</td>\n",
       "      <td>Almedal</td>\n",
       "      <td>22</td>\n",
       "      <td>37</td>\n",
       "    </tr>\n",
       "    <tr>\n",
       "      <th>23</th>\n",
       "      <td>Almedal</td>\n",
       "      <td>23</td>\n",
       "      <td>17</td>\n",
       "      <td>Almedal</td>\n",
       "      <td>23</td>\n",
       "      <td>36</td>\n",
       "    </tr>\n",
       "  </tbody>\n",
       "</table>\n",
       "</div>"
      ],
      "text/plain": [
       "   start_station_name  start_hour  start_station_num-start end_station_name  \\\n",
       "0             Almedal           0                        7          Almedal   \n",
       "1             Almedal           1                        6          Almedal   \n",
       "2             Almedal           2                       10          Almedal   \n",
       "3             Almedal           3                        3          Almedal   \n",
       "4             Almedal           4                        3          Almedal   \n",
       "5             Almedal           5                        3          Almedal   \n",
       "6             Almedal           6                       55          Almedal   \n",
       "7             Almedal           7                      187          Almedal   \n",
       "8             Almedal           8                      159          Almedal   \n",
       "9             Almedal           9                       67          Almedal   \n",
       "10            Almedal          10                       55          Almedal   \n",
       "11            Almedal          11                       96          Almedal   \n",
       "12            Almedal          12                       99          Almedal   \n",
       "13            Almedal          13                       91          Almedal   \n",
       "14            Almedal          14                      111          Almedal   \n",
       "15            Almedal          15                      155          Almedal   \n",
       "16            Almedal          16                      276          Almedal   \n",
       "17            Almedal          17                      187          Almedal   \n",
       "18            Almedal          18                      103          Almedal   \n",
       "19            Almedal          19                       61          Almedal   \n",
       "20            Almedal          20                       38          Almedal   \n",
       "21            Almedal          21                       16          Almedal   \n",
       "22            Almedal          22                       15          Almedal   \n",
       "23            Almedal          23                       17          Almedal   \n",
       "\n",
       "    end_hour  start_station_num-end  \n",
       "0          0                     24  \n",
       "1          1                     21  \n",
       "2          2                      7  \n",
       "3          3                      5  \n",
       "4          4                      8  \n",
       "5          5                     15  \n",
       "6          6                     77  \n",
       "7          7                    251  \n",
       "8          8                    260  \n",
       "9          9                    101  \n",
       "10        10                     70  \n",
       "11        11                     97  \n",
       "12        12                    125  \n",
       "13        13                     77  \n",
       "14        14                    101  \n",
       "15        15                    119  \n",
       "16        16                    243  \n",
       "17        17                    322  \n",
       "18        18                    201  \n",
       "19        19                     93  \n",
       "20        20                     64  \n",
       "21        21                     40  \n",
       "22        22                     37  \n",
       "23        23                     36  "
      ]
     },
     "execution_count": 47,
     "metadata": {},
     "output_type": "execute_result"
    }
   ],
   "source": [
    "merge_hour[merge_hour['start_station_name'] == 'Almedal']"
   ]
  },
  {
   "cell_type": "code",
   "execution_count": 48,
   "metadata": {
    "hidden": true,
    "pycharm": {
     "name": "#%%\n"
    }
   },
   "outputs": [
    {
     "name": "stdout",
     "output_type": "stream",
     "text": [
      "na\n",
      "na\n",
      "na\n",
      "na\n",
      "na\n",
      "na\n",
      "na\n",
      "na\n",
      "na\n",
      "na\n",
      "na\n",
      "na\n",
      "na\n",
      "na\n",
      "na\n",
      "na\n",
      "na\n",
      "na\n",
      "na\n",
      "na\n",
      "na\n",
      "na\n",
      "na\n",
      "na\n",
      "na\n",
      "na\n"
     ]
    },
    {
     "data": {
      "text/plain": [
       "<matplotlib.lines._AxLine at 0x2373e2b4790>"
      ]
     },
     "execution_count": 48,
     "metadata": {},
     "output_type": "execute_result"
    },
    {
     "data": {
      "image/png": "[encoded data removed]",
      "text/plain": [
       "<Figure size 432x288 with 1 Axes>"
      ]
     },
     "metadata": {},
     "output_type": "display_data"
    }
   ],
   "source": [
    "# more_starts = data.apply(lambda x: x['total_starts'] - x['total_ends'], axis = 1)\n",
    "na_count = 0\n",
    "for index, rows in data.iterrows():\n",
    "    if rows.isna().any():\n",
    "        na_count =+ 1\n",
    "        print('na')\n",
    "    else:\n",
    "        if rows['total_diff'] > 0:\n",
    "            clr = 'black'\n",
    "        else:\n",
    "            clr = 'red'\n",
    "        plt.scatter(rows['total_starts'], rows['total_ends'], color = clr)\n",
    "        plt.title(na_count)\n",
    "#plt.scatter(data['total_starts'], data['total_ends'])\n",
    "plt.xlabel('starts')\n",
    "plt.ylabel('ends')\n",
    "plt.axline([0,0], [100,100])"
   ]
  },
  {
   "cell_type": "markdown",
   "metadata": {
    "heading_collapsed": true
   },
   "source": [
    "### End-to-End flow"
   ]
  },
  {
   "cell_type": "code",
   "execution_count": 49,
   "metadata": {
    "hidden": true,
    "pycharm": {
     "name": "#%%\n"
    }
   },
   "outputs": [
    {
     "data": {
      "text/html": [
       "<div>\n",
       "<style scoped>\n",
       "    .dataframe tbody tr th:only-of-type {\n",
       "        vertical-align: middle;\n",
       "    }\n",
       "\n",
       "    .dataframe tbody tr th {\n",
       "        vertical-align: top;\n",
       "    }\n",
       "\n",
       "    .dataframe thead th {\n",
       "        text-align: right;\n",
       "    }\n",
       "</style>\n",
       "<table border=\"1\" class=\"dataframe\">\n",
       "  <thead>\n",
       "    <tr style=\"text-align: right;\">\n",
       "      <th></th>\n",
       "      <th>start_station_name</th>\n",
       "      <th>0-6</th>\n",
       "      <th>7-12</th>\n",
       "      <th>13-16</th>\n",
       "      <th>17-19</th>\n",
       "      <th>20-23</th>\n",
       "    </tr>\n",
       "  </thead>\n",
       "  <tbody>\n",
       "    <tr>\n",
       "      <th>0</th>\n",
       "      <td>Chapmans torg</td>\n",
       "      <td>0.058985</td>\n",
       "      <td>0.493827</td>\n",
       "      <td>0.212163</td>\n",
       "      <td>0.165981</td>\n",
       "      <td>0.069044</td>\n",
       "    </tr>\n",
       "    <tr>\n",
       "      <th>1</th>\n",
       "      <td>Domkyrkan</td>\n",
       "      <td>0.024550</td>\n",
       "      <td>0.181881</td>\n",
       "      <td>0.383817</td>\n",
       "      <td>0.330913</td>\n",
       "      <td>0.078838</td>\n",
       "    </tr>\n",
       "    <tr>\n",
       "      <th>2</th>\n",
       "      <td>Drottningtorget</td>\n",
       "      <td>0.119701</td>\n",
       "      <td>0.424096</td>\n",
       "      <td>0.202774</td>\n",
       "      <td>0.174408</td>\n",
       "      <td>0.079021</td>\n",
       "    </tr>\n",
       "    <tr>\n",
       "      <th>3</th>\n",
       "      <td>Första långgatan/Värmlandsgatan</td>\n",
       "      <td>0.051014</td>\n",
       "      <td>0.229256</td>\n",
       "      <td>0.389060</td>\n",
       "      <td>0.237861</td>\n",
       "      <td>0.092809</td>\n",
       "    </tr>\n",
       "    <tr>\n",
       "      <th>4</th>\n",
       "      <td>Gibraltargatan/Eklandagatan</td>\n",
       "      <td>0.099134</td>\n",
       "      <td>0.473593</td>\n",
       "      <td>0.204762</td>\n",
       "      <td>0.161472</td>\n",
       "      <td>0.061039</td>\n",
       "    </tr>\n",
       "    <tr>\n",
       "      <th>5</th>\n",
       "      <td>Grönsakstorget</td>\n",
       "      <td>0.016297</td>\n",
       "      <td>0.221820</td>\n",
       "      <td>0.414215</td>\n",
       "      <td>0.265731</td>\n",
       "      <td>0.081938</td>\n",
       "    </tr>\n",
       "    <tr>\n",
       "      <th>6</th>\n",
       "      <td>Gustaf Adolfs torg</td>\n",
       "      <td>0.035574</td>\n",
       "      <td>0.203799</td>\n",
       "      <td>0.377148</td>\n",
       "      <td>0.270727</td>\n",
       "      <td>0.112752</td>\n",
       "    </tr>\n",
       "    <tr>\n",
       "      <th>7</th>\n",
       "      <td>Gårdatorget</td>\n",
       "      <td>0.025739</td>\n",
       "      <td>0.159676</td>\n",
       "      <td>0.517636</td>\n",
       "      <td>0.253575</td>\n",
       "      <td>0.043375</td>\n",
       "    </tr>\n",
       "    <tr>\n",
       "      <th>8</th>\n",
       "      <td>Hagabion</td>\n",
       "      <td>0.057512</td>\n",
       "      <td>0.469015</td>\n",
       "      <td>0.223139</td>\n",
       "      <td>0.158939</td>\n",
       "      <td>0.091395</td>\n",
       "    </tr>\n",
       "    <tr>\n",
       "      <th>9</th>\n",
       "      <td>Kastellgatan</td>\n",
       "      <td>0.074738</td>\n",
       "      <td>0.491696</td>\n",
       "      <td>0.229021</td>\n",
       "      <td>0.153409</td>\n",
       "      <td>0.051136</td>\n",
       "    </tr>\n",
       "    <tr>\n",
       "      <th>10</th>\n",
       "      <td>Landala torg</td>\n",
       "      <td>0.083999</td>\n",
       "      <td>0.401185</td>\n",
       "      <td>0.233703</td>\n",
       "      <td>0.200721</td>\n",
       "      <td>0.080392</td>\n",
       "    </tr>\n",
       "    <tr>\n",
       "      <th>11</th>\n",
       "      <td>Nils Ericson terminalen</td>\n",
       "      <td>0.150968</td>\n",
       "      <td>0.473548</td>\n",
       "      <td>0.160000</td>\n",
       "      <td>0.141935</td>\n",
       "      <td>0.073548</td>\n",
       "    </tr>\n",
       "    <tr>\n",
       "      <th>12</th>\n",
       "      <td>Olof Palmes plats</td>\n",
       "      <td>0.107316</td>\n",
       "      <td>0.219755</td>\n",
       "      <td>0.335041</td>\n",
       "      <td>0.196698</td>\n",
       "      <td>0.141190</td>\n",
       "    </tr>\n",
       "    <tr>\n",
       "      <th>13</th>\n",
       "      <td>Redbergsplatsen</td>\n",
       "      <td>0.073916</td>\n",
       "      <td>0.421827</td>\n",
       "      <td>0.260836</td>\n",
       "      <td>0.175310</td>\n",
       "      <td>0.068111</td>\n",
       "    </tr>\n",
       "    <tr>\n",
       "      <th>14</th>\n",
       "      <td>Sahlgrenska huvudentré</td>\n",
       "      <td>0.011775</td>\n",
       "      <td>0.169050</td>\n",
       "      <td>0.609756</td>\n",
       "      <td>0.133726</td>\n",
       "      <td>0.075694</td>\n",
       "    </tr>\n",
       "    <tr>\n",
       "      <th>15</th>\n",
       "      <td>Stenpiren</td>\n",
       "      <td>0.029398</td>\n",
       "      <td>0.268675</td>\n",
       "      <td>0.340000</td>\n",
       "      <td>0.269157</td>\n",
       "      <td>0.092771</td>\n",
       "    </tr>\n",
       "    <tr>\n",
       "      <th>16</th>\n",
       "      <td>Svingeln</td>\n",
       "      <td>0.105250</td>\n",
       "      <td>0.396598</td>\n",
       "      <td>0.270643</td>\n",
       "      <td>0.154548</td>\n",
       "      <td>0.072960</td>\n",
       "    </tr>\n",
       "    <tr>\n",
       "      <th>17</th>\n",
       "      <td>Wavrinskys plats</td>\n",
       "      <td>0.065794</td>\n",
       "      <td>0.394123</td>\n",
       "      <td>0.280741</td>\n",
       "      <td>0.188119</td>\n",
       "      <td>0.071223</td>\n",
       "    </tr>\n",
       "    <tr>\n",
       "      <th>18</th>\n",
       "      <td>Östra Hamngatan</td>\n",
       "      <td>0.033611</td>\n",
       "      <td>0.196731</td>\n",
       "      <td>0.373420</td>\n",
       "      <td>0.294480</td>\n",
       "      <td>0.101758</td>\n",
       "    </tr>\n",
       "    <tr>\n",
       "      <th>19</th>\n",
       "      <td>Östra Hamngatan/Kronhusgatan</td>\n",
       "      <td>0.015527</td>\n",
       "      <td>0.218698</td>\n",
       "      <td>0.410968</td>\n",
       "      <td>0.268252</td>\n",
       "      <td>0.086554</td>\n",
       "    </tr>\n",
       "  </tbody>\n",
       "</table>\n",
       "</div>"
      ],
      "text/plain": [
       "                 start_station_name       0-6      7-12     13-16     17-19  \\\n",
       "0                     Chapmans torg  0.058985  0.493827  0.212163  0.165981   \n",
       "1                         Domkyrkan  0.024550  0.181881  0.383817  0.330913   \n",
       "2                   Drottningtorget  0.119701  0.424096  0.202774  0.174408   \n",
       "3   Första långgatan/Värmlandsgatan  0.051014  0.229256  0.389060  0.237861   \n",
       "4       Gibraltargatan/Eklandagatan  0.099134  0.473593  0.204762  0.161472   \n",
       "5                    Grönsakstorget  0.016297  0.221820  0.414215  0.265731   \n",
       "6                Gustaf Adolfs torg  0.035574  0.203799  0.377148  0.270727   \n",
       "7                       Gårdatorget  0.025739  0.159676  0.517636  0.253575   \n",
       "8                          Hagabion  0.057512  0.469015  0.223139  0.158939   \n",
       "9                      Kastellgatan  0.074738  0.491696  0.229021  0.153409   \n",
       "10                     Landala torg  0.083999  0.401185  0.233703  0.200721   \n",
       "11          Nils Ericson terminalen  0.150968  0.473548  0.160000  0.141935   \n",
       "12                Olof Palmes plats  0.107316  0.219755  0.335041  0.196698   \n",
       "13                  Redbergsplatsen  0.073916  0.421827  0.260836  0.175310   \n",
       "14           Sahlgrenska huvudentré  0.011775  0.169050  0.609756  0.133726   \n",
       "15                        Stenpiren  0.029398  0.268675  0.340000  0.269157   \n",
       "16                         Svingeln  0.105250  0.396598  0.270643  0.154548   \n",
       "17                 Wavrinskys plats  0.065794  0.394123  0.280741  0.188119   \n",
       "18                  Östra Hamngatan  0.033611  0.196731  0.373420  0.294480   \n",
       "19     Östra Hamngatan/Kronhusgatan  0.015527  0.218698  0.410968  0.268252   \n",
       "\n",
       "       20-23  \n",
       "0   0.069044  \n",
       "1   0.078838  \n",
       "2   0.079021  \n",
       "3   0.092809  \n",
       "4   0.061039  \n",
       "5   0.081938  \n",
       "6   0.112752  \n",
       "7   0.043375  \n",
       "8   0.091395  \n",
       "9   0.051136  \n",
       "10  0.080392  \n",
       "11  0.073548  \n",
       "12  0.141190  \n",
       "13  0.068111  \n",
       "14  0.075694  \n",
       "15  0.092771  \n",
       "16  0.072960  \n",
       "17  0.071223  \n",
       "18  0.101758  \n",
       "19  0.086554  "
      ]
     },
     "execution_count": 49,
     "metadata": {},
     "output_type": "execute_result"
    }
   ],
   "source": [
    "## Filter the data\n",
    "\n",
    "# TODO add here to filter out stations\n",
    "filtered_data = df_plot[df_plot['start_station_name'].isin(stations)]\n",
    "\n",
    "## Grouping the data\n",
    "\n",
    "# TODO - Make this nicer so not having strings, but its hard when there can be any amount\n",
    "# of possible hours. Look at size of cutoff_points, build another function thar groups by this condition\n",
    "def grouping_starthour_adv(df, cuttof_points, type = 'proportion', keep_total_count = False):\n",
    "    cutof_dict = {}\n",
    "    for i, cutof in enumerate(cuttof_points):\n",
    "        if cutof == min(cuttof_points):\n",
    "            id = str(0)+'-'+str(cutof)\n",
    "            cutof_dict[i] = tuple([id ,0, cutof])\n",
    "        else:\n",
    "            id = str(cutof_dict[i-1][-1]+1) + '-' + str(cutof)\n",
    "            cutof_dict[i] = tuple([id ,cutof_dict[i-1][-1]+1,cutof])\n",
    "    end_key = len(cutof_dict)\n",
    "    id = str(str((max(cuttof_points)+1)) + '-' + '23')\n",
    "    cutof_dict[end_key] = tuple([id,max(cuttof_points)+1, 23])\n",
    "\n",
    "    string = '['\n",
    "    for key, value in cutof_dict.items():\n",
    "        string = string + '(' + '\\'' + str(value[0]) + '\\'' + ',' + 'lambda x: sum((x >=' + str(value[1]) + ')' + ' & ' + '(x <= ' + str(value[2])  + '))),' +'\\n'\n",
    "    string =  string[:-2] # remove the last comma\n",
    "    string = string + ',' + '\\'count\\'' + ']'\n",
    "\n",
    "    temp = df.groupby(['start_station_name'])['start_hour'].agg(\n",
    "        eval(string)\n",
    "     )\n",
    "\n",
    "    if type == 'proportion':\n",
    "        total_count = temp['count']\n",
    "        res = temp.iloc[:,:-1].div(total_count, axis = 0) #divide all col in row with total row count\n",
    "        if keep_total_count:\n",
    "            res['total_count'] = total_count\n",
    "    return res.reset_index()\n",
    "\n",
    "cutoff_points = [6,12,16,19]\n",
    "grouped_data = grouping_starthour_adv(filtered_data,cutoff_points)\n",
    "grouped_data"
   ]
  },
  {
   "cell_type": "code",
   "execution_count": 50,
   "metadata": {
    "hidden": true,
    "pycharm": {
     "name": "#%%\n"
    }
   },
   "outputs": [],
   "source": [
    "## Clustering the data\n",
    "# Careful if clustering take into account all features, inclding like 20-23. Should this also be dropped?\n",
    "k = 3\n",
    "kmeans_input_data = grouped_data.drop(columns = ['start_station_name','0-6', '20-23'])\n",
    "kmeans_model = KMeans(n_clusters = k).fit(kmeans_input_data)#Drop station as it's not a feature\n",
    "def find_station_label(data, model, k):\n",
    "    labeldict = {}\n",
    "    for i in range(k):\n",
    "        labeldict[i] = []\n",
    "    for index, label in enumerate(kmeans_model.labels_):\n",
    "        station = grouped_data.iloc[index,0]\n",
    "        labeldict[label].append(station)\n",
    "    return labeldict\n",
    "\n",
    "t = find_station_label(grouped_data,kmeans_model,k)"
   ]
  },
  {
   "cell_type": "code",
   "execution_count": 51,
   "metadata": {
    "hidden": true,
    "pycharm": {
     "name": "#%%\n"
    },
    "scrolled": true
   },
   "outputs": [
    {
     "name": "stdout",
     "output_type": "stream",
     "text": [
      "[0, 6, 12, 16, 19, 23]\n"
     ]
    },
    {
     "data": {
      "image/png": "[encoded data removed]",
      "text/plain": [
       "<Figure size 432x288 with 1 Axes>"
      ]
     },
     "metadata": {},
     "output_type": "display_data"
    },
    {
     "data": {
      "image/png": "[encoded data removed]",
      "text/plain": [
       "<Figure size 432x288 with 1 Axes>"
      ]
     },
     "metadata": {},
     "output_type": "display_data"
    },
    {
     "data": {
      "image/png": "[encoded data removed]",
      "text/plain": [
       "<Figure size 432x288 with 1 Axes>"
      ]
     },
     "metadata": {},
     "output_type": "display_data"
    }
   ],
   "source": [
    "## Visualizing the data\n",
    "\n",
    "def stacked_bar_clustering_viz(labeldict, data,model_data, points_of_cutoff, cluster_centers, max_results = 1000):\n",
    "    def find_stacked_bottom(n, row):\n",
    "        bottom = 0\n",
    "        for i in range(0,n):\n",
    "            bottom = bottom + row.iloc[:, (i+1)]\n",
    "        return bottom\n",
    "\n",
    "    all_cutoff_pts = points_of_cutoff.copy()\n",
    "    all_cutoff_pts = [0] + all_cutoff_pts + [23]\n",
    "    colors = ['whitesmoke', 'lightskyblue', 'cornflowerblue', 'dodgerblue', 'whitesmoke']\n",
    "    print(all_cutoff_pts)\n",
    "    fig, ax = plt.subplots()\n",
    "    for key, value in enumerate(labeldict.items()):\n",
    "        for i, station in enumerate(value[1]):\n",
    "            row = data[data['start_station_name'] == station]\n",
    "            for n in range(0,len(all_cutoff_pts)-1):\n",
    "                bt = find_stacked_bottom(n,row)\n",
    "                plt.barh(station, row.iloc[:,(n+1)], left = bt, color = colors[n], label = station)\n",
    "        center = [ \"{:.0%}\".format(x) for x in cluster_centers[key]]\n",
    "        combo= ['Hour ' + model_data.columns[x] + ': ' +  center[x] for x in range(len(cluster_centers[0]))]\n",
    "        pretty_print = '\\n'.join([str(elem) for elem in combo])\n",
    "        #print(pretty_print)\n",
    "        plt.title('Cluster Centers:  \\n' + str(pretty_print))\n",
    "        plt.show()\n",
    "\n",
    "\n",
    "#{:0.2f}\n",
    "\n",
    "\n",
    "\n",
    "stacked_bar_clustering_viz(t, grouped_data, kmeans_input_data, cutoff_points, kmeans_model.cluster_centers_)\n",
    "\n",
    "\n",
    "temp = grouped_data"
   ]
  }
 ],
 "metadata": {
  "kernelspec": {
   "display_name": "Python 3",
   "language": "python",
   "name": "python3"
  },
  "language_info": {
   "codemirror_mode": {
    "name": "ipython",
    "version": 3
   },
   "file_extension": ".py",
   "mimetype": "text/x-python",
   "name": "python",
   "nbconvert_exporter": "python",
   "pygments_lexer": "ipython3",
   "version": "3.8.5"
  },
  "toc": {
   "base_numbering": 1,
   "nav_menu": {},
   "number_sections": true,
   "sideBar": true,
   "skip_h1_title": false,
   "title_cell": "Table of Contents",
   "title_sidebar": "Contents",
   "toc_cell": false,
   "toc_position": {},
   "toc_section_display": true,
   "toc_window_display": true
  },
  "varInspector": {
   "cols": {
    "lenName": 16,
    "lenType": 16,
    "lenVar": 40
   },
   "kernels_config": {
    "python": {
     "delete_cmd_postfix": "",
     "delete_cmd_prefix": "del ",
     "library": "var_list.py",
     "varRefreshCmd": "print(var_dic_list())"
    },
    "r": {
     "delete_cmd_postfix": ") ",
     "delete_cmd_prefix": "rm(",
     "library": "var_list.r",
     "varRefreshCmd": "cat(var_dic_list()) "
    }
   },
   "types_to_exclude": [
    "module",
    "function",
    "builtin_function_or_method",
    "instance",
    "_Feature"
   ],
   "window_display": false
  }
 },
 "nbformat": 4,
 "nbformat_minor": 4
}
