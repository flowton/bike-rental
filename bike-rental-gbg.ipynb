{
 "cells": [
  {
   "cell_type": "markdown",
   "metadata": {
    "pycharm": {
     "name": "#%% md\n"
    }
   },
   "source": [
    "# Bike Rental Gothenburg\n",
    "\n",
    "* Exploration of Bike Rental in Gothenburg"
   ]
  },
  {
   "cell_type": "code",
   "execution_count": 1,
   "metadata": {
    "pycharm": {
     "name": "#%%\n"
    }
   },
   "outputs": [],
   "source": [
    "#Imports\n",
    "import pandas as pd\n",
    "import numpy as np\n",
    "import seaborn as sns\n",
    "import matplotlib.pyplot as plt\n",
    "from matplotlib_venn import venn2, venn2_circles\n",
    "from sklearn.cluster import KMeans"
   ]
  },
  {
   "cell_type": "markdown",
   "metadata": {
    "heading_collapsed": true
   },
   "source": [
    "## Explore data columns"
   ]
  },
  {
   "cell_type": "code",
   "execution_count": 2,
   "metadata": {
    "hidden": true,
    "pycharm": {
     "name": "#%%\n"
    }
   },
   "outputs": [],
   "source": [
    "#Data import\n",
    "df = pd.read_excel('bike-rental-gbg-travel-2020.xlsx')\n",
    "df = df.rename(columns = {\"Start time\": \"start_time\", \"End time\": \"end_time\", \"Duration\" : \"duration\",\n",
    "                              \"Start station number\" : \"start_station_num\", \"Rental place\" : \"start_station_name\",\n",
    "                              \"End station number\" : \"end_station_num\", \"Return place\" : \"end_station_name\",\n",
    "                              \"Bike number\" : \"bike_number\"})"
   ]
  },
  {
   "cell_type": "code",
   "execution_count": 3,
   "metadata": {
    "hidden": true,
    "pycharm": {
     "name": "#%%\n"
    }
   },
   "outputs": [
    {
     "name": "stdout",
     "output_type": "stream",
     "text": [
      "shape: (190288, 8)\n",
      "start_time            datetime64[ns]\n",
      "end_time              datetime64[ns]\n",
      "duration                       int64\n",
      "start_station_num            float64\n",
      "start_station_name            object\n",
      "end_station_num              float64\n",
      "end_station_name              object\n",
      "bike_number                    int64\n",
      "dtype: object\n"
     ]
    },
    {
     "data": {
      "text/html": [
       "<div>\n",
       "<style scoped>\n",
       "    .dataframe tbody tr th:only-of-type {\n",
       "        vertical-align: middle;\n",
       "    }\n",
       "\n",
       "    .dataframe tbody tr th {\n",
       "        vertical-align: top;\n",
       "    }\n",
       "\n",
       "    .dataframe thead th {\n",
       "        text-align: right;\n",
       "    }\n",
       "</style>\n",
       "<table border=\"1\" class=\"dataframe\">\n",
       "  <thead>\n",
       "    <tr style=\"text-align: right;\">\n",
       "      <th></th>\n",
       "      <th>start_time</th>\n",
       "      <th>end_time</th>\n",
       "      <th>duration</th>\n",
       "      <th>start_station_num</th>\n",
       "      <th>start_station_name</th>\n",
       "      <th>end_station_num</th>\n",
       "      <th>end_station_name</th>\n",
       "      <th>bike_number</th>\n",
       "    </tr>\n",
       "  </thead>\n",
       "  <tbody>\n",
       "    <tr>\n",
       "      <th>0</th>\n",
       "      <td>2020-06-10 06:17:03</td>\n",
       "      <td>2020-06-10 06:30:06</td>\n",
       "      <td>14</td>\n",
       "      <td>41189.0</td>\n",
       "      <td>Domkyrkan</td>\n",
       "      <td>41189.0</td>\n",
       "      <td>Domkyrkan</td>\n",
       "      <td>710161</td>\n",
       "    </tr>\n",
       "    <tr>\n",
       "      <th>1</th>\n",
       "      <td>2020-06-10 06:30:36</td>\n",
       "      <td>2020-06-10 06:31:49</td>\n",
       "      <td>2</td>\n",
       "      <td>41189.0</td>\n",
       "      <td>Domkyrkan</td>\n",
       "      <td>41189.0</td>\n",
       "      <td>Domkyrkan</td>\n",
       "      <td>710939</td>\n",
       "    </tr>\n",
       "    <tr>\n",
       "      <th>2</th>\n",
       "      <td>2020-06-10 06:34:57</td>\n",
       "      <td>2020-06-10 06:36:43</td>\n",
       "      <td>2</td>\n",
       "      <td>41189.0</td>\n",
       "      <td>Domkyrkan</td>\n",
       "      <td>41189.0</td>\n",
       "      <td>Domkyrkan</td>\n",
       "      <td>710067</td>\n",
       "    </tr>\n",
       "    <tr>\n",
       "      <th>3</th>\n",
       "      <td>2020-06-10 06:37:54</td>\n",
       "      <td>2020-06-10 06:39:01</td>\n",
       "      <td>2</td>\n",
       "      <td>41189.0</td>\n",
       "      <td>Domkyrkan</td>\n",
       "      <td>41189.0</td>\n",
       "      <td>Domkyrkan</td>\n",
       "      <td>710817</td>\n",
       "    </tr>\n",
       "    <tr>\n",
       "      <th>4</th>\n",
       "      <td>2020-06-10 06:46:44</td>\n",
       "      <td>2020-06-10 07:00:44</td>\n",
       "      <td>14</td>\n",
       "      <td>41184.0</td>\n",
       "      <td>Östra Hamngatan/Kronhusgatan</td>\n",
       "      <td>41174.0</td>\n",
       "      <td>Masthuggstorget</td>\n",
       "      <td>710914</td>\n",
       "    </tr>\n",
       "  </tbody>\n",
       "</table>\n",
       "</div>"
      ],
      "text/plain": [
       "           start_time            end_time  duration  start_station_num  \\\n",
       "0 2020-06-10 06:17:03 2020-06-10 06:30:06        14            41189.0   \n",
       "1 2020-06-10 06:30:36 2020-06-10 06:31:49         2            41189.0   \n",
       "2 2020-06-10 06:34:57 2020-06-10 06:36:43         2            41189.0   \n",
       "3 2020-06-10 06:37:54 2020-06-10 06:39:01         2            41189.0   \n",
       "4 2020-06-10 06:46:44 2020-06-10 07:00:44        14            41184.0   \n",
       "\n",
       "             start_station_name  end_station_num end_station_name  bike_number  \n",
       "0                     Domkyrkan          41189.0        Domkyrkan       710161  \n",
       "1                     Domkyrkan          41189.0        Domkyrkan       710939  \n",
       "2                     Domkyrkan          41189.0        Domkyrkan       710067  \n",
       "3                     Domkyrkan          41189.0        Domkyrkan       710817  \n",
       "4  Östra Hamngatan/Kronhusgatan          41174.0  Masthuggstorget       710914  "
      ]
     },
     "execution_count": 3,
     "metadata": {},
     "output_type": "execute_result"
    }
   ],
   "source": [
    "#Quick check of data\n",
    "print('shape: '+  str(df.shape))\n",
    "print(df.dtypes)\n",
    "df.head()"
   ]
  },
  {
   "cell_type": "code",
   "execution_count": 4,
   "metadata": {
    "hidden": true,
    "pycharm": {
     "name": "#%% Quick explore of columns\n"
    }
   },
   "outputs": [
    {
     "data": {
      "text/html": [
       "<div>\n",
       "<style scoped>\n",
       "    .dataframe tbody tr th:only-of-type {\n",
       "        vertical-align: middle;\n",
       "    }\n",
       "\n",
       "    .dataframe tbody tr th {\n",
       "        vertical-align: top;\n",
       "    }\n",
       "\n",
       "    .dataframe thead th {\n",
       "        text-align: right;\n",
       "    }\n",
       "</style>\n",
       "<table border=\"1\" class=\"dataframe\">\n",
       "  <thead>\n",
       "    <tr style=\"text-align: right;\">\n",
       "      <th></th>\n",
       "      <th>duration</th>\n",
       "      <th>start_station_num</th>\n",
       "      <th>end_station_num</th>\n",
       "      <th>bike_number</th>\n",
       "    </tr>\n",
       "  </thead>\n",
       "  <tbody>\n",
       "    <tr>\n",
       "      <th>count</th>\n",
       "      <td>190288.000000</td>\n",
       "      <td>185180.000000</td>\n",
       "      <td>183586.000000</td>\n",
       "      <td>190288.000000</td>\n",
       "    </tr>\n",
       "    <tr>\n",
       "      <th>mean</th>\n",
       "      <td>38.466698</td>\n",
       "      <td>41168.081434</td>\n",
       "      <td>41166.660366</td>\n",
       "      <td>710995.062090</td>\n",
       "    </tr>\n",
       "    <tr>\n",
       "      <th>std</th>\n",
       "      <td>288.429364</td>\n",
       "      <td>32.306960</td>\n",
       "      <td>31.195141</td>\n",
       "      <td>573.894224</td>\n",
       "    </tr>\n",
       "    <tr>\n",
       "      <th>min</th>\n",
       "      <td>1.000000</td>\n",
       "      <td>40998.000000</td>\n",
       "      <td>40995.000000</td>\n",
       "      <td>710000.000000</td>\n",
       "    </tr>\n",
       "    <tr>\n",
       "      <th>25%</th>\n",
       "      <td>7.000000</td>\n",
       "      <td>41144.000000</td>\n",
       "      <td>41142.000000</td>\n",
       "      <td>710496.000000</td>\n",
       "    </tr>\n",
       "    <tr>\n",
       "      <th>50%</th>\n",
       "      <td>11.000000</td>\n",
       "      <td>41169.000000</td>\n",
       "      <td>41166.000000</td>\n",
       "      <td>710994.000000</td>\n",
       "    </tr>\n",
       "    <tr>\n",
       "      <th>75%</th>\n",
       "      <td>18.000000</td>\n",
       "      <td>41190.000000</td>\n",
       "      <td>41189.000000</td>\n",
       "      <td>711488.000000</td>\n",
       "    </tr>\n",
       "    <tr>\n",
       "      <th>max</th>\n",
       "      <td>43236.000000</td>\n",
       "      <td>41300.000000</td>\n",
       "      <td>41250.000000</td>\n",
       "      <td>711999.000000</td>\n",
       "    </tr>\n",
       "  </tbody>\n",
       "</table>\n",
       "</div>"
      ],
      "text/plain": [
       "            duration  start_station_num  end_station_num    bike_number\n",
       "count  190288.000000      185180.000000    183586.000000  190288.000000\n",
       "mean       38.466698       41168.081434     41166.660366  710995.062090\n",
       "std       288.429364          32.306960        31.195141     573.894224\n",
       "min         1.000000       40998.000000     40995.000000  710000.000000\n",
       "25%         7.000000       41144.000000     41142.000000  710496.000000\n",
       "50%        11.000000       41169.000000     41166.000000  710994.000000\n",
       "75%        18.000000       41190.000000     41189.000000  711488.000000\n",
       "max     43236.000000       41300.000000     41250.000000  711999.000000"
      ]
     },
     "execution_count": 4,
     "metadata": {},
     "output_type": "execute_result"
    }
   ],
   "source": [
    "# Desceribe columns\n",
    "# 192088 total amount of rows\n",
    "# 185180 start station\n",
    "# 183586 end station\n",
    "\n",
    "df.describe()\n"
   ]
  },
  {
   "cell_type": "code",
   "execution_count": 5,
   "metadata": {
    "hidden": true,
    "pycharm": {
     "name": "#%% Bike Numbers\n"
    }
   },
   "outputs": [
    {
     "name": "stdout",
     "output_type": "stream",
     "text": [
      "Lowest bike number: 710000\n",
      "Highest bike numbers: 711999\n",
      "Number of bikes:1995\n"
     ]
    }
   ],
   "source": [
    "#Explore bike numbers\n",
    "bike_numbers = df['bike_number'].unique()\n",
    "print('Lowest bike number: ' + str(bike_numbers.min()))\n",
    "print('Highest bike numbers: ' + str(bike_numbers.max()))\n",
    "print('Number of bikes:' + str(len(bike_numbers)))"
   ]
  },
  {
   "cell_type": "code",
   "execution_count": 6,
   "metadata": {
    "hidden": true,
    "pycharm": {
     "name": "#%% Bike Numbers - Understanding the latest bike and when they arise.\n"
    }
   },
   "outputs": [
    {
     "data": {
      "text/html": [
       "<div>\n",
       "<style scoped>\n",
       "    .dataframe tbody tr th:only-of-type {\n",
       "        vertical-align: middle;\n",
       "    }\n",
       "\n",
       "    .dataframe tbody tr th {\n",
       "        vertical-align: top;\n",
       "    }\n",
       "\n",
       "    .dataframe thead th {\n",
       "        text-align: right;\n",
       "    }\n",
       "</style>\n",
       "<table border=\"1\" class=\"dataframe\">\n",
       "  <thead>\n",
       "    <tr style=\"text-align: right;\">\n",
       "      <th></th>\n",
       "      <th>start_time</th>\n",
       "      <th>end_time</th>\n",
       "      <th>duration</th>\n",
       "      <th>start_station_num</th>\n",
       "      <th>start_station_name</th>\n",
       "      <th>end_station_num</th>\n",
       "      <th>end_station_name</th>\n",
       "      <th>bike_number</th>\n",
       "    </tr>\n",
       "  </thead>\n",
       "  <tbody>\n",
       "    <tr>\n",
       "      <th>169879</th>\n",
       "      <td>2020-11-23 18:42:43</td>\n",
       "      <td>2020-11-23 18:43:46</td>\n",
       "      <td>2</td>\n",
       "      <td>41215.0</td>\n",
       "      <td>Lindholmspiren</td>\n",
       "      <td>41215.0</td>\n",
       "      <td>Lindholmspiren</td>\n",
       "      <td>710927</td>\n",
       "    </tr>\n",
       "  </tbody>\n",
       "</table>\n",
       "</div>"
      ],
      "text/plain": [
       "                start_time            end_time  duration  start_station_num  \\\n",
       "169879 2020-11-23 18:42:43 2020-11-23 18:43:46         2            41215.0   \n",
       "\n",
       "       start_station_name  end_station_num end_station_name  bike_number  \n",
       "169879     Lindholmspiren          41215.0   Lindholmspiren       710927  "
      ]
     },
     "execution_count": 6,
     "metadata": {},
     "output_type": "execute_result"
    }
   ],
   "source": [
    "curr_highest = df['start_time'][0]\n",
    "curr_latest_bike = 71000\n",
    "for num in bike_numbers:\n",
    "    candidate_time = df['start_time'][df['bike_number'] == num].head(1).iloc[0]\n",
    "    if candidate_time > curr_highest:\n",
    "        curr_highest = candidate_time\n",
    "        curr_latest_bike = num\n",
    "\n",
    "df[df['bike_number'] == curr_latest_bike]"
   ]
  },
  {
   "cell_type": "code",
   "execution_count": 7,
   "metadata": {
    "hidden": true,
    "pycharm": {
     "name": "#%% Duration\n"
    }
   },
   "outputs": [
    {
     "data": {
      "text/plain": [
       "161205    43236\n",
       "9348      21599\n",
       "9644      21018\n",
       "8051      17090\n",
       "75834     16580\n",
       "1495      15849\n",
       "8839      15745\n",
       "75753     15431\n",
       "7924      14565\n",
       "75768     14226\n",
       "1593      14133\n",
       "1076      12704\n",
       "10237     12690\n",
       "75792     12682\n",
       "75794     12585\n",
       "10294     12532\n",
       "10295     12530\n",
       "75798     12524\n",
       "75799     12443\n",
       "75800     12420\n",
       "Name: duration, dtype: int64"
      ]
     },
     "execution_count": 7,
     "metadata": {},
     "output_type": "execute_result"
    }
   ],
   "source": [
    "# Duration column\n",
    "# Possibly to remove some data points here that can impact mean.\n",
    "# What are the reasons for such a long period?\n",
    "df['duration'].sort_values(axis = 0, ascending = False).head(20)"
   ]
  },
  {
   "cell_type": "code",
   "execution_count": 8,
   "metadata": {
    "hidden": true,
    "pycharm": {
     "name": "#%% Station name and numbers\n"
    }
   },
   "outputs": [
    {
     "name": "stdout",
     "output_type": "stream",
     "text": [
      "__Minimum stations__ \n",
      "Start station : 40998.0\n",
      "End station: 40995.0\n",
      "\n",
      "__Maximum stations__ \n",
      "Start station : 41300.0\n",
      "End station: 41250.0\n",
      "Intresting stations exist --> workshop outgoing bikes (40998) - workshop needs repair(40999) etc\n"
     ]
    },
    {
     "data": {
      "text/html": [
       "<div>\n",
       "<style scoped>\n",
       "    .dataframe tbody tr th:only-of-type {\n",
       "        vertical-align: middle;\n",
       "    }\n",
       "\n",
       "    .dataframe tbody tr th {\n",
       "        vertical-align: top;\n",
       "    }\n",
       "\n",
       "    .dataframe thead th {\n",
       "        text-align: right;\n",
       "    }\n",
       "</style>\n",
       "<table border=\"1\" class=\"dataframe\">\n",
       "  <thead>\n",
       "    <tr style=\"text-align: right;\">\n",
       "      <th></th>\n",
       "      <th>start_time</th>\n",
       "      <th>end_time</th>\n",
       "      <th>duration</th>\n",
       "      <th>start_station_num</th>\n",
       "      <th>start_station_name</th>\n",
       "      <th>end_station_num</th>\n",
       "      <th>end_station_name</th>\n",
       "      <th>bike_number</th>\n",
       "    </tr>\n",
       "  </thead>\n",
       "  <tbody>\n",
       "    <tr>\n",
       "      <th>203</th>\n",
       "      <td>2020-06-10 17:14:19</td>\n",
       "      <td>2020-06-10 17:42:46</td>\n",
       "      <td>29</td>\n",
       "      <td>40998.0</td>\n",
       "      <td>workshop - outgoing bikes</td>\n",
       "      <td>41178.0</td>\n",
       "      <td>Östra Hamngatan</td>\n",
       "      <td>710584</td>\n",
       "    </tr>\n",
       "    <tr>\n",
       "      <th>690</th>\n",
       "      <td>2020-06-11 21:08:44</td>\n",
       "      <td>2020-06-11 21:12:31</td>\n",
       "      <td>4</td>\n",
       "      <td>40998.0</td>\n",
       "      <td>workshop - outgoing bikes</td>\n",
       "      <td>41107.0</td>\n",
       "      <td>Mölndals bro</td>\n",
       "      <td>710331</td>\n",
       "    </tr>\n",
       "    <tr>\n",
       "      <th>2350</th>\n",
       "      <td>2020-06-15 08:04:56</td>\n",
       "      <td>2020-06-15 08:05:48</td>\n",
       "      <td>1</td>\n",
       "      <td>40999.0</td>\n",
       "      <td>workshop - needs repair</td>\n",
       "      <td>NaN</td>\n",
       "      <td>NaN</td>\n",
       "      <td>710038</td>\n",
       "    </tr>\n",
       "    <tr>\n",
       "      <th>3970</th>\n",
       "      <td>2020-06-18 07:45:35</td>\n",
       "      <td>2020-06-18 07:46:08</td>\n",
       "      <td>1</td>\n",
       "      <td>40998.0</td>\n",
       "      <td>workshop - outgoing bikes</td>\n",
       "      <td>NaN</td>\n",
       "      <td>NaN</td>\n",
       "      <td>710709</td>\n",
       "    </tr>\n",
       "    <tr>\n",
       "      <th>4143</th>\n",
       "      <td>2020-06-18 14:20:15</td>\n",
       "      <td>2020-06-18 14:40:57</td>\n",
       "      <td>21</td>\n",
       "      <td>40998.0</td>\n",
       "      <td>workshop - outgoing bikes</td>\n",
       "      <td>41178.0</td>\n",
       "      <td>Östra Hamngatan</td>\n",
       "      <td>710454</td>\n",
       "    </tr>\n",
       "    <tr>\n",
       "      <th>...</th>\n",
       "      <td>...</td>\n",
       "      <td>...</td>\n",
       "      <td>...</td>\n",
       "      <td>...</td>\n",
       "      <td>...</td>\n",
       "      <td>...</td>\n",
       "      <td>...</td>\n",
       "      <td>...</td>\n",
       "    </tr>\n",
       "    <tr>\n",
       "      <th>184878</th>\n",
       "      <td>2020-12-16 14:57:16</td>\n",
       "      <td>2020-12-16 14:58:05</td>\n",
       "      <td>1</td>\n",
       "      <td>40999.0</td>\n",
       "      <td>workshop - needs repair</td>\n",
       "      <td>41204.0</td>\n",
       "      <td>Vasagatan/Schillerska</td>\n",
       "      <td>710603</td>\n",
       "    </tr>\n",
       "    <tr>\n",
       "      <th>185456</th>\n",
       "      <td>2020-12-17 12:52:28</td>\n",
       "      <td>2020-12-17 12:53:56</td>\n",
       "      <td>2</td>\n",
       "      <td>40999.0</td>\n",
       "      <td>workshop - needs repair</td>\n",
       "      <td>NaN</td>\n",
       "      <td>NaN</td>\n",
       "      <td>710339</td>\n",
       "    </tr>\n",
       "    <tr>\n",
       "      <th>185483</th>\n",
       "      <td>2020-12-17 14:59:09</td>\n",
       "      <td>2020-12-17 15:34:38</td>\n",
       "      <td>36</td>\n",
       "      <td>40999.0</td>\n",
       "      <td>workshop - needs repair</td>\n",
       "      <td>41131.0</td>\n",
       "      <td>Valand</td>\n",
       "      <td>711236</td>\n",
       "    </tr>\n",
       "    <tr>\n",
       "      <th>185499</th>\n",
       "      <td>2020-12-17 15:40:48</td>\n",
       "      <td>2020-12-23 09:55:04</td>\n",
       "      <td>8295</td>\n",
       "      <td>40998.0</td>\n",
       "      <td>workshop - outgoing bikes</td>\n",
       "      <td>40998.0</td>\n",
       "      <td>workshop - outgoing bikes</td>\n",
       "      <td>710386</td>\n",
       "    </tr>\n",
       "    <tr>\n",
       "      <th>185832</th>\n",
       "      <td>2020-12-18 08:22:13</td>\n",
       "      <td>2020-12-18 08:36:48</td>\n",
       "      <td>15</td>\n",
       "      <td>40998.0</td>\n",
       "      <td>workshop - outgoing bikes</td>\n",
       "      <td>NaN</td>\n",
       "      <td>NaN</td>\n",
       "      <td>710396</td>\n",
       "    </tr>\n",
       "  </tbody>\n",
       "</table>\n",
       "<p>197 rows × 8 columns</p>\n",
       "</div>"
      ],
      "text/plain": [
       "                start_time            end_time  duration  start_station_num  \\\n",
       "203    2020-06-10 17:14:19 2020-06-10 17:42:46        29            40998.0   \n",
       "690    2020-06-11 21:08:44 2020-06-11 21:12:31         4            40998.0   \n",
       "2350   2020-06-15 08:04:56 2020-06-15 08:05:48         1            40999.0   \n",
       "3970   2020-06-18 07:45:35 2020-06-18 07:46:08         1            40998.0   \n",
       "4143   2020-06-18 14:20:15 2020-06-18 14:40:57        21            40998.0   \n",
       "...                    ...                 ...       ...                ...   \n",
       "184878 2020-12-16 14:57:16 2020-12-16 14:58:05         1            40999.0   \n",
       "185456 2020-12-17 12:52:28 2020-12-17 12:53:56         2            40999.0   \n",
       "185483 2020-12-17 14:59:09 2020-12-17 15:34:38        36            40999.0   \n",
       "185499 2020-12-17 15:40:48 2020-12-23 09:55:04      8295            40998.0   \n",
       "185832 2020-12-18 08:22:13 2020-12-18 08:36:48        15            40998.0   \n",
       "\n",
       "               start_station_name  end_station_num           end_station_name  \\\n",
       "203     workshop - outgoing bikes          41178.0            Östra Hamngatan   \n",
       "690     workshop - outgoing bikes          41107.0               Mölndals bro   \n",
       "2350      workshop - needs repair              NaN                        NaN   \n",
       "3970    workshop - outgoing bikes              NaN                        NaN   \n",
       "4143    workshop - outgoing bikes          41178.0            Östra Hamngatan   \n",
       "...                           ...              ...                        ...   \n",
       "184878    workshop - needs repair          41204.0      Vasagatan/Schillerska   \n",
       "185456    workshop - needs repair              NaN                        NaN   \n",
       "185483    workshop - needs repair          41131.0                     Valand   \n",
       "185499  workshop - outgoing bikes          40998.0  workshop - outgoing bikes   \n",
       "185832  workshop - outgoing bikes              NaN                        NaN   \n",
       "\n",
       "        bike_number  \n",
       "203          710584  \n",
       "690          710331  \n",
       "2350         710038  \n",
       "3970         710709  \n",
       "4143         710454  \n",
       "...             ...  \n",
       "184878       710603  \n",
       "185456       710339  \n",
       "185483       711236  \n",
       "185499       710386  \n",
       "185832       710396  \n",
       "\n",
       "[197 rows x 8 columns]"
      ]
     },
     "execution_count": 8,
     "metadata": {},
     "output_type": "execute_result"
    }
   ],
   "source": [
    "# Station column\n",
    "# How many stations have been started from or ended to only?\n",
    "# How can this be?\n",
    "\n",
    "print('__Minimum stations__ \\n' + 'Start station : ' +  str(df['start_station_num'].min()) +\n",
    "      '\\nEnd station: ' + str(df['end_station_num'].min()))\n",
    "\n",
    "print('\\n__Maximum stations__ \\n' + 'Start station : ' +  str(df['start_station_num'].max()) +\n",
    "      '\\nEnd station: ' + str(df['end_station_num'].max()))\n",
    "\n",
    "print('Intresting stations exist --> workshop outgoing bikes (40998) - workshop needs repair(40999) etc')\n",
    "df[df['start_station_num'] < 41000]\n"
   ]
  },
  {
   "cell_type": "code",
   "execution_count": 9,
   "metadata": {
    "hidden": true,
    "pycharm": {
     "name": "#%%\n"
    }
   },
   "outputs": [
    {
     "data": {
      "text/html": [
       "<div>\n",
       "<style scoped>\n",
       "    .dataframe tbody tr th:only-of-type {\n",
       "        vertical-align: middle;\n",
       "    }\n",
       "\n",
       "    .dataframe tbody tr th {\n",
       "        vertical-align: top;\n",
       "    }\n",
       "\n",
       "    .dataframe thead th {\n",
       "        text-align: right;\n",
       "    }\n",
       "</style>\n",
       "<table border=\"1\" class=\"dataframe\">\n",
       "  <thead>\n",
       "    <tr style=\"text-align: right;\">\n",
       "      <th></th>\n",
       "      <th>start_time</th>\n",
       "      <th>end_time</th>\n",
       "      <th>duration</th>\n",
       "      <th>start_station_num</th>\n",
       "      <th>start_station_name</th>\n",
       "      <th>end_station_num</th>\n",
       "      <th>end_station_name</th>\n",
       "      <th>bike_number</th>\n",
       "    </tr>\n",
       "  </thead>\n",
       "  <tbody>\n",
       "    <tr>\n",
       "      <th>75718</th>\n",
       "      <td>2020-06-18 06:45:02</td>\n",
       "      <td>2020-06-18 07:02:25</td>\n",
       "      <td>18</td>\n",
       "      <td>NaN</td>\n",
       "      <td>NaN</td>\n",
       "      <td>40995.0</td>\n",
       "      <td>workshop - Scrapped bikes</td>\n",
       "      <td>710612</td>\n",
       "    </tr>\n",
       "    <tr>\n",
       "      <th>75808</th>\n",
       "      <td>2020-06-30 16:38:00</td>\n",
       "      <td>2020-07-04 12:51:35</td>\n",
       "      <td>5534</td>\n",
       "      <td>41213.0</td>\n",
       "      <td>Wieselgrensplatsen</td>\n",
       "      <td>40996.0</td>\n",
       "      <td>workshop - needs heavy repair</td>\n",
       "      <td>710706</td>\n",
       "    </tr>\n",
       "    <tr>\n",
       "      <th>75816</th>\n",
       "      <td>2020-06-30 21:39:17</td>\n",
       "      <td>2020-07-08 12:46:15</td>\n",
       "      <td>10987</td>\n",
       "      <td>41213.0</td>\n",
       "      <td>Wieselgrensplatsen</td>\n",
       "      <td>40996.0</td>\n",
       "      <td>workshop - needs heavy repair</td>\n",
       "      <td>710614</td>\n",
       "    </tr>\n",
       "    <tr>\n",
       "      <th>75843</th>\n",
       "      <td>2020-07-02 14:54:57</td>\n",
       "      <td>2020-07-02 15:11:19</td>\n",
       "      <td>17</td>\n",
       "      <td>41134.0</td>\n",
       "      <td>Gustaf Adolfs torg</td>\n",
       "      <td>40996.0</td>\n",
       "      <td>workshop - needs heavy repair</td>\n",
       "      <td>710157</td>\n",
       "    </tr>\n",
       "    <tr>\n",
       "      <th>75854</th>\n",
       "      <td>2020-07-02 19:57:01</td>\n",
       "      <td>2020-07-02 20:36:48</td>\n",
       "      <td>40</td>\n",
       "      <td>41112.0</td>\n",
       "      <td>Åby Arenastad</td>\n",
       "      <td>40996.0</td>\n",
       "      <td>workshop - needs heavy repair</td>\n",
       "      <td>710725</td>\n",
       "    </tr>\n",
       "    <tr>\n",
       "      <th>75855</th>\n",
       "      <td>2020-07-02 19:57:01</td>\n",
       "      <td>2020-07-02 20:36:48</td>\n",
       "      <td>40</td>\n",
       "      <td>41112.0</td>\n",
       "      <td>Åby Arenastad</td>\n",
       "      <td>40996.0</td>\n",
       "      <td>workshop - needs heavy repair</td>\n",
       "      <td>710725</td>\n",
       "    </tr>\n",
       "    <tr>\n",
       "      <th>75930</th>\n",
       "      <td>2020-07-16 12:18:39</td>\n",
       "      <td>2020-07-16 13:26:32</td>\n",
       "      <td>68</td>\n",
       "      <td>41135.0</td>\n",
       "      <td>Rosenlundsplatsen</td>\n",
       "      <td>40996.0</td>\n",
       "      <td>workshop - needs heavy repair</td>\n",
       "      <td>710860</td>\n",
       "    </tr>\n",
       "    <tr>\n",
       "      <th>75937</th>\n",
       "      <td>2020-07-16 19:35:41</td>\n",
       "      <td>2020-07-17 09:04:23</td>\n",
       "      <td>809</td>\n",
       "      <td>41202.0</td>\n",
       "      <td>Gamlestads torg</td>\n",
       "      <td>40996.0</td>\n",
       "      <td>workshop - needs heavy repair</td>\n",
       "      <td>710173</td>\n",
       "    </tr>\n",
       "    <tr>\n",
       "      <th>75949</th>\n",
       "      <td>2020-07-17 20:57:01</td>\n",
       "      <td>2020-07-18 10:09:54</td>\n",
       "      <td>793</td>\n",
       "      <td>41209.0</td>\n",
       "      <td>Hjalmar Brantingsplatsen</td>\n",
       "      <td>40995.0</td>\n",
       "      <td>workshop - Scrapped bikes</td>\n",
       "      <td>710377</td>\n",
       "    </tr>\n",
       "    <tr>\n",
       "      <th>76022</th>\n",
       "      <td>2020-07-24 19:11:52</td>\n",
       "      <td>2020-07-28 08:18:06</td>\n",
       "      <td>5107</td>\n",
       "      <td>41186.0</td>\n",
       "      <td>Lindholmsplatsen</td>\n",
       "      <td>40996.0</td>\n",
       "      <td>workshop - needs heavy repair</td>\n",
       "      <td>710762</td>\n",
       "    </tr>\n",
       "    <tr>\n",
       "      <th>76032</th>\n",
       "      <td>2020-07-25 17:54:23</td>\n",
       "      <td>2020-07-25 18:38:48</td>\n",
       "      <td>45</td>\n",
       "      <td>NaN</td>\n",
       "      <td>NaN</td>\n",
       "      <td>40996.0</td>\n",
       "      <td>workshop - needs heavy repair</td>\n",
       "      <td>711487</td>\n",
       "    </tr>\n",
       "    <tr>\n",
       "      <th>76044</th>\n",
       "      <td>2020-07-27 14:32:08</td>\n",
       "      <td>2020-07-27 17:13:35</td>\n",
       "      <td>162</td>\n",
       "      <td>41133.0</td>\n",
       "      <td>Grönsakstorget</td>\n",
       "      <td>40996.0</td>\n",
       "      <td>workshop - needs heavy repair</td>\n",
       "      <td>711082</td>\n",
       "    </tr>\n",
       "    <tr>\n",
       "      <th>76071</th>\n",
       "      <td>2020-08-01 16:13:02</td>\n",
       "      <td>2020-08-01 20:25:40</td>\n",
       "      <td>253</td>\n",
       "      <td>NaN</td>\n",
       "      <td>NaN</td>\n",
       "      <td>40996.0</td>\n",
       "      <td>workshop - needs heavy repair</td>\n",
       "      <td>710660</td>\n",
       "    </tr>\n",
       "    <tr>\n",
       "      <th>76100</th>\n",
       "      <td>2020-08-04 21:15:23</td>\n",
       "      <td>2020-08-06 09:51:23</td>\n",
       "      <td>2196</td>\n",
       "      <td>41190.0</td>\n",
       "      <td>Olof Palmes plats</td>\n",
       "      <td>40996.0</td>\n",
       "      <td>workshop - needs heavy repair</td>\n",
       "      <td>710799</td>\n",
       "    </tr>\n",
       "    <tr>\n",
       "      <th>76103</th>\n",
       "      <td>2020-08-05 15:19:42</td>\n",
       "      <td>2020-08-05 15:36:51</td>\n",
       "      <td>18</td>\n",
       "      <td>41196.0</td>\n",
       "      <td>Bergakungen</td>\n",
       "      <td>40996.0</td>\n",
       "      <td>workshop - needs heavy repair</td>\n",
       "      <td>710893</td>\n",
       "    </tr>\n",
       "    <tr>\n",
       "      <th>76113</th>\n",
       "      <td>2020-08-06 22:15:24</td>\n",
       "      <td>2020-08-06 22:33:23</td>\n",
       "      <td>18</td>\n",
       "      <td>NaN</td>\n",
       "      <td>NaN</td>\n",
       "      <td>40996.0</td>\n",
       "      <td>workshop - needs heavy repair</td>\n",
       "      <td>710042</td>\n",
       "    </tr>\n",
       "    <tr>\n",
       "      <th>76129</th>\n",
       "      <td>2020-08-11 08:56:27</td>\n",
       "      <td>2020-08-11 09:15:49</td>\n",
       "      <td>20</td>\n",
       "      <td>41105.0</td>\n",
       "      <td>Mölndals sjukhus</td>\n",
       "      <td>40996.0</td>\n",
       "      <td>workshop - needs heavy repair</td>\n",
       "      <td>711129</td>\n",
       "    </tr>\n",
       "    <tr>\n",
       "      <th>76146</th>\n",
       "      <td>2020-08-13 20:57:50</td>\n",
       "      <td>2020-08-17 07:25:56</td>\n",
       "      <td>4949</td>\n",
       "      <td>41210.0</td>\n",
       "      <td>Vågmästareplatsen</td>\n",
       "      <td>40996.0</td>\n",
       "      <td>workshop - needs heavy repair</td>\n",
       "      <td>711143</td>\n",
       "    </tr>\n",
       "    <tr>\n",
       "      <th>76154</th>\n",
       "      <td>2020-08-17 13:38:47</td>\n",
       "      <td>2020-08-17 13:42:22</td>\n",
       "      <td>4</td>\n",
       "      <td>41209.0</td>\n",
       "      <td>Hjalmar Brantingsplatsen</td>\n",
       "      <td>40996.0</td>\n",
       "      <td>workshop - needs heavy repair</td>\n",
       "      <td>710887</td>\n",
       "    </tr>\n",
       "    <tr>\n",
       "      <th>76170</th>\n",
       "      <td>2020-08-21 20:06:46</td>\n",
       "      <td>2020-08-24 07:20:24</td>\n",
       "      <td>3554</td>\n",
       "      <td>41209.0</td>\n",
       "      <td>Hjalmar Brantingsplatsen</td>\n",
       "      <td>40996.0</td>\n",
       "      <td>workshop - needs heavy repair</td>\n",
       "      <td>711818</td>\n",
       "    </tr>\n",
       "    <tr>\n",
       "      <th>76218</th>\n",
       "      <td>2020-08-26 19:06:52</td>\n",
       "      <td>2020-08-31 07:50:27</td>\n",
       "      <td>6524</td>\n",
       "      <td>41213.0</td>\n",
       "      <td>Wieselgrensplatsen</td>\n",
       "      <td>40996.0</td>\n",
       "      <td>workshop - needs heavy repair</td>\n",
       "      <td>711625</td>\n",
       "    </tr>\n",
       "    <tr>\n",
       "      <th>76249</th>\n",
       "      <td>2020-08-31 14:31:45</td>\n",
       "      <td>2020-09-01 07:20:46</td>\n",
       "      <td>1010</td>\n",
       "      <td>41210.0</td>\n",
       "      <td>Vågmästareplatsen</td>\n",
       "      <td>40996.0</td>\n",
       "      <td>workshop - needs heavy repair</td>\n",
       "      <td>710702</td>\n",
       "    </tr>\n",
       "    <tr>\n",
       "      <th>79940</th>\n",
       "      <td>2020-09-05 09:09:03</td>\n",
       "      <td>2020-09-05 09:18:13</td>\n",
       "      <td>10</td>\n",
       "      <td>NaN</td>\n",
       "      <td>NaN</td>\n",
       "      <td>40996.0</td>\n",
       "      <td>workshop - needs heavy repair</td>\n",
       "      <td>710114</td>\n",
       "    </tr>\n",
       "    <tr>\n",
       "      <th>151908</th>\n",
       "      <td>2020-10-31 15:53:12</td>\n",
       "      <td>2020-10-31 16:14:25</td>\n",
       "      <td>22</td>\n",
       "      <td>41159.0</td>\n",
       "      <td>Drottningtorget</td>\n",
       "      <td>40996.0</td>\n",
       "      <td>workshop - needs heavy repair</td>\n",
       "      <td>711794</td>\n",
       "    </tr>\n",
       "  </tbody>\n",
       "</table>\n",
       "</div>"
      ],
      "text/plain": [
       "                start_time            end_time  duration  start_station_num  \\\n",
       "75718  2020-06-18 06:45:02 2020-06-18 07:02:25        18                NaN   \n",
       "75808  2020-06-30 16:38:00 2020-07-04 12:51:35      5534            41213.0   \n",
       "75816  2020-06-30 21:39:17 2020-07-08 12:46:15     10987            41213.0   \n",
       "75843  2020-07-02 14:54:57 2020-07-02 15:11:19        17            41134.0   \n",
       "75854  2020-07-02 19:57:01 2020-07-02 20:36:48        40            41112.0   \n",
       "75855  2020-07-02 19:57:01 2020-07-02 20:36:48        40            41112.0   \n",
       "75930  2020-07-16 12:18:39 2020-07-16 13:26:32        68            41135.0   \n",
       "75937  2020-07-16 19:35:41 2020-07-17 09:04:23       809            41202.0   \n",
       "75949  2020-07-17 20:57:01 2020-07-18 10:09:54       793            41209.0   \n",
       "76022  2020-07-24 19:11:52 2020-07-28 08:18:06      5107            41186.0   \n",
       "76032  2020-07-25 17:54:23 2020-07-25 18:38:48        45                NaN   \n",
       "76044  2020-07-27 14:32:08 2020-07-27 17:13:35       162            41133.0   \n",
       "76071  2020-08-01 16:13:02 2020-08-01 20:25:40       253                NaN   \n",
       "76100  2020-08-04 21:15:23 2020-08-06 09:51:23      2196            41190.0   \n",
       "76103  2020-08-05 15:19:42 2020-08-05 15:36:51        18            41196.0   \n",
       "76113  2020-08-06 22:15:24 2020-08-06 22:33:23        18                NaN   \n",
       "76129  2020-08-11 08:56:27 2020-08-11 09:15:49        20            41105.0   \n",
       "76146  2020-08-13 20:57:50 2020-08-17 07:25:56      4949            41210.0   \n",
       "76154  2020-08-17 13:38:47 2020-08-17 13:42:22         4            41209.0   \n",
       "76170  2020-08-21 20:06:46 2020-08-24 07:20:24      3554            41209.0   \n",
       "76218  2020-08-26 19:06:52 2020-08-31 07:50:27      6524            41213.0   \n",
       "76249  2020-08-31 14:31:45 2020-09-01 07:20:46      1010            41210.0   \n",
       "79940  2020-09-05 09:09:03 2020-09-05 09:18:13        10                NaN   \n",
       "151908 2020-10-31 15:53:12 2020-10-31 16:14:25        22            41159.0   \n",
       "\n",
       "              start_station_name  end_station_num  \\\n",
       "75718                        NaN          40995.0   \n",
       "75808         Wieselgrensplatsen          40996.0   \n",
       "75816         Wieselgrensplatsen          40996.0   \n",
       "75843         Gustaf Adolfs torg          40996.0   \n",
       "75854              Åby Arenastad          40996.0   \n",
       "75855              Åby Arenastad          40996.0   \n",
       "75930          Rosenlundsplatsen          40996.0   \n",
       "75937            Gamlestads torg          40996.0   \n",
       "75949   Hjalmar Brantingsplatsen          40995.0   \n",
       "76022           Lindholmsplatsen          40996.0   \n",
       "76032                        NaN          40996.0   \n",
       "76044             Grönsakstorget          40996.0   \n",
       "76071                        NaN          40996.0   \n",
       "76100          Olof Palmes plats          40996.0   \n",
       "76103                Bergakungen          40996.0   \n",
       "76113                        NaN          40996.0   \n",
       "76129           Mölndals sjukhus          40996.0   \n",
       "76146          Vågmästareplatsen          40996.0   \n",
       "76154   Hjalmar Brantingsplatsen          40996.0   \n",
       "76170   Hjalmar Brantingsplatsen          40996.0   \n",
       "76218         Wieselgrensplatsen          40996.0   \n",
       "76249          Vågmästareplatsen          40996.0   \n",
       "79940                        NaN          40996.0   \n",
       "151908           Drottningtorget          40996.0   \n",
       "\n",
       "                     end_station_name  bike_number  \n",
       "75718       workshop - Scrapped bikes       710612  \n",
       "75808   workshop - needs heavy repair       710706  \n",
       "75816   workshop - needs heavy repair       710614  \n",
       "75843   workshop - needs heavy repair       710157  \n",
       "75854   workshop - needs heavy repair       710725  \n",
       "75855   workshop - needs heavy repair       710725  \n",
       "75930   workshop - needs heavy repair       710860  \n",
       "75937   workshop - needs heavy repair       710173  \n",
       "75949       workshop - Scrapped bikes       710377  \n",
       "76022   workshop - needs heavy repair       710762  \n",
       "76032   workshop - needs heavy repair       711487  \n",
       "76044   workshop - needs heavy repair       711082  \n",
       "76071   workshop - needs heavy repair       710660  \n",
       "76100   workshop - needs heavy repair       710799  \n",
       "76103   workshop - needs heavy repair       710893  \n",
       "76113   workshop - needs heavy repair       710042  \n",
       "76129   workshop - needs heavy repair       711129  \n",
       "76146   workshop - needs heavy repair       711143  \n",
       "76154   workshop - needs heavy repair       710887  \n",
       "76170   workshop - needs heavy repair       711818  \n",
       "76218   workshop - needs heavy repair       711625  \n",
       "76249   workshop - needs heavy repair       710702  \n",
       "79940   workshop - needs heavy repair       710114  \n",
       "151908  workshop - needs heavy repair       711794  "
      ]
     },
     "execution_count": 9,
     "metadata": {},
     "output_type": "execute_result"
    }
   ],
   "source": [
    "df[df['end_station_num'] < 40998]"
   ]
  },
  {
   "cell_type": "code",
   "execution_count": 10,
   "metadata": {
    "hidden": true,
    "pycharm": {
     "name": "#%%\n"
    }
   },
   "outputs": [
    {
     "data": {
      "text/html": [
       "<div>\n",
       "<style scoped>\n",
       "    .dataframe tbody tr th:only-of-type {\n",
       "        vertical-align: middle;\n",
       "    }\n",
       "\n",
       "    .dataframe tbody tr th {\n",
       "        vertical-align: top;\n",
       "    }\n",
       "\n",
       "    .dataframe thead th {\n",
       "        text-align: right;\n",
       "    }\n",
       "</style>\n",
       "<table border=\"1\" class=\"dataframe\">\n",
       "  <thead>\n",
       "    <tr style=\"text-align: right;\">\n",
       "      <th></th>\n",
       "      <th>start_time</th>\n",
       "      <th>end_time</th>\n",
       "      <th>duration</th>\n",
       "      <th>start_station_num</th>\n",
       "      <th>start_station_name</th>\n",
       "      <th>end_station_num</th>\n",
       "      <th>end_station_name</th>\n",
       "      <th>bike_number</th>\n",
       "    </tr>\n",
       "  </thead>\n",
       "  <tbody>\n",
       "    <tr>\n",
       "      <th>98</th>\n",
       "      <td>2020-06-10 14:07:59</td>\n",
       "      <td>2020-06-10 14:08:48</td>\n",
       "      <td>1</td>\n",
       "      <td>41300.0</td>\n",
       "      <td>Test Station Workshop</td>\n",
       "      <td>NaN</td>\n",
       "      <td>NaN</td>\n",
       "      <td>710003</td>\n",
       "    </tr>\n",
       "  </tbody>\n",
       "</table>\n",
       "</div>"
      ],
      "text/plain": [
       "            start_time            end_time  duration  start_station_num  \\\n",
       "98 2020-06-10 14:07:59 2020-06-10 14:08:48         1            41300.0   \n",
       "\n",
       "       start_station_name  end_station_num end_station_name  bike_number  \n",
       "98  Test Station Workshop              NaN              NaN       710003  "
      ]
     },
     "execution_count": 10,
     "metadata": {},
     "output_type": "execute_result"
    }
   ],
   "source": [
    "df[df['start_station_num'] > 41250]"
   ]
  },
  {
   "cell_type": "code",
   "execution_count": 11,
   "metadata": {
    "hidden": true,
    "pycharm": {
     "name": "#%%\n"
    }
   },
   "outputs": [
    {
     "data": {
      "text/html": [
       "<div>\n",
       "<style scoped>\n",
       "    .dataframe tbody tr th:only-of-type {\n",
       "        vertical-align: middle;\n",
       "    }\n",
       "\n",
       "    .dataframe tbody tr th {\n",
       "        vertical-align: top;\n",
       "    }\n",
       "\n",
       "    .dataframe thead th {\n",
       "        text-align: right;\n",
       "    }\n",
       "</style>\n",
       "<table border=\"1\" class=\"dataframe\">\n",
       "  <thead>\n",
       "    <tr style=\"text-align: right;\">\n",
       "      <th></th>\n",
       "      <th>start_time</th>\n",
       "      <th>end_time</th>\n",
       "      <th>duration</th>\n",
       "      <th>start_station_num</th>\n",
       "      <th>start_station_name</th>\n",
       "      <th>end_station_num</th>\n",
       "      <th>end_station_name</th>\n",
       "      <th>bike_number</th>\n",
       "    </tr>\n",
       "  </thead>\n",
       "  <tbody>\n",
       "    <tr>\n",
       "      <th>75808</th>\n",
       "      <td>2020-06-30 16:38:00</td>\n",
       "      <td>2020-07-04 12:51:35</td>\n",
       "      <td>5534</td>\n",
       "      <td>41213.0</td>\n",
       "      <td>Wieselgrensplatsen</td>\n",
       "      <td>40996.0</td>\n",
       "      <td>workshop - needs heavy repair</td>\n",
       "      <td>710706</td>\n",
       "    </tr>\n",
       "    <tr>\n",
       "      <th>75816</th>\n",
       "      <td>2020-06-30 21:39:17</td>\n",
       "      <td>2020-07-08 12:46:15</td>\n",
       "      <td>10987</td>\n",
       "      <td>41213.0</td>\n",
       "      <td>Wieselgrensplatsen</td>\n",
       "      <td>40996.0</td>\n",
       "      <td>workshop - needs heavy repair</td>\n",
       "      <td>710614</td>\n",
       "    </tr>\n",
       "    <tr>\n",
       "      <th>75843</th>\n",
       "      <td>2020-07-02 14:54:57</td>\n",
       "      <td>2020-07-02 15:11:19</td>\n",
       "      <td>17</td>\n",
       "      <td>41134.0</td>\n",
       "      <td>Gustaf Adolfs torg</td>\n",
       "      <td>40996.0</td>\n",
       "      <td>workshop - needs heavy repair</td>\n",
       "      <td>710157</td>\n",
       "    </tr>\n",
       "    <tr>\n",
       "      <th>75854</th>\n",
       "      <td>2020-07-02 19:57:01</td>\n",
       "      <td>2020-07-02 20:36:48</td>\n",
       "      <td>40</td>\n",
       "      <td>41112.0</td>\n",
       "      <td>Åby Arenastad</td>\n",
       "      <td>40996.0</td>\n",
       "      <td>workshop - needs heavy repair</td>\n",
       "      <td>710725</td>\n",
       "    </tr>\n",
       "    <tr>\n",
       "      <th>75855</th>\n",
       "      <td>2020-07-02 19:57:01</td>\n",
       "      <td>2020-07-02 20:36:48</td>\n",
       "      <td>40</td>\n",
       "      <td>41112.0</td>\n",
       "      <td>Åby Arenastad</td>\n",
       "      <td>40996.0</td>\n",
       "      <td>workshop - needs heavy repair</td>\n",
       "      <td>710725</td>\n",
       "    </tr>\n",
       "    <tr>\n",
       "      <th>75930</th>\n",
       "      <td>2020-07-16 12:18:39</td>\n",
       "      <td>2020-07-16 13:26:32</td>\n",
       "      <td>68</td>\n",
       "      <td>41135.0</td>\n",
       "      <td>Rosenlundsplatsen</td>\n",
       "      <td>40996.0</td>\n",
       "      <td>workshop - needs heavy repair</td>\n",
       "      <td>710860</td>\n",
       "    </tr>\n",
       "    <tr>\n",
       "      <th>75937</th>\n",
       "      <td>2020-07-16 19:35:41</td>\n",
       "      <td>2020-07-17 09:04:23</td>\n",
       "      <td>809</td>\n",
       "      <td>41202.0</td>\n",
       "      <td>Gamlestads torg</td>\n",
       "      <td>40996.0</td>\n",
       "      <td>workshop - needs heavy repair</td>\n",
       "      <td>710173</td>\n",
       "    </tr>\n",
       "    <tr>\n",
       "      <th>76022</th>\n",
       "      <td>2020-07-24 19:11:52</td>\n",
       "      <td>2020-07-28 08:18:06</td>\n",
       "      <td>5107</td>\n",
       "      <td>41186.0</td>\n",
       "      <td>Lindholmsplatsen</td>\n",
       "      <td>40996.0</td>\n",
       "      <td>workshop - needs heavy repair</td>\n",
       "      <td>710762</td>\n",
       "    </tr>\n",
       "    <tr>\n",
       "      <th>76032</th>\n",
       "      <td>2020-07-25 17:54:23</td>\n",
       "      <td>2020-07-25 18:38:48</td>\n",
       "      <td>45</td>\n",
       "      <td>NaN</td>\n",
       "      <td>NaN</td>\n",
       "      <td>40996.0</td>\n",
       "      <td>workshop - needs heavy repair</td>\n",
       "      <td>711487</td>\n",
       "    </tr>\n",
       "    <tr>\n",
       "      <th>76044</th>\n",
       "      <td>2020-07-27 14:32:08</td>\n",
       "      <td>2020-07-27 17:13:35</td>\n",
       "      <td>162</td>\n",
       "      <td>41133.0</td>\n",
       "      <td>Grönsakstorget</td>\n",
       "      <td>40996.0</td>\n",
       "      <td>workshop - needs heavy repair</td>\n",
       "      <td>711082</td>\n",
       "    </tr>\n",
       "    <tr>\n",
       "      <th>76071</th>\n",
       "      <td>2020-08-01 16:13:02</td>\n",
       "      <td>2020-08-01 20:25:40</td>\n",
       "      <td>253</td>\n",
       "      <td>NaN</td>\n",
       "      <td>NaN</td>\n",
       "      <td>40996.0</td>\n",
       "      <td>workshop - needs heavy repair</td>\n",
       "      <td>710660</td>\n",
       "    </tr>\n",
       "    <tr>\n",
       "      <th>76100</th>\n",
       "      <td>2020-08-04 21:15:23</td>\n",
       "      <td>2020-08-06 09:51:23</td>\n",
       "      <td>2196</td>\n",
       "      <td>41190.0</td>\n",
       "      <td>Olof Palmes plats</td>\n",
       "      <td>40996.0</td>\n",
       "      <td>workshop - needs heavy repair</td>\n",
       "      <td>710799</td>\n",
       "    </tr>\n",
       "    <tr>\n",
       "      <th>76103</th>\n",
       "      <td>2020-08-05 15:19:42</td>\n",
       "      <td>2020-08-05 15:36:51</td>\n",
       "      <td>18</td>\n",
       "      <td>41196.0</td>\n",
       "      <td>Bergakungen</td>\n",
       "      <td>40996.0</td>\n",
       "      <td>workshop - needs heavy repair</td>\n",
       "      <td>710893</td>\n",
       "    </tr>\n",
       "    <tr>\n",
       "      <th>76113</th>\n",
       "      <td>2020-08-06 22:15:24</td>\n",
       "      <td>2020-08-06 22:33:23</td>\n",
       "      <td>18</td>\n",
       "      <td>NaN</td>\n",
       "      <td>NaN</td>\n",
       "      <td>40996.0</td>\n",
       "      <td>workshop - needs heavy repair</td>\n",
       "      <td>710042</td>\n",
       "    </tr>\n",
       "    <tr>\n",
       "      <th>76129</th>\n",
       "      <td>2020-08-11 08:56:27</td>\n",
       "      <td>2020-08-11 09:15:49</td>\n",
       "      <td>20</td>\n",
       "      <td>41105.0</td>\n",
       "      <td>Mölndals sjukhus</td>\n",
       "      <td>40996.0</td>\n",
       "      <td>workshop - needs heavy repair</td>\n",
       "      <td>711129</td>\n",
       "    </tr>\n",
       "    <tr>\n",
       "      <th>76146</th>\n",
       "      <td>2020-08-13 20:57:50</td>\n",
       "      <td>2020-08-17 07:25:56</td>\n",
       "      <td>4949</td>\n",
       "      <td>41210.0</td>\n",
       "      <td>Vågmästareplatsen</td>\n",
       "      <td>40996.0</td>\n",
       "      <td>workshop - needs heavy repair</td>\n",
       "      <td>711143</td>\n",
       "    </tr>\n",
       "    <tr>\n",
       "      <th>76154</th>\n",
       "      <td>2020-08-17 13:38:47</td>\n",
       "      <td>2020-08-17 13:42:22</td>\n",
       "      <td>4</td>\n",
       "      <td>41209.0</td>\n",
       "      <td>Hjalmar Brantingsplatsen</td>\n",
       "      <td>40996.0</td>\n",
       "      <td>workshop - needs heavy repair</td>\n",
       "      <td>710887</td>\n",
       "    </tr>\n",
       "    <tr>\n",
       "      <th>76170</th>\n",
       "      <td>2020-08-21 20:06:46</td>\n",
       "      <td>2020-08-24 07:20:24</td>\n",
       "      <td>3554</td>\n",
       "      <td>41209.0</td>\n",
       "      <td>Hjalmar Brantingsplatsen</td>\n",
       "      <td>40996.0</td>\n",
       "      <td>workshop - needs heavy repair</td>\n",
       "      <td>711818</td>\n",
       "    </tr>\n",
       "    <tr>\n",
       "      <th>76218</th>\n",
       "      <td>2020-08-26 19:06:52</td>\n",
       "      <td>2020-08-31 07:50:27</td>\n",
       "      <td>6524</td>\n",
       "      <td>41213.0</td>\n",
       "      <td>Wieselgrensplatsen</td>\n",
       "      <td>40996.0</td>\n",
       "      <td>workshop - needs heavy repair</td>\n",
       "      <td>711625</td>\n",
       "    </tr>\n",
       "    <tr>\n",
       "      <th>76249</th>\n",
       "      <td>2020-08-31 14:31:45</td>\n",
       "      <td>2020-09-01 07:20:46</td>\n",
       "      <td>1010</td>\n",
       "      <td>41210.0</td>\n",
       "      <td>Vågmästareplatsen</td>\n",
       "      <td>40996.0</td>\n",
       "      <td>workshop - needs heavy repair</td>\n",
       "      <td>710702</td>\n",
       "    </tr>\n",
       "    <tr>\n",
       "      <th>79940</th>\n",
       "      <td>2020-09-05 09:09:03</td>\n",
       "      <td>2020-09-05 09:18:13</td>\n",
       "      <td>10</td>\n",
       "      <td>NaN</td>\n",
       "      <td>NaN</td>\n",
       "      <td>40996.0</td>\n",
       "      <td>workshop - needs heavy repair</td>\n",
       "      <td>710114</td>\n",
       "    </tr>\n",
       "    <tr>\n",
       "      <th>151908</th>\n",
       "      <td>2020-10-31 15:53:12</td>\n",
       "      <td>2020-10-31 16:14:25</td>\n",
       "      <td>22</td>\n",
       "      <td>41159.0</td>\n",
       "      <td>Drottningtorget</td>\n",
       "      <td>40996.0</td>\n",
       "      <td>workshop - needs heavy repair</td>\n",
       "      <td>711794</td>\n",
       "    </tr>\n",
       "  </tbody>\n",
       "</table>\n",
       "</div>"
      ],
      "text/plain": [
       "                start_time            end_time  duration  start_station_num  \\\n",
       "75808  2020-06-30 16:38:00 2020-07-04 12:51:35      5534            41213.0   \n",
       "75816  2020-06-30 21:39:17 2020-07-08 12:46:15     10987            41213.0   \n",
       "75843  2020-07-02 14:54:57 2020-07-02 15:11:19        17            41134.0   \n",
       "75854  2020-07-02 19:57:01 2020-07-02 20:36:48        40            41112.0   \n",
       "75855  2020-07-02 19:57:01 2020-07-02 20:36:48        40            41112.0   \n",
       "75930  2020-07-16 12:18:39 2020-07-16 13:26:32        68            41135.0   \n",
       "75937  2020-07-16 19:35:41 2020-07-17 09:04:23       809            41202.0   \n",
       "76022  2020-07-24 19:11:52 2020-07-28 08:18:06      5107            41186.0   \n",
       "76032  2020-07-25 17:54:23 2020-07-25 18:38:48        45                NaN   \n",
       "76044  2020-07-27 14:32:08 2020-07-27 17:13:35       162            41133.0   \n",
       "76071  2020-08-01 16:13:02 2020-08-01 20:25:40       253                NaN   \n",
       "76100  2020-08-04 21:15:23 2020-08-06 09:51:23      2196            41190.0   \n",
       "76103  2020-08-05 15:19:42 2020-08-05 15:36:51        18            41196.0   \n",
       "76113  2020-08-06 22:15:24 2020-08-06 22:33:23        18                NaN   \n",
       "76129  2020-08-11 08:56:27 2020-08-11 09:15:49        20            41105.0   \n",
       "76146  2020-08-13 20:57:50 2020-08-17 07:25:56      4949            41210.0   \n",
       "76154  2020-08-17 13:38:47 2020-08-17 13:42:22         4            41209.0   \n",
       "76170  2020-08-21 20:06:46 2020-08-24 07:20:24      3554            41209.0   \n",
       "76218  2020-08-26 19:06:52 2020-08-31 07:50:27      6524            41213.0   \n",
       "76249  2020-08-31 14:31:45 2020-09-01 07:20:46      1010            41210.0   \n",
       "79940  2020-09-05 09:09:03 2020-09-05 09:18:13        10                NaN   \n",
       "151908 2020-10-31 15:53:12 2020-10-31 16:14:25        22            41159.0   \n",
       "\n",
       "              start_station_name  end_station_num  \\\n",
       "75808         Wieselgrensplatsen          40996.0   \n",
       "75816         Wieselgrensplatsen          40996.0   \n",
       "75843         Gustaf Adolfs torg          40996.0   \n",
       "75854              Åby Arenastad          40996.0   \n",
       "75855              Åby Arenastad          40996.0   \n",
       "75930          Rosenlundsplatsen          40996.0   \n",
       "75937            Gamlestads torg          40996.0   \n",
       "76022           Lindholmsplatsen          40996.0   \n",
       "76032                        NaN          40996.0   \n",
       "76044             Grönsakstorget          40996.0   \n",
       "76071                        NaN          40996.0   \n",
       "76100          Olof Palmes plats          40996.0   \n",
       "76103                Bergakungen          40996.0   \n",
       "76113                        NaN          40996.0   \n",
       "76129           Mölndals sjukhus          40996.0   \n",
       "76146          Vågmästareplatsen          40996.0   \n",
       "76154   Hjalmar Brantingsplatsen          40996.0   \n",
       "76170   Hjalmar Brantingsplatsen          40996.0   \n",
       "76218         Wieselgrensplatsen          40996.0   \n",
       "76249          Vågmästareplatsen          40996.0   \n",
       "79940                        NaN          40996.0   \n",
       "151908           Drottningtorget          40996.0   \n",
       "\n",
       "                     end_station_name  bike_number  \n",
       "75808   workshop - needs heavy repair       710706  \n",
       "75816   workshop - needs heavy repair       710614  \n",
       "75843   workshop - needs heavy repair       710157  \n",
       "75854   workshop - needs heavy repair       710725  \n",
       "75855   workshop - needs heavy repair       710725  \n",
       "75930   workshop - needs heavy repair       710860  \n",
       "75937   workshop - needs heavy repair       710173  \n",
       "76022   workshop - needs heavy repair       710762  \n",
       "76032   workshop - needs heavy repair       711487  \n",
       "76044   workshop - needs heavy repair       711082  \n",
       "76071   workshop - needs heavy repair       710660  \n",
       "76100   workshop - needs heavy repair       710799  \n",
       "76103   workshop - needs heavy repair       710893  \n",
       "76113   workshop - needs heavy repair       710042  \n",
       "76129   workshop - needs heavy repair       711129  \n",
       "76146   workshop - needs heavy repair       711143  \n",
       "76154   workshop - needs heavy repair       710887  \n",
       "76170   workshop - needs heavy repair       711818  \n",
       "76218   workshop - needs heavy repair       711625  \n",
       "76249   workshop - needs heavy repair       710702  \n",
       "79940   workshop - needs heavy repair       710114  \n",
       "151908  workshop - needs heavy repair       711794  "
      ]
     },
     "execution_count": 11,
     "metadata": {},
     "output_type": "execute_result"
    }
   ],
   "source": [
    "df[df['end_station_name'] == 'workshop - needs heavy repair']"
   ]
  },
  {
   "cell_type": "code",
   "execution_count": 12,
   "metadata": {
    "hidden": true,
    "pycharm": {
     "name": "#%% Nan Values - Venn diagram\n"
    }
   },
   "outputs": [
    {
     "data": {
      "image/png": "[encoded data removed]",
      "text/plain": [
       "<Figure size 432x288 with 1 Axes>"
      ]
     },
     "metadata": {},
     "output_type": "display_data"
    }
   ],
   "source": [
    "# Null Analysis\n",
    "nan_start = df[(df['start_station_num'].isnull())].index\n",
    "nan_end = df[(df['end_station_num'].isnull())].index\n",
    "\n",
    "ven = venn2([set(nan_start), set(nan_end)],set_labels = ('no start station', 'no end station'),\n",
    "      set_colors= ('orange', 'darkorange', 'orange'))\n",
    "for text in ven.subset_labels:\n",
    "    text.set_fontsize(16)\n",
    "for text in ven.set_labels:\n",
    "    text.set_fontsize(16)\n",
    "plt.title('Number of rides with missing data', fontsize = 20, fontweight = 'bold')\n",
    "plt.show()"
   ]
  },
  {
   "cell_type": "code",
   "execution_count": 13,
   "metadata": {
    "hidden": true,
    "pycharm": {
     "name": "#%% Nan Values - Other analysis\n"
    }
   },
   "outputs": [],
   "source": [
    "# Important to understand domain specific details\n",
    "# Should we simply delete Nan? Fill it with values. NO!\n",
    "# Interesting analysis of these bikes.\n",
    "nan_start_either = df[(df['start_station_num'].isnull()) | (df['end_station_num'].isnull())]\n",
    "nan_both = df[(df['start_station_num'].isnull()) & (df['end_station_num'].isnull())]\n",
    "nan_start_not_end = df[(df['start_station_num'].isnull()) & (~df['end_station_num'].isnull())]\n",
    "nan_end_not_start = df[(~df['start_station_num'].isnull()) & (df['end_station_num'].isnull())]"
   ]
  },
  {
   "cell_type": "markdown",
   "metadata": {
    "heading_collapsed": true
   },
   "source": [
    "## Travel statistics (duration, hour, week, day, ...)"
   ]
  },
  {
   "cell_type": "code",
   "execution_count": 14,
   "metadata": {
    "hidden": true,
    "pycharm": {
     "name": "#%%\n"
    }
   },
   "outputs": [
    {
     "data": {
      "text/html": [
       "<div>\n",
       "<style scoped>\n",
       "    .dataframe tbody tr th:only-of-type {\n",
       "        vertical-align: middle;\n",
       "    }\n",
       "\n",
       "    .dataframe tbody tr th {\n",
       "        vertical-align: top;\n",
       "    }\n",
       "\n",
       "    .dataframe thead th {\n",
       "        text-align: right;\n",
       "    }\n",
       "</style>\n",
       "<table border=\"1\" class=\"dataframe\">\n",
       "  <thead>\n",
       "    <tr style=\"text-align: right;\">\n",
       "      <th></th>\n",
       "      <th>start_time</th>\n",
       "      <th>end_time</th>\n",
       "      <th>duration</th>\n",
       "      <th>start_station_num</th>\n",
       "      <th>start_station_name</th>\n",
       "      <th>end_station_num</th>\n",
       "      <th>end_station_name</th>\n",
       "      <th>bike_number</th>\n",
       "    </tr>\n",
       "    <tr>\n",
       "      <th>start_time</th>\n",
       "      <th></th>\n",
       "      <th></th>\n",
       "      <th></th>\n",
       "      <th></th>\n",
       "      <th></th>\n",
       "      <th></th>\n",
       "      <th></th>\n",
       "      <th></th>\n",
       "    </tr>\n",
       "  </thead>\n",
       "  <tbody>\n",
       "    <tr>\n",
       "      <th>June</th>\n",
       "      <td>11176</td>\n",
       "      <td>11176</td>\n",
       "      <td>11176</td>\n",
       "      <td>10360</td>\n",
       "      <td>10360</td>\n",
       "      <td>10035</td>\n",
       "      <td>10035</td>\n",
       "      <td>11176</td>\n",
       "    </tr>\n",
       "    <tr>\n",
       "      <th>July</th>\n",
       "      <td>21929</td>\n",
       "      <td>21929</td>\n",
       "      <td>21929</td>\n",
       "      <td>20773</td>\n",
       "      <td>20773</td>\n",
       "      <td>20291</td>\n",
       "      <td>20291</td>\n",
       "      <td>21929</td>\n",
       "    </tr>\n",
       "    <tr>\n",
       "      <th>August</th>\n",
       "      <td>39140</td>\n",
       "      <td>39140</td>\n",
       "      <td>39140</td>\n",
       "      <td>37871</td>\n",
       "      <td>37871</td>\n",
       "      <td>37563</td>\n",
       "      <td>37563</td>\n",
       "      <td>39140</td>\n",
       "    </tr>\n",
       "    <tr>\n",
       "      <th>September</th>\n",
       "      <td>44033</td>\n",
       "      <td>44033</td>\n",
       "      <td>44033</td>\n",
       "      <td>43123</td>\n",
       "      <td>43123</td>\n",
       "      <td>42862</td>\n",
       "      <td>42862</td>\n",
       "      <td>44033</td>\n",
       "    </tr>\n",
       "    <tr>\n",
       "      <th>October</th>\n",
       "      <td>35860</td>\n",
       "      <td>35860</td>\n",
       "      <td>35860</td>\n",
       "      <td>35296</td>\n",
       "      <td>35296</td>\n",
       "      <td>35155</td>\n",
       "      <td>35155</td>\n",
       "      <td>35860</td>\n",
       "    </tr>\n",
       "    <tr>\n",
       "      <th>November</th>\n",
       "      <td>22370</td>\n",
       "      <td>22370</td>\n",
       "      <td>22370</td>\n",
       "      <td>22117</td>\n",
       "      <td>22117</td>\n",
       "      <td>22075</td>\n",
       "      <td>22075</td>\n",
       "      <td>22370</td>\n",
       "    </tr>\n",
       "    <tr>\n",
       "      <th>December</th>\n",
       "      <td>15780</td>\n",
       "      <td>15780</td>\n",
       "      <td>15780</td>\n",
       "      <td>15640</td>\n",
       "      <td>15640</td>\n",
       "      <td>15605</td>\n",
       "      <td>15605</td>\n",
       "      <td>15780</td>\n",
       "    </tr>\n",
       "  </tbody>\n",
       "</table>\n",
       "</div>"
      ],
      "text/plain": [
       "            start_time  end_time  duration  start_station_num  \\\n",
       "start_time                                                      \n",
       "June             11176     11176     11176              10360   \n",
       "July             21929     21929     21929              20773   \n",
       "August           39140     39140     39140              37871   \n",
       "September        44033     44033     44033              43123   \n",
       "October          35860     35860     35860              35296   \n",
       "November         22370     22370     22370              22117   \n",
       "December         15780     15780     15780              15640   \n",
       "\n",
       "            start_station_name  end_station_num  end_station_name  bike_number  \n",
       "start_time                                                                      \n",
       "June                     10360            10035             10035        11176  \n",
       "July                     20773            20291             20291        21929  \n",
       "August                   37871            37563             37563        39140  \n",
       "September                43123            42862             42862        44033  \n",
       "October                  35296            35155             35155        35860  \n",
       "November                 22117            22075             22075        22370  \n",
       "December                 15640            15605             15605        15780  "
      ]
     },
     "execution_count": 14,
     "metadata": {},
     "output_type": "execute_result"
    }
   ],
   "source": [
    "days_order = ['Monday','Tuesday','Wednesday','Thursday','Friday','Saturday', 'Sunday']\n",
    "df.groupby(df['start_time'].dt.day_name()).count().reindex(days_order)\n",
    "\n",
    "months_order = ['June', 'July', 'August', 'September', 'October', 'November', 'December']\n",
    "df.groupby(df['start_time'].dt.month_name()).count().reindex(months_order)"
   ]
  },
  {
   "cell_type": "code",
   "execution_count": 15,
   "metadata": {
    "hidden": true,
    "pycharm": {
     "name": "#%% #Heatmap\n"
    }
   },
   "outputs": [],
   "source": [
    "df_plot = df.copy()\n",
    "df_plot['day'] = df['start_time'].dt.day_name().astype(pd.api.types.CategoricalDtype(categories = ['Monday','Tuesday','Wednesday','Thursday','Friday','Saturday', 'Sunday']))\n",
    "df_plot['month'] = df['start_time'].dt.month_name().astype(pd.api.types.CategoricalDtype(categories = ['June', 'July', 'August', 'September', 'October', 'November', 'December']))\n",
    "df_plot['hour'] = df['start_time'].dt.hour\n",
    "# Simply get the count\n",
    "month_day = pd.crosstab(df_plot['month'], df_plot['day'])\n",
    "day_hour = pd.crosstab(df_plot['hour'], df_plot['day'])\n",
    "month_hour = pd.crosstab(df_plot['hour'], df_plot['month'])\n",
    "#tab = pd.crosstab(df_plot['month'], df_plot['day']).reindex(days_order, axis = 1, months_order, )\n",
    "# Get the duration. Be careful that some might have very high value!\n",
    "heatmap_data = pd.pivot_table(df_plot[['month', 'day', 'duration']], values = 'duration', index = ['month'], columns = 'day')\n"
   ]
  },
  {
   "cell_type": "code",
   "execution_count": 16,
   "metadata": {
    "hidden": true,
    "pycharm": {
     "name": "#%%\n"
    }
   },
   "outputs": [
    {
     "data": {
      "text/plain": [
       "<AxesSubplot:xlabel='day', ylabel='month'>"
      ]
     },
     "execution_count": 16,
     "metadata": {},
     "output_type": "execute_result"
    },
    {
     "data": {
      "image/png": "[encoded data removed]",
      "text/plain": [
       "<Figure size 432x288 with 2 Axes>"
      ]
     },
     "metadata": {
      "needs_background": "light"
     },
     "output_type": "display_data"
    }
   ],
   "source": [
    "sns.heatmap(month_day, cmap = 'YlOrBr')"
   ]
  },
  {
   "cell_type": "code",
   "execution_count": 17,
   "metadata": {
    "hidden": true,
    "pycharm": {
     "name": "#%%\n"
    }
   },
   "outputs": [
    {
     "data": {
      "text/plain": [
       "<AxesSubplot:xlabel='day', ylabel='hour'>"
      ]
     },
     "execution_count": 17,
     "metadata": {},
     "output_type": "execute_result"
    },
    {
     "data": {
      "image/png": "[encoded data removed]",
      "text/plain": [
       "<Figure size 432x288 with 2 Axes>"
      ]
     },
     "metadata": {
      "needs_background": "light"
     },
     "output_type": "display_data"
    }
   ],
   "source": [
    "sns.heatmap(day_hour, cmap = 'YlOrBr')"
   ]
  },
  {
   "cell_type": "code",
   "execution_count": 18,
   "metadata": {
    "hidden": true,
    "pycharm": {
     "name": "#%%\n"
    }
   },
   "outputs": [
    {
     "data": {
      "text/plain": [
       "<AxesSubplot:xlabel='month', ylabel='hour'>"
      ]
     },
     "execution_count": 18,
     "metadata": {},
     "output_type": "execute_result"
    },
    {
     "data": {
      "image/png": "[encoded data removed]",
      "text/plain": [
       "<Figure size 432x288 with 2 Axes>"
      ]
     },
     "metadata": {
      "needs_background": "light"
     },
     "output_type": "display_data"
    }
   ],
   "source": [
    "sns.heatmap(month_hour, cmap = 'YlOrBr')\n"
   ]
  },
  {
   "cell_type": "code",
   "execution_count": 19,
   "metadata": {
    "hidden": true,
    "pycharm": {
     "name": "#%%\n"
    }
   },
   "outputs": [
    {
     "data": {
      "text/plain": [
       "<AxesSubplot:xlabel='day', ylabel='duration'>"
      ]
     },
     "execution_count": 19,
     "metadata": {},
     "output_type": "execute_result"
    },
    {
     "data": {
      "image/png": "[encoded data removed]",
      "text/plain": [
       "<Figure size 432x288 with 1 Axes>"
      ]
     },
     "metadata": {
      "needs_background": "light"
     },
     "output_type": "display_data"
    }
   ],
   "source": [
    "# Duration of travels\n",
    "colors_list = ['#A5A1A1', '#A5A1A1',  '#A5A1A1',  '#A5A1A1',  '#A5A1A1', '#6890F0', '#6890F0']\n",
    "sns.violinplot(x = 'day', y = 'duration', data = df_plot[df_plot['duration'] < 30], palette=colors_list)"
   ]
  },
  {
   "cell_type": "code",
   "execution_count": 20,
   "metadata": {
    "hidden": true,
    "pycharm": {
     "name": "#%%\n"
    }
   },
   "outputs": [
    {
     "data": {
      "text/plain": [
       "<AxesSubplot:xlabel='month', ylabel='duration'>"
      ]
     },
     "execution_count": 20,
     "metadata": {},
     "output_type": "execute_result"
    },
    {
     "data": {
      "image/png": "[encoded data removed]",
      "text/plain": [
       "<Figure size 432x288 with 1 Axes>"
      ]
     },
     "metadata": {
      "needs_background": "light"
     },
     "output_type": "display_data"
    }
   ],
   "source": [
    "colors_list = ['#A5A1A1', '#A5A1A1',  '#A5A1A1',  '#A5A1A1',  '#A5A1A1', '#A5A1A1', '#A5A1A1']\n",
    "sns.violinplot(x = 'month', y = 'duration', data = df_plot[df_plot['duration'] < 30], palette=colors_list)"
   ]
  },
  {
   "cell_type": "code",
   "execution_count": 21,
   "metadata": {
    "hidden": true,
    "pycharm": {
     "name": "#%%\n"
    }
   },
   "outputs": [
    {
     "data": {
      "text/plain": [
       "<matplotlib.collections.PathCollection at 0x176bd032550>"
      ]
     },
     "execution_count": 21,
     "metadata": {},
     "output_type": "execute_result"
    },
    {
     "data": {
      "image/png": "[encoded data removed]",
      "text/plain": [
       "<Figure size 432x288 with 1 Axes>"
      ]
     },
     "metadata": {
      "needs_background": "light"
     },
     "output_type": "display_data"
    }
   ],
   "source": [
    "df_plot_dur_reduce = df_plot[df_plot['duration'] < 60]\n",
    "\n",
    "kmeans = KMeans(n_clusters= 3).fit(df_plot_dur_reduce[['duration', 'hour']])\n",
    "kmeans.cluster_centers_\n",
    "\n",
    "plt.scatter(x = df_plot_dur_reduce['hour'], y = df_plot_dur_reduce['duration'])\n",
    "plt.scatter(x = kmeans.cluster_centers_[0][0], y = kmeans.cluster_centers_[0][1])\n",
    "plt.scatter(x = kmeans.cluster_centers_[1][0], y = kmeans.cluster_centers_[1][1])\n",
    "plt.scatter(x = kmeans.cluster_centers_[2][0], y = kmeans.cluster_centers_[2][1])\n",
    "#plt.scatter(x = kmeans.cluster_centers_[3][0], y = kmeans.cluster_centers_[3][1])"
   ]
  },
  {
   "cell_type": "code",
   "execution_count": 23,
   "metadata": {
    "hidden": true,
    "pycharm": {
     "name": "#%%\n"
    }
   },
   "outputs": [
    {
     "name": "stderr",
     "output_type": "stream",
     "text": [
      "<ipython-input-23-f40a219968fe>:2: SettingWithCopyWarning: \n",
      "A value is trying to be set on a copy of a slice from a DataFrame.\n",
      "Try using .loc[row_indexer,col_indexer] = value instead\n",
      "\n",
      "See the caveats in the documentation: https://pandas.pydata.org/pandas-docs/stable/user_guide/indexing.html#returning-a-view-versus-a-copy\n",
      "  df_plot_july_december['month'] = df_plot_july_december['month'].cat.remove_categories(['June', 'August', 'September', 'October', 'November'])\n"
     ]
    },
    {
     "data": {
      "text/plain": [
       "<seaborn.axisgrid.FacetGrid at 0x176c0a14790>"
      ]
     },
     "execution_count": 23,
     "metadata": {},
     "output_type": "execute_result"
    },
    {
     "data": {
      "image/png": "[encoded data removed]",
      "text/plain": [
       "<Figure size 447.625x360 with 1 Axes>"
      ]
     },
     "metadata": {
      "needs_background": "light"
     },
     "output_type": "display_data"
    }
   ],
   "source": [
    "df_plot_july_december = df_plot_dur_reduce[df_plot_dur_reduce['month'].isin(['July', 'December'])]\n",
    "df_plot_july_december['month'] = df_plot_july_december['month'].cat.remove_categories(['June', 'August', 'September', 'October', 'November'])\n",
    "sns.displot(df_plot_july_december, x = 'duration', binwidth = 1, hue = 'month', element = 'step')"
   ]
  },
  {
   "cell_type": "code",
   "execution_count": 24,
   "metadata": {
    "hidden": true,
    "pycharm": {
     "name": "#%%\n"
    }
   },
   "outputs": [
    {
     "data": {
      "text/plain": [
       "<seaborn.axisgrid.FacetGrid at 0x176b2f70a00>"
      ]
     },
     "execution_count": 24,
     "metadata": {},
     "output_type": "execute_result"
    },
    {
     "data": {
      "image/png": "[encoded data removed]",
      "text/plain": [
       "<Figure size 447.625x360 with 1 Axes>"
      ]
     },
     "metadata": {
      "needs_background": "light"
     },
     "output_type": "display_data"
    }
   ],
   "source": [
    "sns.displot(df_plot_july_december, x = 'duration', hue = 'month', kind = 'kde', fill = 'true', cut = 0)"
   ]
  },
  {
   "cell_type": "code",
   "execution_count": 25,
   "metadata": {
    "hidden": true,
    "pycharm": {
     "name": "#%%\n"
    }
   },
   "outputs": [
    {
     "data": {
      "text/plain": [
       "<seaborn.axisgrid.FacetGrid at 0x176bcf81730>"
      ]
     },
     "execution_count": 25,
     "metadata": {},
     "output_type": "execute_result"
    },
    {
     "data": {
      "image/png": "[encoded data removed]",
      "text/plain": [
       "<Figure size 450.75x360 with 1 Axes>"
      ]
     },
     "metadata": {
      "needs_background": "light"
     },
     "output_type": "display_data"
    }
   ],
   "source": [
    "sns.displot(df_plot, x = 'hour', hue = 'month', kind = 'kde', fill = 'true', cut = 0)"
   ]
  },
  {
   "cell_type": "code",
   "execution_count": 26,
   "metadata": {
    "hidden": true,
    "pycharm": {
     "name": "#%%\n"
    }
   },
   "outputs": [
    {
     "data": {
      "text/plain": [
       "<seaborn.axisgrid.FacetGrid at 0x176bcf92310>"
      ]
     },
     "execution_count": 26,
     "metadata": {},
     "output_type": "execute_result"
    },
    {
     "data": {
      "image/png": "[encoded data removed]",
      "text/plain": [
       "<Figure size 360x360 with 1 Axes>"
      ]
     },
     "metadata": {
      "needs_background": "light"
     },
     "output_type": "display_data"
    }
   ],
   "source": [
    "sns.displot(df_plot_dur_reduce, x = 'duration', binwidth = 2)\n"
   ]
  },
  {
   "cell_type": "code",
   "execution_count": 27,
   "metadata": {
    "hidden": true,
    "pycharm": {
     "name": "#%%\n"
    }
   },
   "outputs": [
    {
     "data": {
      "text/html": [
       "<div>\n",
       "<style scoped>\n",
       "    .dataframe tbody tr th:only-of-type {\n",
       "        vertical-align: middle;\n",
       "    }\n",
       "\n",
       "    .dataframe tbody tr th {\n",
       "        vertical-align: top;\n",
       "    }\n",
       "\n",
       "    .dataframe thead th {\n",
       "        text-align: right;\n",
       "    }\n",
       "</style>\n",
       "<table border=\"1\" class=\"dataframe\">\n",
       "  <thead>\n",
       "    <tr style=\"text-align: right;\">\n",
       "      <th></th>\n",
       "      <th>duration</th>\n",
       "      <th>start_station_num</th>\n",
       "      <th>end_station_num</th>\n",
       "      <th>bike_number</th>\n",
       "      <th>hour</th>\n",
       "    </tr>\n",
       "    <tr>\n",
       "      <th>month</th>\n",
       "      <th></th>\n",
       "      <th></th>\n",
       "      <th></th>\n",
       "      <th></th>\n",
       "      <th></th>\n",
       "    </tr>\n",
       "  </thead>\n",
       "  <tbody>\n",
       "    <tr>\n",
       "      <th>July</th>\n",
       "      <td>323370</td>\n",
       "      <td>780723675.0</td>\n",
       "      <td>768646870.0</td>\n",
       "      <td>14186458510</td>\n",
       "      <td>290110</td>\n",
       "    </tr>\n",
       "    <tr>\n",
       "      <th>December</th>\n",
       "      <td>187553</td>\n",
       "      <td>627294733.0</td>\n",
       "      <td>625863133.0</td>\n",
       "      <td>10926263544</td>\n",
       "      <td>196970</td>\n",
       "    </tr>\n",
       "  </tbody>\n",
       "</table>\n",
       "</div>"
      ],
      "text/plain": [
       "          duration  start_station_num  end_station_num  bike_number    hour\n",
       "month                                                                      \n",
       "July        323370        780723675.0      768646870.0  14186458510  290110\n",
       "December    187553        627294733.0      625863133.0  10926263544  196970"
      ]
     },
     "execution_count": 27,
     "metadata": {},
     "output_type": "execute_result"
    }
   ],
   "source": [
    "df_plot_july_december.groupby('month').sum()"
   ]
  },
  {
   "cell_type": "code",
   "execution_count": 28,
   "metadata": {
    "hidden": true,
    "pycharm": {
     "name": "#%%\n"
    }
   },
   "outputs": [
    {
     "data": {
      "text/plain": [
       "<AxesSubplot:xlabel='hour', ylabel='duration'>"
      ]
     },
     "execution_count": 28,
     "metadata": {},
     "output_type": "execute_result"
    },
    {
     "data": {
      "image/png": "[encoded data removed]",
      "text/plain": [
       "<Figure size 432x288 with 2 Axes>"
      ]
     },
     "metadata": {
      "needs_background": "light"
     },
     "output_type": "display_data"
    }
   ],
   "source": [
    "sns.heatmap(pd.crosstab(df_plot_dur_reduce['duration'], df_plot_dur_reduce['hour']), cmap = 'YlOrBr')"
   ]
  },
  {
   "cell_type": "markdown",
   "metadata": {
    "heading_collapsed": true
   },
   "source": [
    "## Station Analysis"
   ]
  },
  {
   "cell_type": "code",
   "execution_count": 29,
   "metadata": {
    "hidden": true,
    "pycharm": {
     "name": "#%%\n"
    }
   },
   "outputs": [],
   "source": [
    "# Station\n",
    "\n",
    "start_station_count = df_plot.groupby('start_station_name')['start_station_name'].count()"
   ]
  },
  {
   "cell_type": "code",
   "execution_count": 30,
   "metadata": {
    "hidden": true,
    "pycharm": {
     "name": "#%%\n"
    }
   },
   "outputs": [
    {
     "data": {
      "text/plain": [
       "end_station_name\n",
       "Almedal                         2421\n",
       "Aminogatan                       162\n",
       "Anders Carlssons gata            922\n",
       "AstraZeneca                      736\n",
       "Bastionsplatsen                    1\n",
       "                                ... \n",
       "Åbymässan                        288\n",
       "Åvägen                          1462\n",
       "Åvägen norra                    3347\n",
       "Östra Hamngatan                 4590\n",
       "Östra Hamngatan/Kronhusgatan    3191\n",
       "Name: end_station_name, Length: 123, dtype: int64"
      ]
     },
     "execution_count": 30,
     "metadata": {},
     "output_type": "execute_result"
    }
   ],
   "source": [
    "end_station_count = df_plot.groupby('end_station_name')['end_station_name'].count()\n",
    "end_station_count"
   ]
  },
  {
   "cell_type": "code",
   "execution_count": 31,
   "metadata": {
    "hidden": true,
    "pycharm": {
     "name": "#%%\n"
    }
   },
   "outputs": [
    {
     "data": {
      "text/plain": [
       "end_station_name\n",
       "Almedal                         2421\n",
       "Aminogatan                       162\n",
       "Anders Carlssons gata            922\n",
       "AstraZeneca                      736\n",
       "Bastionsplatsen                    1\n",
       "                                ... \n",
       "Åbymässan                        288\n",
       "Åvägen                          1462\n",
       "Åvägen norra                    3347\n",
       "Östra Hamngatan                 4590\n",
       "Östra Hamngatan/Kronhusgatan    3191\n",
       "Name: end_station_name, Length: 123, dtype: int64"
      ]
     },
     "execution_count": 31,
     "metadata": {},
     "output_type": "execute_result"
    }
   ],
   "source": [
    "end_station_count"
   ]
  },
  {
   "cell_type": "code",
   "execution_count": 32,
   "metadata": {
    "hidden": true,
    "pycharm": {
     "name": "#%%\n"
    }
   },
   "outputs": [],
   "source": [
    "start_end_count = pd.concat([start_station_count, end_station_count], axis = 1)\n",
    "start_end_count = start_end_count.rename(columns = {'start_station_name': 'total_starts', 'end_station_name' : 'total_ends'})"
   ]
  },
  {
   "cell_type": "code",
   "execution_count": 33,
   "metadata": {
    "hidden": true,
    "pycharm": {
     "name": "#%%\n"
    }
   },
   "outputs": [],
   "source": [
    "start_end_count['total_diff'] = start_end_count['total_starts'] - start_end_count['total_ends']\n",
    "start_end_count['diff_percentage'] = start_end_count['total_diff']/(start_end_count['total_starts'] + start_end_count['total_ends'])"
   ]
  },
  {
   "cell_type": "code",
   "execution_count": 34,
   "metadata": {
    "hidden": true,
    "pycharm": {
     "name": "#%%\n"
    }
   },
   "outputs": [
    {
     "data": {
      "text/html": [
       "<div>\n",
       "<style scoped>\n",
       "    .dataframe tbody tr th:only-of-type {\n",
       "        vertical-align: middle;\n",
       "    }\n",
       "\n",
       "    .dataframe tbody tr th {\n",
       "        vertical-align: top;\n",
       "    }\n",
       "\n",
       "    .dataframe thead th {\n",
       "        text-align: right;\n",
       "    }\n",
       "</style>\n",
       "<table border=\"1\" class=\"dataframe\">\n",
       "  <thead>\n",
       "    <tr style=\"text-align: right;\">\n",
       "      <th></th>\n",
       "      <th>total_starts</th>\n",
       "      <th>total_ends</th>\n",
       "      <th>total_diff</th>\n",
       "      <th>diff_percentage</th>\n",
       "    </tr>\n",
       "  </thead>\n",
       "  <tbody>\n",
       "    <tr>\n",
       "      <th>Grönsakstorget</th>\n",
       "      <td>2209.0</td>\n",
       "      <td>3306.0</td>\n",
       "      <td>-1097.0</td>\n",
       "      <td>-0.198912</td>\n",
       "    </tr>\n",
       "    <tr>\n",
       "      <th>Östra Hamngatan</th>\n",
       "      <td>3243.0</td>\n",
       "      <td>4590.0</td>\n",
       "      <td>-1347.0</td>\n",
       "      <td>-0.171965</td>\n",
       "    </tr>\n",
       "    <tr>\n",
       "      <th>Olof Palmes plats</th>\n",
       "      <td>3513.0</td>\n",
       "      <td>4885.0</td>\n",
       "      <td>-1372.0</td>\n",
       "      <td>-0.163372</td>\n",
       "    </tr>\n",
       "    <tr>\n",
       "      <th>Anders Carlssons gata</th>\n",
       "      <td>664.0</td>\n",
       "      <td>922.0</td>\n",
       "      <td>-258.0</td>\n",
       "      <td>-0.162673</td>\n",
       "    </tr>\n",
       "    <tr>\n",
       "      <th>Olskrokstorget</th>\n",
       "      <td>1709.0</td>\n",
       "      <td>2342.0</td>\n",
       "      <td>-633.0</td>\n",
       "      <td>-0.156258</td>\n",
       "    </tr>\n",
       "    <tr>\n",
       "      <th>Domkyrkan</th>\n",
       "      <td>2892.0</td>\n",
       "      <td>3923.0</td>\n",
       "      <td>-1031.0</td>\n",
       "      <td>-0.151284</td>\n",
       "    </tr>\n",
       "    <tr>\n",
       "      <th>Almedal</th>\n",
       "      <td>1820.0</td>\n",
       "      <td>2421.0</td>\n",
       "      <td>-601.0</td>\n",
       "      <td>-0.141712</td>\n",
       "    </tr>\n",
       "    <tr>\n",
       "      <th>Liseberg station</th>\n",
       "      <td>2251.0</td>\n",
       "      <td>2923.0</td>\n",
       "      <td>-672.0</td>\n",
       "      <td>-0.129880</td>\n",
       "    </tr>\n",
       "    <tr>\n",
       "      <th>Scandinavium</th>\n",
       "      <td>888.0</td>\n",
       "      <td>1151.0</td>\n",
       "      <td>-263.0</td>\n",
       "      <td>-0.128985</td>\n",
       "    </tr>\n",
       "    <tr>\n",
       "      <th>Centralen långtidsparkering</th>\n",
       "      <td>119.0</td>\n",
       "      <td>154.0</td>\n",
       "      <td>-35.0</td>\n",
       "      <td>-0.128205</td>\n",
       "    </tr>\n",
       "  </tbody>\n",
       "</table>\n",
       "</div>"
      ],
      "text/plain": [
       "                             total_starts  total_ends  total_diff  \\\n",
       "Grönsakstorget                     2209.0      3306.0     -1097.0   \n",
       "Östra Hamngatan                    3243.0      4590.0     -1347.0   \n",
       "Olof Palmes plats                  3513.0      4885.0     -1372.0   \n",
       "Anders Carlssons gata               664.0       922.0      -258.0   \n",
       "Olskrokstorget                     1709.0      2342.0      -633.0   \n",
       "Domkyrkan                          2892.0      3923.0     -1031.0   \n",
       "Almedal                            1820.0      2421.0      -601.0   \n",
       "Liseberg station                   2251.0      2923.0      -672.0   \n",
       "Scandinavium                        888.0      1151.0      -263.0   \n",
       "Centralen långtidsparkering         119.0       154.0       -35.0   \n",
       "\n",
       "                             diff_percentage  \n",
       "Grönsakstorget                     -0.198912  \n",
       "Östra Hamngatan                    -0.171965  \n",
       "Olof Palmes plats                  -0.163372  \n",
       "Anders Carlssons gata              -0.162673  \n",
       "Olskrokstorget                     -0.156258  \n",
       "Domkyrkan                          -0.151284  \n",
       "Almedal                            -0.141712  \n",
       "Liseberg station                   -0.129880  \n",
       "Scandinavium                       -0.128985  \n",
       "Centralen långtidsparkering        -0.128205  "
      ]
     },
     "execution_count": 34,
     "metadata": {},
     "output_type": "execute_result"
    }
   ],
   "source": [
    "start_end_count.sort_values(by='diff_percentage').head(10)"
   ]
  },
  {
   "cell_type": "code",
   "execution_count": 36,
   "metadata": {
    "hidden": true,
    "pycharm": {
     "name": "#%%\n"
    }
   },
   "outputs": [
    {
     "data": {
      "text/plain": [
       "Index(['Almedal', 'Aminogatan', 'Anders Carlssons gata', 'AstraZeneca',\n",
       "       'Bastionsplatsen', 'Bergakungen', 'Bergslagsgatan', 'Bifrost',\n",
       "       'Bohusgatan', 'Botaniska trädgården',\n",
       "       ...\n",
       "       'Wavrinskys plats', 'Wieselgrensplatsen', 'workshop - needs repair',\n",
       "       'workshop - outgoing bikes', 'Åby Arenastad', 'Åbymässan', 'Åvägen',\n",
       "       'Åvägen norra', 'Östra Hamngatan', 'Östra Hamngatan/Kronhusgatan'],\n",
       "      dtype='object', name='start_station_name', length=121)"
      ]
     },
     "execution_count": 36,
     "metadata": {},
     "output_type": "execute_result"
    }
   ],
   "source": [
    "start_station_count.index"
   ]
  },
  {
   "cell_type": "code",
   "execution_count": 37,
   "metadata": {
    "hidden": true,
    "pycharm": {
     "name": "#%%\n"
    }
   },
   "outputs": [
    {
     "ename": "IndexError",
     "evalue": "invalid index to scalar variable.",
     "output_type": "error",
     "traceback": [
      "\u001b[1;31m---------------------------------------------------------------------------\u001b[0m",
      "\u001b[1;31mIndexError\u001b[0m                                Traceback (most recent call last)",
      "\u001b[1;32m<ipython-input-37-54906480678a>\u001b[0m in \u001b[0;36m<module>\u001b[1;34m\u001b[0m\n\u001b[0;32m      5\u001b[0m \u001b[0mpopular_stations\u001b[0m \u001b[1;33m=\u001b[0m \u001b[0mset\u001b[0m\u001b[1;33m.\u001b[0m\u001b[0mintersection\u001b[0m\u001b[1;33m(\u001b[0m\u001b[0mset\u001b[0m\u001b[1;33m(\u001b[0m\u001b[0mpopular_start_station\u001b[0m\u001b[1;33m.\u001b[0m\u001b[0mindex\u001b[0m\u001b[1;33m)\u001b[0m\u001b[1;33m,\u001b[0m \u001b[0mset\u001b[0m\u001b[1;33m(\u001b[0m\u001b[0mpopular_end_station\u001b[0m\u001b[1;33m.\u001b[0m\u001b[0mindex\u001b[0m\u001b[1;33m)\u001b[0m\u001b[1;33m)\u001b[0m\u001b[1;33m\u001b[0m\u001b[1;33m\u001b[0m\u001b[0m\n\u001b[0;32m      6\u001b[0m \u001b[1;32mfor\u001b[0m \u001b[0mstation\u001b[0m \u001b[1;32min\u001b[0m \u001b[0mpopular_stations\u001b[0m\u001b[1;33m:\u001b[0m\u001b[1;33m\u001b[0m\u001b[1;33m\u001b[0m\u001b[0m\n\u001b[1;32m----> 7\u001b[1;33m     \u001b[0mprint\u001b[0m\u001b[1;33m(\u001b[0m\u001b[0mstart_station_count\u001b[0m\u001b[1;33m.\u001b[0m\u001b[0mloc\u001b[0m\u001b[1;33m[\u001b[0m\u001b[0mstation\u001b[0m\u001b[1;33m]\u001b[0m\u001b[1;33m[\u001b[0m\u001b[1;36m0\u001b[0m\u001b[1;33m]\u001b[0m\u001b[1;33m)\u001b[0m\u001b[1;33m\u001b[0m\u001b[1;33m\u001b[0m\u001b[0m\n\u001b[0m\u001b[0;32m      8\u001b[0m     \u001b[0mprint\u001b[0m\u001b[1;33m(\u001b[0m\u001b[0mend_station_count\u001b[0m\u001b[1;33m.\u001b[0m\u001b[0mloc\u001b[0m\u001b[1;33m[\u001b[0m\u001b[0mstation\u001b[0m\u001b[1;33m]\u001b[0m\u001b[1;33m[\u001b[0m\u001b[1;36m0\u001b[0m\u001b[1;33m]\u001b[0m\u001b[1;33m)\u001b[0m\u001b[1;33m\u001b[0m\u001b[1;33m\u001b[0m\u001b[0m\n\u001b[0;32m      9\u001b[0m     \u001b[0mplt\u001b[0m\u001b[1;33m.\u001b[0m\u001b[0mplot\u001b[0m\u001b[1;33m(\u001b[0m\u001b[1;33m[\u001b[0m\u001b[1;33m(\u001b[0m\u001b[0mstart_station_count\u001b[0m\u001b[1;33m.\u001b[0m\u001b[0mloc\u001b[0m\u001b[1;33m[\u001b[0m\u001b[0mstation\u001b[0m\u001b[1;33m]\u001b[0m\u001b[1;33m[\u001b[0m\u001b[1;36m0\u001b[0m\u001b[1;33m]\u001b[0m\u001b[1;33m)\u001b[0m\u001b[1;33m,\u001b[0m \u001b[1;33m(\u001b[0m\u001b[0mend_station_count\u001b[0m\u001b[1;33m.\u001b[0m\u001b[0mloc\u001b[0m\u001b[1;33m[\u001b[0m\u001b[0mstation\u001b[0m\u001b[1;33m]\u001b[0m\u001b[1;33m[\u001b[0m\u001b[1;36m0\u001b[0m\u001b[1;33m]\u001b[0m\u001b[1;33m)\u001b[0m\u001b[1;33m]\u001b[0m\u001b[1;33m,\u001b[0m \u001b[0mmarker\u001b[0m \u001b[1;33m=\u001b[0m \u001b[1;34m'o'\u001b[0m\u001b[1;33m,\u001b[0m \u001b[0mlabel\u001b[0m \u001b[1;33m=\u001b[0m \u001b[0mstation\u001b[0m\u001b[1;33m)\u001b[0m\u001b[1;33m\u001b[0m\u001b[1;33m\u001b[0m\u001b[0m\n",
      "\u001b[1;31mIndexError\u001b[0m: invalid index to scalar variable."
     ]
    }
   ],
   "source": [
    "popular_start_station = df_plot.groupby('start_station_name').count().sort_values(by = 'start_station_num', ascending=False).head(10)\n",
    "popular_end_station = df_plot.groupby('end_station_name').count().sort_values(by = 'end_station_num', ascending=False).head(10)\n",
    "\n",
    "\n",
    "popular_stations = set.intersection(set(popular_start_station.index), set(popular_end_station.index))\n",
    "for station in popular_stations:\n",
    "    print(start_station_count.loc[station][0])\n",
    "    print(end_station_count.loc[station][0])\n",
    "    plt.plot([(start_station_count.loc[station][0]), (end_station_count.loc[station][0])], marker = 'o', label = station)\n",
    "plt.xticks([0, 0.2, 0.4, 0.6, 0.8, 1.0], ['Start trip here', '', '', '', '', 'End trip here'])\n",
    "plt.legend()"
   ]
  },
  {
   "cell_type": "code",
   "execution_count": null,
   "metadata": {
    "hidden": true,
    "pycharm": {
     "name": "#%%\n"
    }
   },
   "outputs": [],
   "source": [
    "d = start_end_count.sort_values(by='diff_percentage').head(10)"
   ]
  },
  {
   "cell_type": "code",
   "execution_count": null,
   "metadata": {
    "hidden": true,
    "pycharm": {
     "name": "#%%\n"
    }
   },
   "outputs": [],
   "source": [
    "for station in d.index:\n",
    "    plt.plot([d.loc[station][0], d.loc[station][1]], marker = 'o', label = station)\n",
    "plt.xticks([0, 0.2, 0.4, 0.6, 0.8, 1.0], ['Start trip here', '', '', '', '', 'End trip here'])\n",
    "plt.legend()"
   ]
  },
  {
   "cell_type": "code",
   "execution_count": null,
   "metadata": {
    "hidden": true,
    "pycharm": {
     "name": "#%%\n"
    }
   },
   "outputs": [],
   "source": [
    "df_plot['hour'].min()"
   ]
  },
  {
   "cell_type": "code",
   "execution_count": 40,
   "metadata": {
    "hidden": true,
    "pycharm": {
     "name": "#%%\n"
    }
   },
   "outputs": [
    {
     "data": {
      "image/png": "[encoded data removed]",
      "text/plain": [
       "<Figure size 432x288 with 1 Axes>"
      ]
     },
     "metadata": {
      "needs_background": "light"
     },
     "output_type": "display_data"
    }
   ],
   "source": [
    "def filter_data(h_start = 0, h_end = 23, sort_order = 'diff_percentage', min_trips = 0, num_results = 3,input_df = df_plot):\n",
    "    data = input_df[(input_df['hour'] >= h_start) & (input_df['hour'] <= h_end)]\n",
    "    start_station = data.groupby('start_station_name')['start_station_name'].count()\n",
    "    start_station = start_station.where(start_station > min_trips).dropna()\n",
    "    end_station = data.groupby('end_station_name')['end_station_name'].count()\n",
    "    end_station = end_station.where(end_station > min_trips).dropna()\n",
    "    start_end = pd.concat([start_station, end_station], axis = 1)\n",
    "    start_end = start_end.rename(columns = {'start_station_name': 'total_starts', 'end_station_name' : 'total_ends'})\n",
    "    start_end['total_diff'] = start_end['total_starts'] - start_end['total_ends']\n",
    "    start_end['diff_percentage'] = start_end['total_diff']/(start_end['total_starts'] + start_end['total_ends'])\n",
    "\n",
    "    # TODO Should NA be dropped? Or replace it with zero? Need domain expertise resarch\n",
    "    popular_start =  start_end.sort_values(by=sort_order).dropna().head(num_results)\n",
    "    popular_end = start_end.sort_values(by=sort_order).dropna().tail(num_results)\n",
    "    popular_stations = list(popular_start.index) + list(popular_end.index)\n",
    "\n",
    "    # TODO Quick and Dirty solution for color increase, but this could be done much better!\n",
    "    color_increase = ['aqua', 'deepskyblue', 'dodgerblue', 'cornflowerblue', 'powderblue']\n",
    "    color_decrease = ['peru', 'chocolate', 'orange', 'gold', 'khaki']\n",
    "\n",
    "    color_increase_index = 0\n",
    "    color_decrease_index = 0\n",
    "    for station in popular_stations:\n",
    "        if start_end.loc[station][0] > start_end.loc[station][1]:\n",
    "            plt.plot([(start_end.loc[station][0]), (start_end.loc[station][1])], marker = 'o', label = station, linestyle = '--', color = color_increase[color_increase_index])\n",
    "            color_increase_index += 1\n",
    "        else:\n",
    "            plt.plot([(start_end.loc[station][0]), (start_end.loc[station][1])], marker = 'o', label = station, color = color_decrease[color_decrease_index])\n",
    "            color_decrease_index += 1\n",
    "        plt.xticks([0, 0.2, 0.4, 0.6, 0.8, 1.0], ['Start trip here', '', '', '', '', 'End trip here'])\n",
    "        plt.legend()\n",
    "        plt.title(f'Start and End between {h_start} and {h_end}')\n",
    "\n",
    "\n",
    "filter_data(h_start = 18, h_end = 21, min_trips = 10, num_results= 5, sort_order= 'total_diff')"
   ]
  },
  {
   "cell_type": "code",
   "execution_count": 41,
   "metadata": {
    "hidden": true
   },
   "outputs": [
    {
     "data": {
      "image/png": "[encoded data removed]",
      "text/plain": [
       "<Figure size 432x288 with 1 Axes>"
      ]
     },
     "metadata": {
      "needs_background": "light"
     },
     "output_type": "display_data"
    }
   ],
   "source": [
    "#Complete opposite, what are using trafic to go from or go to this city. \n",
    "filter_data(h_start = 6, h_end = 9, min_trips = 10, num_results= 5, sort_order= 'total_diff')"
   ]
  }
 ],
 "metadata": {
  "kernelspec": {
   "display_name": "Python 3",
   "language": "python",
   "name": "python3"
  },
  "language_info": {
   "codemirror_mode": {
    "name": "ipython",
    "version": 3
   },
   "file_extension": ".py",
   "mimetype": "text/x-python",
   "name": "python",
   "nbconvert_exporter": "python",
   "pygments_lexer": "ipython3",
   "version": "3.8.5"
  },
  "toc": {
   "base_numbering": 1,
   "nav_menu": {},
   "number_sections": true,
   "sideBar": true,
   "skip_h1_title": false,
   "title_cell": "Table of Contents",
   "title_sidebar": "Contents",
   "toc_cell": false,
   "toc_position": {},
   "toc_section_display": true,
   "toc_window_display": false
  },
  "varInspector": {
   "cols": {
    "lenName": 16,
    "lenType": 16,
    "lenVar": 40
   },
   "kernels_config": {
    "python": {
     "delete_cmd_postfix": "",
     "delete_cmd_prefix": "del ",
     "library": "var_list.py",
     "varRefreshCmd": "print(var_dic_list())"
    },
    "r": {
     "delete_cmd_postfix": ") ",
     "delete_cmd_prefix": "rm(",
     "library": "var_list.r",
     "varRefreshCmd": "cat(var_dic_list()) "
    }
   },
   "types_to_exclude": [
    "module",
    "function",
    "builtin_function_or_method",
    "instance",
    "_Feature"
   ],
   "window_display": false
  }
 },
 "nbformat": 4,
 "nbformat_minor": 4
}
